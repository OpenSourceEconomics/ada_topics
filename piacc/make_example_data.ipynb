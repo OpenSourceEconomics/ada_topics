{
 "cells": [
  {
   "cell_type": "code",
   "execution_count": null,
   "metadata": {},
   "outputs": [],
   "source": [
    "import pandas as pd\n",
    "\n",
    "pd.options.mode.copy_on_write = True\n",
    "pd.options.future.infer_string = True\n",
    "pd.options.plotting.backend = \"plotly\""
   ]
  },
  {
   "cell_type": "code",
   "execution_count": null,
   "metadata": {},
   "outputs": [],
   "source": [
    "full = pd.read_feather(\"PIAAC_selected.arrow\")"
   ]
  },
  {
   "cell_type": "code",
   "execution_count": null,
   "metadata": {},
   "outputs": [],
   "source": [
    "def set_country(sr):\n",
    "    cats = pd.CategoricalDtype(sr.unique().to_numpy(), ordered=False)\n",
    "    return sr.astype(cats)"
   ]
  },
  {
   "cell_type": "code",
   "execution_count": null,
   "metadata": {},
   "outputs": [],
   "source": [
    "def at_least_once_a_month_to_one(sr):\n",
    "    cats = [\n",
    "        \"Less than once a week but at least once a month\",\n",
    "        \"At least once a week but not every day\",\n",
    "        \"Every day\",\n",
    "    ]\n",
    "    return sr.isin(cats).astype(pd.Float64Dtype())"
   ]
  },
  {
   "cell_type": "code",
   "execution_count": null,
   "metadata": {},
   "outputs": [],
   "source": [
    "all_vars = [\"country\", \"age_group\", \"sk_computer\", \"sk_programming\"]\n",
    "_tmp = full.query(\"country in ['United States', 'Netherlands', 'Germany', 'Austria']\")\n",
    "_tmp = _tmp[all_vars].dropna(how=\"all\", axis=\"index\")\n",
    "four_countries = pd.DataFrame(index=_tmp.index)\n",
    "four_countries[\"country\"] = set_country(_tmp[\"country\"])\n",
    "four_countries[\"age_group\"] = _tmp[\"age_group\"]\n",
    "four_countries[\"sk_computer\"] = _tmp[\"sk_computer\"]\n",
    "four_countries[\"sk_programming\"] = _tmp[\"sk_programming\"]\n",
    "four_countries[\"programs_monthly\"] = at_least_once_a_month_to_one(\n",
    "    _tmp[\"sk_programming\"],\n",
    ")"
   ]
  },
  {
   "cell_type": "markdown",
   "metadata": {},
   "source": [
    "### Means of computer usage / programming by country, tiny example "
   ]
  },
  {
   "cell_type": "code",
   "execution_count": null,
   "metadata": {},
   "outputs": [],
   "source": [
    "groupby_cols = [\"country\"]\n",
    "cat_cols = [\"sk_computer\", \"programs_monthly\"]\n",
    "_grouped = four_countries[groupby_cols + cat_cols].groupby(\"country\")\n",
    "means_by_country = pd.DataFrame(index=_grouped.count().index)\n",
    "means_by_country[\"sk_computer\"] = (\n",
    "    _grouped[\"sk_computer\"].value_counts().xs(key=\"Yes\", level=\"sk_computer\")\n",
    "    / _grouped[\"sk_computer\"].count()\n",
    ")\n",
    "means_by_country[\"programs_monthly\"] = _grouped[\"programs_monthly\"].mean()\n",
    "means_by_country[[\"sk_computer\", \"programs_monthly\"]].to_feather(\n",
    "    \"piaac_computer_programming_by_country.arrow\",\n",
    ")\n",
    "means_by_country"
   ]
  },
  {
   "cell_type": "code",
   "execution_count": null,
   "metadata": {},
   "outputs": [],
   "source": [
    "# # Need this to remove other countries from dtype"
   ]
  },
  {
   "cell_type": "code",
   "execution_count": null,
   "metadata": {},
   "outputs": [],
   "source": [
    "### Age cat, hours of work, computer usage / programming for 20 Germans"
   ]
  },
  {
   "cell_type": "code",
   "execution_count": null,
   "metadata": {},
   "outputs": [],
   "source": [
    "de_20 = (\n",
    "    full.query(\"country == 'Germany' & age_group in ['Aged 30-34', 'Aged 55-59']\")\n",
    "    .sample(20, random_state=4)\n",
    "    .reset_index(drop=True)[\n",
    "        [\"age_group\", \"gender\", \"hours_per_week\", \"sk_computer\", \"sk_programming\"]\n",
    "    ]\n",
    ")\n",
    "de_20.to_feather(\"piaac_de_20.arrow\")\n",
    "de_20"
   ]
  },
  {
   "cell_type": "code",
   "execution_count": null,
   "metadata": {},
   "outputs": [],
   "source": []
  },
  {
   "cell_type": "code",
   "execution_count": null,
   "metadata": {},
   "outputs": [],
   "source": []
  }
 ],
 "metadata": {
  "language_info": {
   "codemirror_mode": {
    "name": "ipython",
    "version": 3
   },
   "file_extension": ".py",
   "mimetype": "text/x-python",
   "name": "python",
   "nbconvert_exporter": "python",
   "pygments_lexer": "ipython3"
  }
 },
 "nbformat": 4,
 "nbformat_minor": 2
}
