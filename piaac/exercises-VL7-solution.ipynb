{
 "cells": [
  {
   "cell_type": "markdown",
   "metadata": {},
   "source": [
    "# Aufgaben für Vorlesung 7\n",
    "\n",
    "Wir nutzen die [PIAAC Daten](https://www.oecd.org/skills/piaac/data/), welche die Fähigkeiten von Erwachsenen in insgesamt 24 Ländern messen. In diesem Notebook konzentrieren wir uns auf Daten aus **Frankreich**."
   ]
  },
  {
   "cell_type": "code",
   "execution_count": null,
   "metadata": {},
   "outputs": [],
   "source": [
    "import pandas as pd\n",
    "import statsmodels.formula.api as smf\n",
    "\n",
    "pd.options.mode.copy_on_write = True\n",
    "pd.options.future.infer_string = True\n",
    "pd.options.plotting.backend = \"plotly\""
   ]
  },
  {
   "cell_type": "code",
   "execution_count": null,
   "metadata": {},
   "outputs": [],
   "source": [
    "piaac_fr = pd.read_feather(\"france_labor.arrow\")"
   ]
  },
  {
   "cell_type": "markdown",
   "metadata": {},
   "source": [
    "---\n",
    "## 1. Bivariate Regression mit kontinuierlicher erklärender Variable \n",
    "\n",
    "In unserem ersten Beispiel betrachten wir den linearen Zusammenhang zwischen wöchentlich *gearbeiteten Stunden* und dem *Stundenlohn (inklusive Bonuszahlung)*."
   ]
  },
  {
   "cell_type": "markdown",
   "metadata": {},
   "source": [
    "---\n",
    "### 1.1 OLS mit `statsmodels.formula`"
   ]
  },
  {
   "cell_type": "code",
   "execution_count": null,
   "metadata": {},
   "outputs": [],
   "source": [
    "model1 = smf.ols(formula=\"hourly_earnings_incl_bonus ~ hours_per_week\", data=piaac_fr)\n",
    "results1 = model1.fit()"
   ]
  },
  {
   "cell_type": "code",
   "execution_count": null,
   "metadata": {},
   "outputs": [],
   "source": [
    "print(results1.summary())"
   ]
  },
  {
   "cell_type": "markdown",
   "metadata": {},
   "source": [
    "---\n",
    "### 1.2 Interpretation\n",
    "Interpretieren Sie den geschätzten Koeffizienten der Variable `hours_per_week`."
   ]
  },
  {
   "cell_type": "markdown",
   "metadata": {},
   "source": [
    "!! solution\n",
    "\n",
    "Arbeitnehmer, die eine Stunde pro Woche mehr arbeiten, erhalten im Schnitt 3 Cent mehr Gehalt pro Stunde. Der Effekt ist statistisch signifikant von 0 verschieden zum 5% Niveau. Von einer kausalen Interpretation sollte man bei einem derart einfachen Model Abstand nehmen. Allerdings hat unsere neuste Nobelpreisträgerin *Claudia Goldin* gezeigt, dass manche Branchen lange Arbeitszeiten tatsächlich überproportional belohnen, was wesentlich zum Gender Pay Gap beiträgt. Bei Interesse gerne in ihr [Papier](https://www.aeaweb.org/articles?id=10.1257/aer.104.4.1091) schauen."
   ]
  },
  {
   "cell_type": "markdown",
   "metadata": {},
   "source": [
    "---\n",
    "### 1.3 Visueller Eindruck"
   ]
  },
  {
   "cell_type": "code",
   "execution_count": null,
   "metadata": {},
   "outputs": [],
   "source": [
    "piaac_fr.plot.scatter(x=\"hours_per_week\", y=\"hourly_earnings_incl_bonus\")"
   ]
  },
  {
   "cell_type": "markdown",
   "metadata": {},
   "source": [
    "---\n",
    "## 2. Bivariate Regression mit binärer erklärender Variable\n",
    "\n",
    "Schätzen Sie jetzt erneut ein bivariates Model. Verwenden Sie diesmal eine Indikatorvariable für die Teilnahme an einem Job-Training `took_job_training_binary` als erklärende Variable und dieselbe abhängige Variable."
   ]
  },
  {
   "cell_type": "markdown",
   "metadata": {},
   "source": [
    "---\n",
    "### 2.1 OLS mit `statsmodels.formula`"
   ]
  },
  {
   "cell_type": "code",
   "execution_count": null,
   "metadata": {},
   "outputs": [],
   "source": [
    "## solution\n",
    "\n",
    "model2 = smf.ols(\n",
    "    formula=\"hourly_earnings_incl_bonus ~ took_job_training_binary\",\n",
    "    data=piaac_fr,\n",
    ")\n",
    "results2 = model2.fit()"
   ]
  },
  {
   "cell_type": "code",
   "execution_count": null,
   "metadata": {},
   "outputs": [],
   "source": [
    "print(results2.summary())"
   ]
  },
  {
   "cell_type": "markdown",
   "metadata": {},
   "source": [
    "---\n",
    "### 2.2 Interpretation\n",
    "Interpretieren Sie den geschätzten Koeffizienten der Variable `took_job_training_binary`."
   ]
  },
  {
   "cell_type": "markdown",
   "metadata": {},
   "source": [
    "!! solution\n",
    "\n",
    "Die Arbeitnehmer, die an einem Job-Training teilnehmen, verdienen im Schnitt 1,67€ mehr als die Arbeitnehmer, die nicht an einem solchen Training teilnehmen. Der Lohn-Unterschied zwischen diesen zwei Gruppen ist statistisch signifikant von 0 verschieden zum 1% Niveau. Auch hier sollte man von einer kausalen Interpretation absehen, da die Kausalität beispielsweise auch genau andersherum sein könnte."
   ]
  },
  {
   "cell_type": "markdown",
   "metadata": {},
   "source": [
    "---\n",
    "### 2.3 Visueller Eindruck"
   ]
  },
  {
   "cell_type": "code",
   "execution_count": null,
   "metadata": {},
   "outputs": [],
   "source": [
    "## solution\n",
    "\n",
    "piaac_fr.plot.scatter(x=\"took_job_training_binary\", y=\"hourly_earnings_incl_bonus\")"
   ]
  }
 ],
 "metadata": {
  "language_info": {
   "codemirror_mode": {
    "name": "ipython",
    "version": 3
   },
   "file_extension": ".py",
   "mimetype": "text/x-python",
   "name": "python",
   "nbconvert_exporter": "python",
   "pygments_lexer": "ipython3"
  }
 },
 "nbformat": 4,
 "nbformat_minor": 2
}
