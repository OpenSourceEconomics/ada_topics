{
 "cells": [
  {
   "cell_type": "code",
   "execution_count": null,
   "metadata": {},
   "outputs": [],
   "source": [
    "import numpy as np\n",
    "import pandas as pd\n",
    "\n",
    "pd.options.mode.copy_on_write = True\n",
    "pd.options.future.infer_string = True\n",
    "pd.options.plotting.backend = \"plotly\""
   ]
  },
  {
   "cell_type": "code",
   "execution_count": null,
   "metadata": {},
   "outputs": [],
   "source": [
    "full = pd.read_feather(\"PIAAC_selected.arrow\")"
   ]
  },
  {
   "cell_type": "code",
   "execution_count": null,
   "metadata": {},
   "outputs": [],
   "source": [
    "full.dtypes"
   ]
  },
  {
   "cell_type": "code",
   "execution_count": null,
   "metadata": {},
   "outputs": [],
   "source": [
    "def set_cats(sr, ordered):\n",
    "    cats = pd.CategoricalDtype(sorted(sr.unique().to_numpy()), ordered=ordered)\n",
    "    return sr.astype(cats)"
   ]
  },
  {
   "cell_type": "code",
   "execution_count": null,
   "metadata": {},
   "outputs": [],
   "source": [
    "def at_least_once_a_month_to_one(sr):\n",
    "    cats = [\n",
    "        \"Less than once a week but at least once a month\",\n",
    "        \"At least once a week but not every day\",\n",
    "        \"Every day\",\n",
    "    ]\n",
    "    return sr.isin(cats).astype(pd.Float64Dtype())"
   ]
  },
  {
   "cell_type": "code",
   "execution_count": null,
   "metadata": {},
   "outputs": [],
   "source": [
    "all_vars = [\n",
    "    \"country\",\n",
    "    \"age_group\",\n",
    "    \"gender\",\n",
    "    \"hours_per_week\",\n",
    "    \"use_computer_at_work\",\n",
    "    \"programming_at_work\",\n",
    "]\n",
    "_tmp = full.query(\"country in ['United States', 'Netherlands', 'Germany', 'Austria']\")\n",
    "_tmp = _tmp[all_vars].dropna(how=\"all\", axis=\"index\")\n",
    "four_countries = pd.DataFrame(index=_tmp.index)\n",
    "four_countries[\"country\"] = set_cats(_tmp[\"country\"], ordered=False)\n",
    "four_countries[\"age_group\"] = _tmp[\"age_group\"]\n",
    "four_countries[\"gender\"] = _tmp[\"gender\"]\n",
    "four_countries[\"hours_per_week\"] = _tmp[\"hours_per_week\"]\n",
    "four_countries[\"use_computer_at_work\"] = _tmp[\"use_computer_at_work\"]\n",
    "four_countries[\"programming_at_work\"] = _tmp[\"programming_at_work\"]\n",
    "four_countries[\"programs_monthly\"] = at_least_once_a_month_to_one(\n",
    "    _tmp[\"programming_at_work\"],\n",
    ")"
   ]
  },
  {
   "cell_type": "code",
   "execution_count": null,
   "metadata": {},
   "outputs": [],
   "source": [
    "two_countries = four_countries.query(\"country in ['Germany', 'Netherlands']\")\n",
    "two_countries[\"country\"] = set_cats(two_countries[\"country\"], ordered=False)\n",
    "two_countries"
   ]
  },
  {
   "cell_type": "markdown",
   "metadata": {},
   "source": [
    "### Means of computer usage / programming by country, tiny example \n",
    "\n",
    "- used in bird's eye view of Pandas\n",
    "- used in first statistical steps part"
   ]
  },
  {
   "cell_type": "code",
   "execution_count": null,
   "metadata": {},
   "outputs": [],
   "source": [
    "groupby_cols = [\"country\"]\n",
    "cat_cols = [\"use_computer_at_work\", \"programs_monthly\"]\n",
    "_grouped = four_countries[groupby_cols + cat_cols].groupby(groupby_cols)\n",
    "means_by_country = pd.DataFrame(index=_grouped.count().index)\n",
    "means_by_country[\"use_computer_at_work\"] = (\n",
    "    _grouped[\"use_computer_at_work\"]\n",
    "    .value_counts()\n",
    "    .xs(key=\"Yes\", level=\"use_computer_at_work\")\n",
    "    / _grouped[\"use_computer_at_work\"].count()\n",
    ")\n",
    "means_by_country[\"programs_monthly\"] = _grouped[\"programs_monthly\"].mean()\n",
    "means_by_country[[\"use_computer_at_work\", \"programs_monthly\"]].to_feather(\n",
    "    \"piaac_computer_programming_by_country.arrow\",\n",
    ")\n",
    "means_by_country"
   ]
  },
  {
   "cell_type": "markdown",
   "metadata": {},
   "source": [
    "### Means of some variables by country and age group\n",
    "\n",
    "- used in groupby example\n",
    "- "
   ]
  },
  {
   "cell_type": "code",
   "execution_count": null,
   "metadata": {},
   "outputs": [],
   "source": [
    "groupby_cols = [\"country\", \"age_group\"]\n",
    "cat_cols = [\"use_computer_at_work\", \"programs_monthly\"]\n",
    "\n",
    "selected = two_countries.query(\"age_group in ['Aged 30-34', 'Aged 55-59']\")\n",
    "selected[\"age_group\"] = set_cats(selected[\"age_group\"], ordered=True)\n",
    "\n",
    "_grouped = selected[groupby_cols + cat_cols].groupby(groupby_cols)\n",
    "means_by_country_and_age = pd.DataFrame(index=_grouped.count().index)\n",
    "means_by_country_and_age[\"use_computer_at_work\"] = (\n",
    "    _grouped[\"use_computer_at_work\"]\n",
    "    .value_counts()\n",
    "    .xs(key=\"Yes\", level=\"use_computer_at_work\")\n",
    "    / _grouped[\"use_computer_at_work\"].count()\n",
    ")\n",
    "means_by_country_and_age[\"programs_monthly\"] = _grouped[\"programs_monthly\"].mean()\n",
    "means_by_country_and_age[[\"use_computer_at_work\", \"programs_monthly\"]].to_feather(\n",
    "    \"piaac_computer_programming_by_country_and_age_group.arrow\",\n",
    ")\n",
    "print(means_by_country_and_age.to_html(border=0))"
   ]
  },
  {
   "cell_type": "markdown",
   "metadata": {},
   "source": [
    "### country, gender, hours of work, computer usage / programming for 5 people\n",
    "\n",
    "- Used as example in pandas datatypes lecture"
   ]
  },
  {
   "cell_type": "code",
   "execution_count": null,
   "metadata": {},
   "outputs": [],
   "source": [
    "some_5 = (\n",
    "    four_countries.query(\"programming_at_work.notna()\")\n",
    "    .groupby([\"gender\", \"programming_at_work\"])\n",
    "    .sample(1, random_state=109783751)[\n",
    "        [\n",
    "            \"country\",\n",
    "            \"gender\",\n",
    "            \"hours_per_week\",\n",
    "            \"programming_at_work\",\n",
    "        ]\n",
    "    ]\n",
    "    .dropna(how=\"any\", axis=\"index\")\n",
    "    .sample(5, random_state=495)\n",
    "    .reset_index(drop=True)\n",
    ")\n",
    "some_5.to_feather(\"piaac_some_5.arrow\")\n",
    "some_5[\"country\"] = set_cats(some_5[\"country\"], ordered=False)\n",
    "some_5"
   ]
  },
  {
   "cell_type": "markdown",
   "metadata": {},
   "source": [
    "### Age cat, hours of work, computer usage / programming for 20 Germans\n",
    "\n",
    "- Used as example in first metrics lecture"
   ]
  },
  {
   "cell_type": "code",
   "execution_count": null,
   "metadata": {},
   "outputs": [],
   "source": [
    "de_20 = (\n",
    "    full.query(\"country == 'Germany' & age_group in ['Aged 30-34', 'Aged 55-59']\")\n",
    "    .sample(20, random_state=4)\n",
    "    .reset_index(drop=True)[\n",
    "        [\n",
    "            \"age_group\",\n",
    "            \"gender\",\n",
    "            \"hours_per_week\",\n",
    "            \"use_computer_at_work\",\n",
    "            \"programming_at_work\",\n",
    "        ]\n",
    "    ]\n",
    ")\n",
    "de_20[\"age_group\"] = set_cats(de_20[\"age_group\"], ordered=True)\n",
    "de_20.to_feather(\"piaac_de_20.arrow\")\n",
    "de_20"
   ]
  },
  {
   "cell_type": "markdown",
   "metadata": {},
   "source": [
    "### Tertiary education, and computer experience, computer usage at work (Cross-Country)\n",
    "\n",
    "- Used as example for first statsmodels regression"
   ]
  },
  {
   "cell_type": "code",
   "execution_count": null,
   "metadata": {},
   "outputs": [],
   "source": [
    "full[\"highest_educ\"].unique().tolist()"
   ]
  },
  {
   "cell_type": "code",
   "execution_count": null,
   "metadata": {},
   "outputs": [],
   "source": [
    "piaac_education_and_computer = full.copy()\n",
    "\n",
    "tertiary = [\n",
    "    \"ISCED 5B\",\n",
    "    \"ISCED 5A, master degree\",\n",
    "    \"ISCED 5A, bachelor degree\",\n",
    "    \"ISCED 6\",\n",
    "    \"ISCED 5A bachelor degree, 5A master degree, and 6 (without distinction)\",\n",
    "]\n",
    "nan = [np.nan, \"Foreign qualification\"]\n",
    "\n",
    "piaac_education_and_computer[\"fraction_with_tertiary_education\"] = np.where(\n",
    "    piaac_education_and_computer[\"highest_educ\"].isin(tertiary),\n",
    "    1,\n",
    "    np.where(piaac_education_and_computer[\"highest_educ\"].isin(nan), np.nan, 0),\n",
    ")\n",
    "\n",
    "piaac_education_and_computer[\"fraction_with_general_computer_experience\"] = np.where(\n",
    "    piaac_education_and_computer[\"computer_experience_in_general\"] == \"Yes\",\n",
    "    1,\n",
    "    np.where(\n",
    "        piaac_education_and_computer[\"computer_experience_in_general\"] == \"No\",\n",
    "        0,\n",
    "        np.nan,\n",
    "    ),\n",
    ")\n",
    "\n",
    "piaac_education_and_computer[\"fraction_using_computer_at_work\"] = np.where(\n",
    "    piaac_education_and_computer[\"use_computer_at_work\"] == \"Yes\",\n",
    "    1,\n",
    "    np.where(piaac_education_and_computer[\"use_computer_at_work\"] == \"No\", 0, np.nan),\n",
    ")\n",
    "\n",
    "by_country = piaac_education_and_computer.groupby(\"country\")[\n",
    "    [\n",
    "        \"fraction_with_tertiary_education\",\n",
    "        \"fraction_with_general_computer_experience\",\n",
    "        \"fraction_using_computer_at_work\",\n",
    "    ]\n",
    "].mean()\n",
    "\n",
    "by_country.to_feather(\n",
    "    \"piaac_education_and_computer_usage_by_country.arrow\",\n",
    ")"
   ]
  },
  {
   "cell_type": "code",
   "execution_count": null,
   "metadata": {},
   "outputs": [],
   "source": [
    "by_country_5 = by_country.loc[\n",
    "    [\"Slovak Republic\", \"Austria\", \"Germany\", \"United Kingdom\", \"Norway\"]\n",
    "]\n",
    "by_country_5.to_feather(\n",
    "    \"piaac_education_and_computer_usage_by_country_5.arrow\",\n",
    ")"
   ]
  },
  {
   "cell_type": "markdown",
   "metadata": {},
   "source": [
    "### France: Earnings, hours per week, and job training\n",
    "\n",
    "- used in an exercise during the lecture\n",
    "- regression with continuous and binary independent variable"
   ]
  },
  {
   "cell_type": "code",
   "execution_count": null,
   "metadata": {},
   "outputs": [],
   "source": [
    "france_labor = full.query(\"country=='France'\").copy()\n",
    "\n",
    "france_labor[\"took_job_training_binary\"] = np.where(\n",
    "    france_labor[\"took_job_training\"] == \"Yes\",\n",
    "    1,\n",
    "    np.where(france_labor[\"took_job_training\"] == \"No\", 0, np.nan),\n",
    ")\n",
    "france_labor = france_labor.dropna(\n",
    "    subset=[\"hourly_earnings_incl_bonus\", \"hours_per_week\", \"took_job_training_binary\"],\n",
    ")\n",
    "\n",
    "france_labor.to_feather(\n",
    "    \"france_labor.arrow\",\n",
    ")"
   ]
  }
 ],
 "metadata": {
  "language_info": {
   "codemirror_mode": {
    "name": "ipython",
    "version": 3
   },
   "file_extension": ".py",
   "mimetype": "text/x-python",
   "name": "python",
   "nbconvert_exporter": "python",
   "pygments_lexer": "ipython3"
  }
 },
 "nbformat": 4,
 "nbformat_minor": 2
}
