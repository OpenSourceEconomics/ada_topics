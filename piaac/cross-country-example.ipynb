{
 "cells": [
  {
   "cell_type": "code",
   "execution_count": null,
   "metadata": {},
   "outputs": [],
   "source": [
    "import numpy as np\n",
    "import pandas as pd\n",
    "\n",
    "pd.options.mode.copy_on_write = True\n",
    "pd.options.future.infer_string = True\n",
    "pd.options.plotting.backend = \"plotly\""
   ]
  },
  {
   "cell_type": "code",
   "execution_count": null,
   "metadata": {},
   "outputs": [],
   "source": [
    "import os\n",
    "\n",
    "os.chdir(\"C:/Users/anton/sciebo/Intro Econometrics U Bonn/2023/PIAAC\")"
   ]
  },
  {
   "cell_type": "code",
   "execution_count": null,
   "metadata": {},
   "outputs": [],
   "source": [
    "piaac = pd.read_feather(\"data-prep/piaac_selected.arrow\")"
   ]
  },
  {
   "cell_type": "code",
   "execution_count": null,
   "metadata": {},
   "outputs": [],
   "source": [
    "piaac.columns"
   ]
  },
  {
   "cell_type": "code",
   "execution_count": null,
   "metadata": {},
   "outputs": [],
   "source": [
    "piaac[\"highest_educ\"].unique().tolist()"
   ]
  },
  {
   "cell_type": "code",
   "execution_count": null,
   "metadata": {},
   "outputs": [],
   "source": [
    "education_mapping = {\n",
    "    \"No formal qualification or below ISCED 1\": 0,\n",
    "    \"ISCED 1\": 1,\n",
    "    \"ISCED 2\": 2,\n",
    "    \"ISCED 3 (without distinction A-B-C, 2y+)\": 3,\n",
    "    \"ISCED 3A-B\": 3,\n",
    "    \"ISCED 3C 2 years or more\": 3,\n",
    "    \"ISCED 3C shorter than 2 years\": 3,\n",
    "    \"ISCED 4A-B\": 4,\n",
    "    \"ISCED 4 (without distinction A-B-C)\": 4,\n",
    "    \"ISCED 4C\": 4,\n",
    "    \"ISCED 5B\": 5,\n",
    "    \"ISCED 5A, master degree\": 5,\n",
    "    \"ISCED 5A, bachelor degree\": 5,\n",
    "    \"ISCED 5A bachelor degree, 5A master degree, and 6 (without distinction)\": 5,\n",
    "    \"ISCED 6\": 6,\n",
    "    \"Foreign qualification\": np.nan,\n",
    "}\n",
    "tertiary = [\n",
    "    \"ISCED 5B\",\n",
    "    \"ISCED 5A, master degree\",\n",
    "    \"ISCED 5A, bachelor degree\",\n",
    "    \"ISCED 6\",\n",
    "    \"ISCED 5A bachelor degree, 5A master degree, and 6 (without distinction)\",\n",
    "]\n",
    "nan = [np.nan, \"Foreign qualification\"]"
   ]
  },
  {
   "cell_type": "code",
   "execution_count": null,
   "metadata": {},
   "outputs": [],
   "source": [
    "piaac[\"tertiary_educ\"] = np.where(\n",
    "    piaac[\"highest_educ\"].isin(tertiary),\n",
    "    1,\n",
    "    np.where(piaac[\"highest_educ\"].isin(nan), np.nan, 0),\n",
    ")\n",
    "\n",
    "piaac[\"computer_experience_in_general_binary\"] = np.where(\n",
    "    piaac[\"computer_experience_in_general\"] == \"Yes\",\n",
    "    1,\n",
    "    np.where(piaac[\"computer_experience_in_general\"] == \"No\", 0, np.nan),\n",
    ")\n",
    "\n",
    "piaac[\"use_computer_at_work_binary\"] = np.where(\n",
    "    piaac[\"use_computer_at_work\"] == \"Yes\",\n",
    "    1,\n",
    "    np.where(piaac[\"use_computer_at_work\"] == \"No\", 0, np.nan),\n",
    ")"
   ]
  },
  {
   "cell_type": "code",
   "execution_count": null,
   "metadata": {},
   "outputs": [],
   "source": [
    "piaac[[\"use_computer_at_work\", \"use_computer_at_work_binary\"]]"
   ]
  },
  {
   "cell_type": "code",
   "execution_count": null,
   "metadata": {},
   "outputs": [],
   "source": [
    "piaac.use_computer_at_work"
   ]
  },
  {
   "cell_type": "code",
   "execution_count": null,
   "metadata": {},
   "outputs": [],
   "source": [
    "piaac[\"educ_level\"] = piaac[\"highest_educ\"].map(education_mapping)"
   ]
  },
  {
   "cell_type": "code",
   "execution_count": null,
   "metadata": {},
   "outputs": [],
   "source": [
    "piaac[[\"highest_educ\", \"tertiary_educ\"]].head()"
   ]
  },
  {
   "cell_type": "code",
   "execution_count": null,
   "metadata": {},
   "outputs": [],
   "source": [
    "piaac_country_av = piaac.groupby(\"country\")[\n",
    "    [\n",
    "        \"tertiary_educ\",\n",
    "        \"computer_experience_in_general_binary\",\n",
    "        \"use_computer_at_work_binary\",\n",
    "    ]\n",
    "].mean()"
   ]
  },
  {
   "cell_type": "code",
   "execution_count": null,
   "metadata": {},
   "outputs": [],
   "source": [
    "piaac_country_av"
   ]
  },
  {
   "cell_type": "code",
   "execution_count": null,
   "metadata": {},
   "outputs": [],
   "source": [
    "piaac_country_av.reset_index().country.value_counts()"
   ]
  },
  {
   "cell_type": "code",
   "execution_count": null,
   "metadata": {},
   "outputs": [],
   "source": [
    "fig = piaac_country_av.reset_index().plot.scatter(\n",
    "    x=\"tertiary_educ\",\n",
    "    y=\"computer_experience_in_general_binary\",\n",
    "    text=\"country\",\n",
    ")\n",
    "fig.update_traces(textposition=\"top center\")\n",
    "fig.show()"
   ]
  },
  {
   "cell_type": "code",
   "execution_count": null,
   "metadata": {},
   "outputs": [],
   "source": [
    "fig = piaac_country_av.reset_index().plot.scatter(\n",
    "    x=\"tertiary_educ\",\n",
    "    y=\"use_computer_at_work_binary\",\n",
    "    text=\"country\",\n",
    ")\n",
    "fig.update_traces(textposition=\"top center\")\n",
    "fig.show()"
   ]
  }
 ],
 "metadata": {
  "language_info": {
   "codemirror_mode": {
    "name": "ipython",
    "version": 3
   },
   "file_extension": ".py",
   "mimetype": "text/x-python",
   "name": "python",
   "nbconvert_exporter": "python",
   "pygments_lexer": "ipython3"
  }
 },
 "nbformat": 4,
 "nbformat_minor": 2
}
