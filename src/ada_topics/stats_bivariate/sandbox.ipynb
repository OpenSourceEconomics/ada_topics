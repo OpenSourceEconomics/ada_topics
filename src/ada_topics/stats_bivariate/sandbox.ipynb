{
 "cells": [
  {
   "cell_type": "code",
   "execution_count": null,
   "metadata": {},
   "outputs": [],
   "source": [
    "import numpy as np\n",
    "import pandas as pd\n",
    "import plotly.express as px\n",
    "import plotly.graph_objects as go\n",
    "import plotly.io as pio\n",
    "\n",
    "rng = np.random.default_rng(19454)\n",
    "\n",
    "pd.options.plotting.backend = \"plotly\"\n",
    "pio.templates.default = \"plotly_dark+presentation\""
   ]
  },
  {
   "cell_type": "markdown",
   "metadata": {},
   "source": [
    "# Contingency"
   ]
  },
  {
   "cell_type": "code",
   "execution_count": null,
   "metadata": {},
   "outputs": [],
   "source": [
    "df = pd.DataFrame(\n",
    "    {\n",
    "        \"x\": [\"c\", \"a\", \"b\", \"a\", \"b\", \"b\"],\n",
    "        \"y\": [\n",
    "            \"R\",\n",
    "            \"S\",\n",
    "            \"S\",\n",
    "            \"T\",\n",
    "            \"R\",\n",
    "            \"S\",\n",
    "        ],\n",
    "    }\n",
    ")\n",
    "print(df.to_markdown())"
   ]
  },
  {
   "cell_type": "code",
   "execution_count": null,
   "metadata": {},
   "outputs": [],
   "source": [
    "print(df[\"x\"].value_counts().sort_index().to_markdown())"
   ]
  },
  {
   "cell_type": "code",
   "execution_count": null,
   "metadata": {},
   "outputs": [],
   "source": [
    "print(df[\"y\"].value_counts().sort_index().to_markdown())"
   ]
  },
  {
   "cell_type": "code",
   "execution_count": null,
   "metadata": {},
   "outputs": [],
   "source": [
    "print(pd.crosstab(df[\"x\"], df[\"y\"]).to_markdown())"
   ]
  },
  {
   "cell_type": "code",
   "execution_count": null,
   "metadata": {},
   "outputs": [],
   "source": [
    "fig_discrete = df.plot.scatter(x=df[\"x\"], y=df[\"y\"])\n",
    "fig_discrete.write_image(\"strategies/screencast/public/fig_discrete.svg\")\n",
    "fig_discrete"
   ]
  },
  {
   "cell_type": "code",
   "execution_count": null,
   "metadata": {},
   "outputs": [],
   "source": [
    "fig_heatmap_small = px.imshow(pd.crosstab(df[\"x\"], df[\"y\"]))\n",
    "fig_heatmap_small.write_image(\"strategies/screencast/public/fig_heatmap_small.svg\")\n",
    "fig_heatmap_small.show()"
   ]
  },
  {
   "cell_type": "code",
   "execution_count": null,
   "metadata": {},
   "outputs": [],
   "source": [
    "# Initialize the DataFrame\n",
    "columns = [\"poor\", \"fair\", \"good\", \"very good\", \"excellent\"]\n",
    "index = range(11)\n",
    "\n",
    "# Create a base array with desired peak and decay\n",
    "data = np.zeros((11, 5), dtype=int)\n",
    "\n",
    "# Set the peak value\n",
    "data[8, 3] = 5000  # \"very good\", index 8\n",
    "\n",
    "# Apply decay in both dimensions\n",
    "for i in range(11):\n",
    "    for j in range(5):\n",
    "        # Calculate decay based on distance from the peak (8 for index, 3 for column)\n",
    "        distance_from_peak = abs(i - 8) + abs(j - 3)\n",
    "        data[i, j] = max(0, 5000 - (distance_from_peak * 500))\n",
    "\n",
    "# Fill in the rest of the DataFrame with random counts for spots that are not zero\n",
    "for i in range(11):\n",
    "    for j in range(5):\n",
    "        data[i, j] = max(rng.integers(1, 100), data[i, j] + rng.integers(0, 1000))\n",
    "\n",
    "# Create DataFrame\n",
    "df = pd.DataFrame(data, columns=columns, index=index)\n",
    "\n",
    "\n",
    "print(df.to_markdown())"
   ]
  },
  {
   "cell_type": "code",
   "execution_count": null,
   "metadata": {},
   "outputs": [],
   "source": [
    "fig_heatmap_large = px.imshow(df)\n",
    "fig_heatmap_large.update_yaxes(autorange=True)\n",
    "fig_heatmap_large.write_image(\"strategies/screencast/public/fig_heatmap_large.svg\")\n",
    "fig_heatmap_large.show()"
   ]
  },
  {
   "cell_type": "code",
   "execution_count": null,
   "metadata": {},
   "outputs": [],
   "source": [
    "fig_heatmap_large_w_labels = px.imshow(df, text_auto=True)\n",
    "fig_heatmap_large_w_labels.update_yaxes(autorange=True)\n",
    "fig_heatmap_large_w_labels.write_image(\n",
    "    \"strategies/screencast/public/fig_heatmap_large_w_labels.svg\"\n",
    ")\n",
    "fig_heatmap_large_w_labels.show()"
   ]
  },
  {
   "cell_type": "markdown",
   "metadata": {},
   "source": [
    "# Continuous data"
   ]
  },
  {
   "cell_type": "code",
   "execution_count": null,
   "metadata": {},
   "outputs": [],
   "source": [
    "n_draws = [100, 10_000]\n",
    "dfs = {\n",
    "    n: pd.DataFrame(\n",
    "        rng.multivariate_normal([0, 0], [[1, 0.3], [0.3, 1]], n),\n",
    "        columns=[\"x\", \"y\"],\n",
    "    )\n",
    "    for n in n_draws\n",
    "}"
   ]
  },
  {
   "cell_type": "code",
   "execution_count": null,
   "metadata": {},
   "outputs": [],
   "source": [
    "print(dfs[100].head(3).to_markdown())\n",
    "print(*([\"|\"] * 4), sep=\" ... \")\n",
    "print(\"\\n\".join(dfs[100].tail(3).to_markdown().split(\"\\n\")[2:]))"
   ]
  },
  {
   "cell_type": "code",
   "execution_count": null,
   "metadata": {},
   "outputs": [],
   "source": [
    "figs = {n: dfs[n].plot.scatter(x=\"x\", y=\"y\") for n in n_draws}"
   ]
  },
  {
   "cell_type": "code",
   "execution_count": null,
   "metadata": {},
   "outputs": [],
   "source": [
    "[\n",
    "    fig.update_layout(\n",
    "        xaxis_range=[-5, 5],\n",
    "        yaxis_range=[-5, 5],\n",
    "    ).write_image(f\"strategies/screencast/public/fig_continuous_{n}.svg\")\n",
    "    for n, fig in figs.items()\n",
    "]"
   ]
  },
  {
   "cell_type": "markdown",
   "metadata": {},
   "source": [
    "# Discrete + continuos "
   ]
  },
  {
   "cell_type": "code",
   "execution_count": null,
   "metadata": {},
   "outputs": [],
   "source": [
    "n = [1_000]\n",
    "df = pd.DataFrame(\n",
    "    rng.multivariate_normal(\n",
    "        [0, 0.3, -0.2], [[1, 0.3, -0.2], [0.3, 1, 0.7], [-0.2, 0.7, 1]], n\n",
    "    ),\n",
    "    columns=[\"a\", \"b\", \"c\"],\n",
    ").melt(var_name=\"x\", value_name=\"y\")"
   ]
  },
  {
   "cell_type": "code",
   "execution_count": null,
   "metadata": {},
   "outputs": [],
   "source": [
    "fig_dc = df.plot.scatter(x=\"x\", y=\"y\")\n",
    "fig_dc.write_image(\"strategies/screencast/public/fig_dc.svg\")\n",
    "fig_dc"
   ]
  },
  {
   "cell_type": "code",
   "execution_count": null,
   "metadata": {},
   "outputs": [],
   "source": [
    "fig_box = df.plot.box(x=\"x\", y=\"y\")\n",
    "fig_box.write_image(\"strategies/screencast/public/fig_box.svg\")\n",
    "fig_box"
   ]
  },
  {
   "cell_type": "code",
   "execution_count": null,
   "metadata": {},
   "outputs": [],
   "source": [
    "fig_violin = px.violin(df, x=\"x\", y=\"y\")\n",
    "fig_violin.write_image(\"strategies/screencast/public/fig_violin.svg\")\n",
    "fig_violin"
   ]
  },
  {
   "cell_type": "markdown",
   "metadata": {},
   "source": [
    "# Covariance|"
   ]
  },
  {
   "cell_type": "code",
   "execution_count": null,
   "metadata": {},
   "outputs": [],
   "source": [
    "tiny = pd.DataFrame({\"A\": [2, 4, 6], \"B\": [1, 3, 8]})"
   ]
  },
  {
   "cell_type": "code",
   "execution_count": null,
   "metadata": {},
   "outputs": [],
   "source": [
    "print(tiny.to_markdown(index=False))"
   ]
  },
  {
   "cell_type": "code",
   "execution_count": null,
   "metadata": {},
   "outputs": [],
   "source": [
    "fig_orig = tiny.plot.scatter(x=\"A\", y=\"B\")\n",
    "fig_orig.write_image(\"covariance/screencast/public/fig_orig.svg\")\n",
    "fig_orig"
   ]
  },
  {
   "cell_type": "code",
   "execution_count": null,
   "metadata": {},
   "outputs": [],
   "source": [
    "tiny[\"A - 4\"] = tiny[\"A\"] - 4\n",
    "tiny[\"B - 4\"] = tiny[\"B\"] - 4\n",
    "tiny[\"(A - 4)(B - 4)\"] = tiny[\"A - 4\"] * tiny[\"B - 4\"]\n",
    "print(tiny.to_markdown(index=False))"
   ]
  },
  {
   "cell_type": "code",
   "execution_count": null,
   "metadata": {},
   "outputs": [],
   "source": [
    "tiny_exchanged = tiny[[\"A\", \"B\"]].copy()\n",
    "tiny_exchanged[\"B\"] = [8, 3, 1]\n",
    "print(tiny_exchanged.to_markdown(index=False))"
   ]
  },
  {
   "cell_type": "code",
   "execution_count": null,
   "metadata": {},
   "outputs": [],
   "source": [
    "fig_exchanged = tiny_exchanged.plot.scatter(x=\"A\", y=\"B\")\n",
    "fig_exchanged.write_image(\"covariance/screencast/public/fig_exchanged.svg\")\n",
    "fig_exchanged"
   ]
  },
  {
   "cell_type": "code",
   "execution_count": null,
   "metadata": {},
   "outputs": [],
   "source": [
    "tiny_exchanged[\"A - 4\"] = tiny_exchanged[\"A\"] - 4\n",
    "tiny_exchanged[\"B - 4\"] = tiny_exchanged[\"B\"] - 4\n",
    "tiny_exchanged[\"(A - 4)(B - 4)\"] = tiny_exchanged[\"A - 4\"] * tiny_exchanged[\"B - 4\"]\n",
    "print(tiny_exchanged.to_markdown(index=False))"
   ]
  },
  {
   "cell_type": "markdown",
   "metadata": {},
   "source": [
    "# Correlations"
   ]
  },
  {
   "cell_type": "code",
   "execution_count": null,
   "metadata": {},
   "outputs": [],
   "source": [
    "c = 30\n",
    "np.array([[0.1**2, c / 100], [c / 100, 10**2]]).shape\n",
    "np.linalg.cholesky(np.array([[0.1**2, c / 100], [c / 100, 10**2]]))"
   ]
  },
  {
   "cell_type": "code",
   "execution_count": null,
   "metadata": {},
   "outputs": [],
   "source": [
    "corrs = [90, 30, 0, -70, -99]\n",
    "chols = {\n",
    "    c: np.linalg.cholesky(np.array([[0.1**2, c / 100], [c / 100, 10**2]]))\n",
    "    for c in corrs\n",
    "}\n",
    "means = np.array([1.05, -10])\n",
    "dfs = {\n",
    "    c: pd.DataFrame(\n",
    "        means + (chols[c] @ rng.multivariate_normal([0, 0], [[1, 0], [0, 1]], 100).T).T,\n",
    "        columns=[\"x\", \"y\"],\n",
    "    )\n",
    "    for c in corrs\n",
    "}"
   ]
  },
  {
   "cell_type": "code",
   "execution_count": null,
   "metadata": {},
   "outputs": [],
   "source": [
    "for c, df in dfs.items():\n",
    "    fig = df.plot.scatter(x=\"x\", y=\"y\")\n",
    "    fig.update_layout(\n",
    "        xaxis_range=[0.71, 1.39],\n",
    "        yaxis_range=[-44, 24],\n",
    "        showlegend=False,\n",
    "        title=f\"Correlation: {c/100:.2g}\",\n",
    "    )\n",
    "    fig.write_image(f\"correlation/screencast/public/fig_{c}.svg\")\n",
    "    fig.show()\n",
    "    if c == 30:\n",
    "        fig.add_trace(\n",
    "            go.Scatter(\n",
    "                x=[1.05],\n",
    "                y=[-10],\n",
    "                mode=\"markers\",\n",
    "                marker={\"size\": 20, \"color\": \"red\"},\n",
    "            )\n",
    "        )\n",
    "        fig.write_image(f\"correlation/screencast/public/fig_dot_{c}.svg\")\n",
    "        fig.show()"
   ]
  },
  {
   "cell_type": "code",
   "execution_count": null,
   "metadata": {},
   "outputs": [],
   "source": [
    "dfs[c].describe()"
   ]
  },
  {
   "cell_type": "code",
   "execution_count": null,
   "metadata": {},
   "outputs": [],
   "source": [
    "c = 30\n",
    "df = dfs[c].copy()\n",
    "df -= means\n",
    "df"
   ]
  },
  {
   "cell_type": "code",
   "execution_count": null,
   "metadata": {},
   "outputs": [],
   "source": [
    "fig_demeaned = df.plot.scatter(x=\"x\", y=\"y\")\n",
    "fig_demeaned.add_trace(\n",
    "    go.Scatter(\n",
    "        x=[0],\n",
    "        y=[0],\n",
    "        mode=\"markers\",\n",
    "        marker={\"size\": 20, \"color\": \"red\"},\n",
    "    )\n",
    ")\n",
    "fig_demeaned.update_layout(\n",
    "    xaxis_range=[-0.34, 0.34],\n",
    "    yaxis_range=[-34, 34],\n",
    "    showlegend=False,\n",
    "    title=f\"Correlation: {c/100:.1f}, demeaned x and y\",\n",
    ")\n",
    "fig_demeaned.write_image(\"correlation/screencast/public/fig_demeaned.svg\")\n",
    "fig_demeaned.show()"
   ]
  },
  {
   "cell_type": "code",
   "execution_count": null,
   "metadata": {},
   "outputs": [],
   "source": [
    "df /= pd.Series({\"x\": 0.1, \"y\": 10})\n",
    "fig_standardised = df.plot.scatter(x=\"x\", y=\"y\")\n",
    "fig_standardised.add_trace(\n",
    "    go.Scatter(\n",
    "        x=[0],\n",
    "        y=[0],\n",
    "        mode=\"markers\",\n",
    "        marker={\"size\": 20, \"color\": \"red\"},\n",
    "    )\n",
    ")\n",
    "fig_standardised.update_layout(\n",
    "    xaxis_range=[-3.4, 3.4],\n",
    "    yaxis_range=[-3.4, 3.4],\n",
    "    showlegend=False,\n",
    "    title=f\"Correlation: {c/100:.1f}, demeaned/unit variance x and y\",\n",
    ")\n",
    "fig_standardised.write_image(\"correlation/screencast/public/fig_standardised.svg\")\n",
    "fig_standardised.show()"
   ]
  },
  {
   "cell_type": "code",
   "execution_count": null,
   "metadata": {},
   "outputs": [],
   "source": [
    "np.diag(chols[30])"
   ]
  },
  {
   "cell_type": "code",
   "execution_count": null,
   "metadata": {},
   "outputs": [],
   "source": []
  }
 ],
 "metadata": {
  "language_info": {
   "codemirror_mode": {
    "name": "ipython",
    "version": 3
   },
   "file_extension": ".py",
   "mimetype": "text/x-python",
   "name": "python",
   "nbconvert_exporter": "python",
   "pygments_lexer": "ipython3"
  }
 },
 "nbformat": 4,
 "nbformat_minor": 2
}
