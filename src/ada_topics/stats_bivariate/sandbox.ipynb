{
 "cells": [
  {
   "cell_type": "code",
   "execution_count": null,
   "metadata": {},
   "outputs": [],
   "source": [
    "import numpy as np\n",
    "import pandas as pd\n",
    "import plotly.io as pio\n",
    "\n",
    "pd.options.plotting.backend = \"plotly\"\n",
    "pio.templates.default = \"plotly_dark+presentation\""
   ]
  },
  {
   "cell_type": "markdown",
   "metadata": {},
   "source": [
    "# Contingency"
   ]
  },
  {
   "cell_type": "code",
   "execution_count": null,
   "metadata": {},
   "outputs": [],
   "source": [
    "df = pd.DataFrame(\n",
    "    {\n",
    "        \"x\": [\"c\", \"a\", \"b\", \"a\", \"b\", \"b\"],\n",
    "        \"y\": [\n",
    "            \"R\",\n",
    "            \"S\",\n",
    "            \"S\",\n",
    "            \"T\",\n",
    "            \"R\",\n",
    "            \"S\",\n",
    "        ],\n",
    "    }\n",
    ")\n",
    "print(df.to_markdown())"
   ]
  },
  {
   "cell_type": "code",
   "execution_count": null,
   "metadata": {},
   "outputs": [],
   "source": [
    "print(df[\"x\"].value_counts().sort_index().to_markdown())"
   ]
  },
  {
   "cell_type": "code",
   "execution_count": null,
   "metadata": {},
   "outputs": [],
   "source": [
    "print(df[\"y\"].value_counts().sort_index().to_markdown())"
   ]
  },
  {
   "cell_type": "code",
   "execution_count": null,
   "metadata": {},
   "outputs": [],
   "source": [
    "print(pd.crosstab(df[\"x\"], df[\"y\"]).to_markdown())"
   ]
  },
  {
   "cell_type": "code",
   "execution_count": null,
   "metadata": {},
   "outputs": [],
   "source": [
    "fig_discrete = df.plot.scatter(x=df[\"x\"], y=df[\"y\"])\n",
    "fig_discrete.write_image(\"contingency/screencast/public/fig_discrete.svg\")\n",
    "fig_discrete"
   ]
  },
  {
   "cell_type": "markdown",
   "metadata": {},
   "source": [
    "# Continuous data"
   ]
  },
  {
   "cell_type": "code",
   "execution_count": null,
   "metadata": {},
   "outputs": [],
   "source": [
    "n_draws = [100, 10_000]\n",
    "dfs = {\n",
    "    n: pd.DataFrame(\n",
    "        np.random.multivariate_normal([0, 0], [[1, 0.3], [0.3, 1]], n),\n",
    "        columns=[\"x\", \"y\"],\n",
    "    )\n",
    "    for n in n_draws\n",
    "}"
   ]
  },
  {
   "cell_type": "markdown",
   "metadata": {},
   "source": [
    "Again, the `value_counts` method has the same behaviour as above. Note, however, that it\n",
    "is not very helpful to summarize the data. In this case, only one value occurs twice,\n",
    "all others occur only once. Hence, the Series with the value counts has only one element\n",
    "less than the original Series, which hardly counts as a summary."
   ]
  },
  {
   "cell_type": "code",
   "execution_count": null,
   "metadata": {},
   "outputs": [],
   "source": [
    "figs = {n: dfs[n].plot.scatter(x=\"x\", y=\"y\") for n in n_draws}"
   ]
  },
  {
   "cell_type": "code",
   "execution_count": null,
   "metadata": {},
   "outputs": [],
   "source": [
    "[\n",
    "    fig.update_layout(\n",
    "        xaxis_range=[-5, 5],\n",
    "        yaxis_range=[-5, 5],\n",
    "    ).write_image(f\"contingency/screencast/public/fig_continuous_{n}.svg\")\n",
    "    for n, fig in figs.items()\n",
    "]"
   ]
  },
  {
   "cell_type": "markdown",
   "metadata": {},
   "source": [
    "# Discrete, ordered data"
   ]
  },
  {
   "cell_type": "code",
   "execution_count": null,
   "metadata": {},
   "outputs": [],
   "source": [
    "discrete = pd.Series([1, 1, 2, 5, 1, 5], name=\"dis\")\n",
    "discrete"
   ]
  },
  {
   "cell_type": "markdown",
   "metadata": {},
   "source": [
    "The `value_counts` method has the same behaviour as above."
   ]
  },
  {
   "cell_type": "code",
   "execution_count": null,
   "metadata": {},
   "outputs": [],
   "source": [
    "discrete.value_counts()"
   ]
  },
  {
   "cell_type": "markdown",
   "metadata": {},
   "source": [
    "The plots now look like for continous data — there is no gap between the bars and the x-axis is continuous. Whether that makes sense for your application is up to you to decide."
   ]
  },
  {
   "cell_type": "code",
   "execution_count": null,
   "metadata": {},
   "outputs": [],
   "source": [
    "discrete.plot.hist()"
   ]
  },
  {
   "cell_type": "markdown",
   "metadata": {},
   "source": [
    "If you only want to see all unique outcomes, a simple way to get that into the visualisation is to increase the number of bins:"
   ]
  },
  {
   "cell_type": "code",
   "execution_count": null,
   "metadata": {},
   "outputs": [],
   "source": [
    "discrete.plot.hist(nbins=5)"
   ]
  },
  {
   "cell_type": "markdown",
   "metadata": {},
   "source": [
    "We can achieve a similar result to the categorical data by making a bar chart out value\n",
    "counts. Note that this keeps empty space for 3 and 4."
   ]
  },
  {
   "cell_type": "code",
   "execution_count": null,
   "metadata": {},
   "outputs": [],
   "source": [
    "discrete.value_counts().plot.bar()"
   ]
  },
  {
   "cell_type": "markdown",
   "metadata": {},
   "source": [
    "Again, we can swap the axes as this is the most readable way for such data."
   ]
  },
  {
   "cell_type": "code",
   "execution_count": null,
   "metadata": {},
   "outputs": [],
   "source": [
    "discrete.value_counts().plot.bar(orientation=\"h\")"
   ]
  },
  {
   "cell_type": "markdown",
   "metadata": {},
   "source": [
    "Alternatively"
   ]
  },
  {
   "cell_type": "code",
   "execution_count": null,
   "metadata": {},
   "outputs": [],
   "source": [
    "discrete.value_counts().plot.barh()"
   ]
  }
 ],
 "metadata": {
  "language_info": {
   "codemirror_mode": {
    "name": "ipython",
    "version": 3
   },
   "file_extension": ".py",
   "mimetype": "text/x-python",
   "name": "python",
   "nbconvert_exporter": "python",
   "pygments_lexer": "ipython3"
  }
 },
 "nbformat": 4,
 "nbformat_minor": 2
}
