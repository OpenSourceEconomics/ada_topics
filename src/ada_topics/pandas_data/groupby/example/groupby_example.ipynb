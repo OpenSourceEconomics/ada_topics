{
 "cells": [
  {
   "cell_type": "code",
   "execution_count": null,
   "metadata": {},
   "outputs": [],
   "source": [
    "import pandas as pd\n",
    "\n",
    "pd.options.mode.copy_on_write = True\n",
    "pd.options.future.infer_string = False\n",
    "pd.options.plotting.backend = \"plotly\""
   ]
  },
  {
   "cell_type": "code",
   "execution_count": null,
   "metadata": {},
   "outputs": [],
   "source": [
    "data = pd.read_stata(\"merged_PIAAC.dta\", convert_categoricals=True)"
   ]
  },
  {
   "cell_type": "code",
   "execution_count": null,
   "metadata": {},
   "outputs": [],
   "source": [
    "varlist = [\n",
    "    \"cntryid\",\n",
    "    \"gender_r\",\n",
    "    \"ageg5lfs\",\n",
    "    \"b_q01a\",\n",
    "    \"b_q12c\",\n",
    "    \"b_q12e\",\n",
    "    \"b_q12g\",\n",
    "    \"c_q01a\",\n",
    "    \"c_q02a\",\n",
    "    \"c_d05\",\n",
    "    \"d_q06a\",\n",
    "    \"d_q08a\",\n",
    "    \"d_q10\",\n",
    "    \"d_q14\",\n",
    "    \"d_q16a\",\n",
    "    \"d_q16b\",\n",
    "    \"g_q01d\",\n",
    "    \"g_q03f\",\n",
    "    \"g_q04\",\n",
    "    \"g_q05g\",\n",
    "    \"computerexperience\",\n",
    "]\n",
    "data_selected = data[varlist]"
   ]
  },
  {
   "cell_type": "code",
   "execution_count": null,
   "metadata": {},
   "outputs": [],
   "source": [
    "names = {\n",
    "    \"ageg5lfs\": \"age_g5\",\n",
    "    \"b_q01a\": \"highest_educ\",\n",
    "    \"b_q12c\": \"job_training\",\n",
    "    \"b_q12e\": \"workshops\",\n",
    "    \"b_q12g\": \"priv_lessons\",\n",
    "    \"c_q01a\": \"paid_work\",\n",
    "    \"c_q02a\": \"search_paid_work\",\n",
    "    \"c_d05\": \"empl_status\",\n",
    "    \"d_q06a\": \"empl_size\",\n",
    "    \"d_q08a\": \"supervisor\",\n",
    "    \"d_q10\": \"hours_week\",\n",
    "    \"d_q14\": \"job_satisfaction\",\n",
    "    \"d_q16a\": \"earnings_per_x\",\n",
    "    \"d_q16b\": \"gross_pay\",\n",
    "    \"g_q01d\": \"sk_read_articles\",\n",
    "    \"g_q03f\": \"sk_prepare_graphs\",\n",
    "    \"g_q04\": \"sk_computer\",\n",
    "    \"g_q05g\": \"sk_programming\",\n",
    "}\n",
    "data_selected = data_selected.rename(columns=names)"
   ]
  },
  {
   "cell_type": "code",
   "execution_count": null,
   "metadata": {},
   "outputs": [],
   "source": [
    "data_selected.dropna(axis=\"index\", how=\"all\")"
   ]
  },
  {
   "cell_type": "code",
   "execution_count": null,
   "metadata": {},
   "outputs": [],
   "source": [
    "data_selected[\"sk_programming\"].unique()"
   ]
  },
  {
   "cell_type": "code",
   "execution_count": null,
   "metadata": {},
   "outputs": [],
   "source": [
    "def select_countries(raw, countries):\n",
    "    return raw.query(f\"cntryid in {countries}\").copy()\n",
    "\n",
    "\n",
    "def set_country(sr):\n",
    "    cats = pd.CategoricalDtype(sr.unique(), ordered=False)\n",
    "    return sr.astype(cats)"
   ]
  },
  {
   "cell_type": "code",
   "execution_count": null,
   "metadata": {},
   "outputs": [],
   "source": [
    "def yes_to_one(sr):\n",
    "    return (sr == \"Yes\").astype(pd.Float64Dtype())\n",
    "\n",
    "\n",
    "def at_least_once_a_month_to_one(sr):\n",
    "    cats = [\n",
    "        \"Less than once a week but at least once a month\",\n",
    "        \"At least once a week but not every day\",\n",
    "        \"Every day\",\n",
    "    ]\n",
    "    return sr.isin(cats).astype(pd.Float64Dtype())"
   ]
  },
  {
   "cell_type": "code",
   "execution_count": null,
   "metadata": {},
   "outputs": [],
   "source": [
    "all_vars = [\"cntryid\", \"age_g5\", \"sk_computer\", \"sk_programming\"]\n",
    "_tmp = select_countries(\n",
    "    raw=data_selected,\n",
    "    countries=[\"United States\", \"Netherlands\", \"Germany\", \"Austria\"],\n",
    ")\n",
    "_tmp = _tmp[all_vars].dropna(how=\"all\", axis=\"index\")\n",
    "df = pd.DataFrame(index=_tmp.index)\n",
    "df[\"country\"] = set_country(_tmp[\"cntryid\"])\n",
    "df[\"age_group\"] = _tmp[\"age_g5\"]\n",
    "df[\"sk_computer\"] = _tmp[\"sk_computer\"]\n",
    "df[\"sk_programming\"] = _tmp[\"sk_programming\"]\n",
    "df[\"uses_computer\"] = yes_to_one(df[\"sk_computer\"])\n",
    "df[\"programs_monthly\"] = at_least_once_a_month_to_one(df[\"sk_programming\"])"
   ]
  },
  {
   "cell_type": "code",
   "execution_count": null,
   "metadata": {},
   "outputs": [],
   "source": [
    "tiny_example = (\n",
    "    df[[\"country\", \"uses_computer\", \"programs_monthly\"]].groupby(\"country\").mean()\n",
    ")\n",
    "tiny_example[[\"uses_computer\", \"programs_monthly\"]].to_pickle(\n",
    "    \"piaac_computer_programming_by_country.pkl\",\n",
    ")\n",
    "tiny_example.reset_index().dtypes"
   ]
  },
  {
   "cell_type": "code",
   "execution_count": null,
   "metadata": {},
   "outputs": [],
   "source": [
    "df[\"age_group\"]"
   ]
  },
  {
   "cell_type": "code",
   "execution_count": null,
   "metadata": {},
   "outputs": [],
   "source": [
    "excerpt_country_age = df.loc[[150099, 152382, 133944, 136042]].reset_index(drop=True)\n",
    "excerpt_country_age[\n",
    "    [\"country\", \"age_group\", \"uses_computer\", \"programs_monthly\"]\n",
    "].to_pickle(\"piaac_exerpt_country_age.pkl\")\n",
    "excerpt_country_age[[\"country\", \"age_group\", \"uses_computer\", \"programs_monthly\"]]"
   ]
  },
  {
   "cell_type": "code",
   "execution_count": null,
   "metadata": {},
   "outputs": [],
   "source": [
    "data_selected.to_pickle(\"PIAAC_selected.pkl\")"
   ]
  },
  {
   "cell_type": "code",
   "execution_count": null,
   "metadata": {},
   "outputs": [],
   "source": []
  }
 ],
 "metadata": {
  "language_info": {
   "codemirror_mode": {
    "name": "ipython",
    "version": 3
   },
   "file_extension": ".py",
   "mimetype": "text/x-python",
   "name": "python",
   "nbconvert_exporter": "python",
   "pygments_lexer": "ipython3"
  }
 },
 "nbformat": 4,
 "nbformat_minor": 2
}
