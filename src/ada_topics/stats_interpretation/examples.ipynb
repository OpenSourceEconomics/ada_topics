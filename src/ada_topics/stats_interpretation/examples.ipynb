{
 "cells": [
  {
   "cell_type": "code",
   "execution_count": null,
   "metadata": {},
   "outputs": [],
   "source": [
    "import numpy as np\n",
    "import pandas as pd\n",
    "import plotly.io as pio\n",
    "\n",
    "rng = np.random.default_rng(19454)\n",
    "\n",
    "pd.options.plotting.backend = \"plotly\"\n",
    "pio.templates.default = \"plotly_dark+presentation\""
   ]
  },
  {
   "cell_type": "markdown",
   "metadata": {},
   "source": [
    "# Birth years"
   ]
  },
  {
   "cell_type": "code",
   "execution_count": null,
   "metadata": {},
   "outputs": [],
   "source": [
    "df = pd.DataFrame(\n",
    "    {\n",
    "        \"Jazz Artists\": [\n",
    "            33,\n",
    "            24,\n",
    "            45,\n",
    "            58,\n",
    "            43,\n",
    "            19,\n",
    "            21,\n",
    "            17,\n",
    "            8,\n",
    "            2,\n",
    "        ],\n",
    "        \"Hip Hop Artists\": [\n",
    "            0,\n",
    "            0,\n",
    "            0,\n",
    "            0,\n",
    "            0,\n",
    "            0,\n",
    "            23,\n",
    "            33,\n",
    "            47,\n",
    "            35,\n",
    "        ],\n",
    "    },\n",
    "    index=pd.Index(\n",
    "        [\n",
    "            \"1900s\",\n",
    "            \"1910s\",\n",
    "            \"1920s\",\n",
    "            \"1930s\",\n",
    "            \"1940s\",\n",
    "            \"1950s\",\n",
    "            \"1960s\",\n",
    "            \"1970s\",\n",
    "            \"1980s\",\n",
    "            \"1990s\",\n",
    "        ],\n",
    "        name=\"Decade\",\n",
    "    ),\n",
    ")"
   ]
  },
  {
   "cell_type": "code",
   "execution_count": null,
   "metadata": {},
   "outputs": [],
   "source": [
    "fig_birthyears = (df / df.sum()).plot.bar(barmode=\"group\")\n",
    "fig_birthyears.update_layout(\n",
    "    legend_title=\"\",\n",
    "    xaxis_title=\"Birth decade\",\n",
    "    yaxis_title=\"Fraction of observations\",\n",
    "    yaxis_range=[0, 0.36],\n",
    ")\n",
    "fig_birthyears.write_image(\"selection_one_sided/screencast/public/fig_birthyears.svg\")\n",
    "fig_birthyears"
   ]
  },
  {
   "cell_type": "code",
   "execution_count": null,
   "metadata": {},
   "outputs": [],
   "source": []
  }
 ],
 "metadata": {
  "language_info": {
   "codemirror_mode": {
    "name": "ipython",
    "version": 3
   },
   "file_extension": ".py",
   "mimetype": "text/x-python",
   "name": "python",
   "nbconvert_exporter": "python",
   "pygments_lexer": "ipython3"
  }
 },
 "nbformat": 4,
 "nbformat_minor": 2
}
