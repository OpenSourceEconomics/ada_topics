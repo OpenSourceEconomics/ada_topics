{
 "cells": [
  {
   "attachments": {},
   "cell_type": "markdown",
   "metadata": {},
   "source": [
    "# Example from Finanz- und Sozialpolitik\n",
    "\n"
   ]
  },
  {
   "cell_type": "code",
   "execution_count": null,
   "metadata": {},
   "outputs": [],
   "source": [
    "import numpy as np\n",
    "import pandas as pd\n",
    "import plotly.io as pio\n",
    "from scipy.stats import mielke, norm\n",
    "\n",
    "pio.templates.default = \"plotly_dark+presentation\"\n",
    "\n",
    "pd.options.plotting.backend = \"plotly\""
   ]
  },
  {
   "cell_type": "markdown",
   "metadata": {},
   "source": [
    "# Abstract distributions"
   ]
  },
  {
   "cell_type": "code",
   "execution_count": null,
   "metadata": {},
   "outputs": [],
   "source": [
    "rng = np.random.default_rng(seed=9459974)\n",
    "n = 100000\n",
    "ser = pd.Series(norm.rvs(size=n, random_state=rng))\n",
    "fig = ser.plot.hist(nbins=75, title=\"Symmetric distribution: Mean = median\")\n",
    "fig.update_layout(\n",
    "    showlegend=False,\n",
    "    xaxis_title=\"\",\n",
    "    yaxis_title=\"\",\n",
    ")\n",
    "fig.update_xaxes(\n",
    "    tickvals=[],\n",
    ")\n",
    "fig.update_yaxes(\n",
    "    tickvals=[],\n",
    ")\n",
    "fig.add_vline(x=ser.median(), line_width=3, line_color=\"yellow\")\n",
    "fig.add_vline(x=ser.mean(), line_width=3, line_dash=\"dash\", line_color=\"red\")\n",
    "fig.write_image(\"central_tendency_properties/screencast/public/symmetric.svg\")\n",
    "fig"
   ]
  },
  {
   "cell_type": "code",
   "execution_count": null,
   "metadata": {},
   "outputs": [],
   "source": [
    "scale = 20_394\n",
    "s = 3.8206\n",
    "k = s * 0.756\n",
    "ser = pd.Series(mielke.rvs(k=k, s=s, scale=scale, size=n, random_state=rng))\n",
    "ser = ser[ser < ser.quantile(0.99)]\n",
    "fig = ser.plot.hist(nbins=75, title=\"Right-skewed distribution: Mean > median\")\n",
    "fig.update_layout(\n",
    "    showlegend=False,\n",
    "    xaxis_title=\"\",\n",
    "    yaxis_title=\"\",\n",
    ")\n",
    "fig.update_xaxes(\n",
    "    tickvals=[],\n",
    ")\n",
    "fig.update_yaxes(\n",
    "    tickvals=[],\n",
    ")\n",
    "fig.add_vline(x=ser.median(), line_width=3, line_color=\"yellow\")\n",
    "fig.add_vline(x=ser.mean(), line_width=3, line_color=\"red\")\n",
    "fig.write_image(\"central_tendency_properties/screencast/public/right-skewed.svg\")\n",
    "fig"
   ]
  },
  {
   "cell_type": "markdown",
   "metadata": {},
   "source": [
    "# Fake income data"
   ]
  },
  {
   "cell_type": "code",
   "execution_count": null,
   "metadata": {},
   "outputs": [],
   "source": [
    "rng = np.random.default_rng(seed=4352)\n",
    "\n",
    "n = 100_000"
   ]
  },
  {
   "cell_type": "code",
   "execution_count": null,
   "metadata": {},
   "outputs": [],
   "source": [
    "data = pd.DataFrame(index=pd.RangeIndex(n))"
   ]
  },
  {
   "cell_type": "code",
   "execution_count": null,
   "metadata": {},
   "outputs": [],
   "source": [
    "scale = 20_394\n",
    "s = 3.8206\n",
    "k = s * 0.756\n",
    "data[\"DE\"] = sorted(mielke.rvs(k=k, s=s, scale=scale, size=n, random_state=rng))"
   ]
  },
  {
   "cell_type": "code",
   "execution_count": null,
   "metadata": {},
   "outputs": [],
   "source": [
    "scale = 19_274\n",
    "s = 4.0893\n",
    "k = s * 0.9489\n",
    "data[\"NL\"] = sorted(mielke.rvs(k=k, s=s, scale=scale, size=n, random_state=rng))"
   ]
  },
  {
   "cell_type": "code",
   "execution_count": null,
   "metadata": {},
   "outputs": [],
   "source": [
    "scale = 17_390\n",
    "s = 3.3272\n",
    "k = s * 1.1053\n",
    "data[\"FR\"] = sorted(mielke.rvs(k=k, s=s, scale=scale, size=n, random_state=rng))"
   ]
  },
  {
   "cell_type": "code",
   "execution_count": null,
   "metadata": {},
   "outputs": [],
   "source": [
    "scale = 9_073\n",
    "s = 3.4433\n",
    "k = s * 0.7843\n",
    "data[\"PL\"] = sorted(mielke.rvs(k=k, s=s, scale=scale, size=n, random_state=rng))"
   ]
  },
  {
   "attachments": {},
   "cell_type": "markdown",
   "metadata": {},
   "source": [
    "# Properties and transformations"
   ]
  },
  {
   "cell_type": "code",
   "execution_count": null,
   "metadata": {},
   "outputs": [],
   "source": [
    "de = data.query(\"DE > 1000\")[\"DE\"]"
   ]
  },
  {
   "cell_type": "code",
   "execution_count": null,
   "metadata": {},
   "outputs": [],
   "source": [
    "fig = de.plot.hist(nbins=100, title=\"Distribution of annual disposable income\")\n",
    "fig.update_layout(\n",
    "    showlegend=False,\n",
    "    xaxis_title=\"Annual disposable income in Euros\",\n",
    "    yaxis_title=\"Number of observations\",\n",
    ")\n",
    "fig.write_image(\"central_tendency_properties/screencast/public/income_nbins_100.svg\")\n",
    "fig"
   ]
  },
  {
   "cell_type": "code",
   "execution_count": null,
   "metadata": {},
   "outputs": [],
   "source": [
    "fig.add_vline(x=de.median(), line_width=3, line_color=\"yellow\")\n",
    "fig.add_vline(x=de.mean(), line_width=3, line_color=\"red\")\n",
    "fig.write_image(\n",
    "    \"central_tendency_properties/screencast/public/income_nbins_100_vlines.svg\"\n",
    ")\n",
    "fig"
   ]
  },
  {
   "cell_type": "code",
   "execution_count": null,
   "metadata": {},
   "outputs": [],
   "source": [
    "xtickvals = np.array([3, np.log10(5_000), 4, np.log10(50_000), 5, np.log10(300_000)])\n",
    "fig = np.log10(de).plot.hist(\n",
    "    nbins=100, title=\"Distribution of log annual disposable income\"\n",
    ")\n",
    "fig.update_layout(\n",
    "    showlegend=False,\n",
    "    xaxis_title=\"Annual disposable income in Euros, logarithmic scale\",\n",
    "    yaxis_title=\"Number of observations\",\n",
    ")\n",
    "fig.update_xaxes(tickvals=xtickvals, ticktext=np.round(10**xtickvals, 0))\n",
    "fig.write_image(\n",
    "    \"central_tendency_properties/screencast/public/log_income_nbins_100.svg\"\n",
    ")\n",
    "fig"
   ]
  },
  {
   "cell_type": "code",
   "execution_count": null,
   "metadata": {},
   "outputs": [],
   "source": [
    "fig.add_vline(x=np.log10(de).median(), line_width=3, line_color=\"yellow\")\n",
    "fig.add_vline(x=np.log10(de).mean(), line_width=3, line_color=\"red\")\n",
    "fig.write_image(\n",
    "    \"central_tendency_properties/screencast/public/log_income_nbins_100_vlines.svg\"\n",
    ")\n",
    "fig"
   ]
  },
  {
   "cell_type": "code",
   "execution_count": null,
   "metadata": {},
   "outputs": [],
   "source": [
    "print(\"median:\", np.round(de.median(), -2))\n",
    "print(\"mean:\", np.round(de.mean(), -2))\n",
    "print(\"10 ** (median(log10(x)):\", np.round(10 ** np.log10(de).median(), -2))\n",
    "print(\"10 ** (mean(log10(x)):\", np.round(10 ** np.log10(de).mean(), -2))"
   ]
  },
  {
   "cell_type": "markdown",
   "metadata": {},
   "source": [
    "# Quantiles"
   ]
  },
  {
   "cell_type": "code",
   "execution_count": null,
   "metadata": {},
   "outputs": [],
   "source": [
    "def get_income_dist_fig(ser, append_to_title):\n",
    "    fig = ser[ser < 100_000].plot.hist(\n",
    "        nbins=100, title=\"Distribution of annual disposable income \" + append_to_title\n",
    "    )\n",
    "    fig.update_layout(\n",
    "        showlegend=False,\n",
    "        xaxis_title=\"Annual disposable income in Euros\",\n",
    "        yaxis_title=\"Number of observations\",\n",
    "    )\n",
    "    return fig"
   ]
  },
  {
   "cell_type": "code",
   "execution_count": null,
   "metadata": {},
   "outputs": [],
   "source": [
    "fig = get_income_dist_fig(de, append_to_title=\"\")\n",
    "fig.write_image(\"quantiles/screencast/public/dist.svg\")\n",
    "fig"
   ]
  },
  {
   "cell_type": "code",
   "execution_count": null,
   "metadata": {},
   "outputs": [],
   "source": [
    "fig = get_income_dist_fig(de, append_to_title=\"with median\")\n",
    "fig.add_vline(x=de.median(), line_width=3, line_color=\"yellow\")\n",
    "fig.write_image(\"quantiles/screencast/public/dist_median.svg\")\n",
    "fig"
   ]
  },
  {
   "cell_type": "code",
   "execution_count": null,
   "metadata": {},
   "outputs": [],
   "source": [
    "names_nq = {\n",
    "    \"terciles\": 3,\n",
    "    \"quartiles\": 4,\n",
    "    \"quintiles\": 5,\n",
    "    \"deciles\": 10,\n",
    "    \"percentiles\": 100,\n",
    "}\n",
    "for name, nq in names_nq.items():\n",
    "    line_width = 1 if name == \"percentiles\" else 3\n",
    "    fig = get_income_dist_fig(de, append_to_title=f\"with {name}\")\n",
    "    for q in np.arange(1, nq):\n",
    "        fig.add_vline(x=de.quantile(q / nq), line_width=line_width, line_color=\"yellow\")\n",
    "    fig.write_image(f\"quantiles/screencast/public/dist_{name}.svg\")\n",
    "    fig"
   ]
  }
 ],
 "metadata": {
  "language_info": {
   "codemirror_mode": {
    "name": "ipython",
    "version": 3
   },
   "file_extension": ".py",
   "mimetype": "text/x-python",
   "name": "python",
   "nbconvert_exporter": "python",
   "pygments_lexer": "ipython3"
  }
 },
 "nbformat": 4,
 "nbformat_minor": 4
}
