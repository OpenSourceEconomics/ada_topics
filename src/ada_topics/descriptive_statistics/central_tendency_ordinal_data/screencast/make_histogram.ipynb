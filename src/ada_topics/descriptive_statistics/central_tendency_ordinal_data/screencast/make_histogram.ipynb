{
 "cells": [
  {
   "cell_type": "code",
   "execution_count": null,
   "metadata": {},
   "outputs": [],
   "source": [
    "import pandas as pd\n",
    "import plotly.express as px\n",
    "\n",
    "pd.options.plotting.backend = \"plotly\"\n",
    "\n",
    "values = pd.Series([1.5, 1, 1, 2.5, 1.5, 1, 0.5, 2, 2.5], name=\"Values\")"
   ]
  },
  {
   "cell_type": "code",
   "execution_count": null,
   "metadata": {},
   "outputs": [],
   "source": [
    "values.plot.hist(nbins=5)"
   ]
  },
  {
   "cell_type": "code",
   "execution_count": null,
   "metadata": {},
   "outputs": [],
   "source": [
    "# now plot the frequency of each value with a bar chart\n",
    "fig = px.bar(\n",
    "    values.value_counts().sort_index(),\n",
    "    x=values.value_counts().sort_index().index,\n",
    "    y=values.value_counts().sort_index(),\n",
    ")\n",
    "# change x-axis title\n",
    "fig.update_xaxes(title_text=\"Value\")\n",
    "# change y-axis title\n",
    "fig.update_yaxes(title_text=\"Frequency\")\n",
    "# change background color to light gray\n",
    "fig.update_layout(plot_bgcolor=\"lightgray\")\n",
    "# update size of the plot\n",
    "fig.update_layout(width=620, height=780)\n",
    "# separate the bars\n",
    "fig.update_traces(marker={\"line\": {\"width\": 1, \"color\": \"black\"}})\n",
    "# change color of the bars to light green\n",
    "fig.update_traces(marker_color=\"lightgreen\")\n",
    "# make x go by 0.5\n",
    "fig.update_xaxes(dtick=0.5)\n",
    "# make y go by 1\n",
    "fig.update_yaxes(dtick=1)\n",
    "# save the plot\n",
    "fig.show()\n",
    "# save as png\n",
    "fig.write_image(\"public/mode.png\")"
   ]
  },
  {
   "cell_type": "code",
   "execution_count": null,
   "metadata": {},
   "outputs": [],
   "source": [
    "# make the same plot but add a vertical line at the median\n",
    "\n",
    "# calculate the median\n",
    "median = values.median()\n",
    "\n",
    "# now plot the frequency of each value with a bar chart\n",
    "fig = px.bar(\n",
    "    values.value_counts().sort_index(),\n",
    "    x=values.value_counts().sort_index().index,\n",
    "    y=values.value_counts().sort_index(),\n",
    ")\n",
    "# change x-axis title\n",
    "fig.update_xaxes(title_text=\"Value\")\n",
    "# change y-axis title\n",
    "fig.update_yaxes(title_text=\"Frequency\")\n",
    "# change background color to light gray\n",
    "fig.update_layout(plot_bgcolor=\"lightgray\")\n",
    "# update size of the plot\n",
    "fig.update_layout(width=620, height=780)\n",
    "# separate the bars\n",
    "fig.update_traces(marker={\"line\": {\"width\": 1, \"color\": \"black\"}})\n",
    "# change color of the bars to light green\n",
    "fig.update_traces(marker_color=\"lightgreen\")\n",
    "# make x go by 0.5\n",
    "fig.update_xaxes(dtick=0.5)\n",
    "# make y go by 1\n",
    "fig.update_yaxes(dtick=1)\n",
    "# add vertical line at median\n",
    "fig.add_vline(x=median, line_width=3, line_dash=\"dash\", line_color=\"red\")\n",
    "# save the plot\n",
    "fig.show()\n",
    "# save as png\n",
    "fig.write_image(\"public/median.png\")"
   ]
  },
  {
   "cell_type": "code",
   "execution_count": null,
   "metadata": {},
   "outputs": [],
   "source": [
    "# do the same as above but add a vertical line at the mean\n",
    "\n",
    "# calculate the mean\n",
    "mean = values.mean()\n",
    "\n",
    "# now plot the frequency of each value with a bar chart\n",
    "fig = px.bar(\n",
    "    values.value_counts().sort_index(),\n",
    "    x=values.value_counts().sort_index().index,\n",
    "    y=values.value_counts().sort_index(),\n",
    ")\n",
    "# change x-axis title\n",
    "fig.update_xaxes(title_text=\"Value\")\n",
    "# change y-axis title\n",
    "fig.update_yaxes(title_text=\"Frequency\")\n",
    "# change background color to light gray\n",
    "fig.update_layout(plot_bgcolor=\"lightgray\")\n",
    "# update size of the plot\n",
    "fig.update_layout(width=620, height=780)\n",
    "# separate the bars\n",
    "fig.update_traces(marker={\"line\": {\"width\": 1, \"color\": \"black\"}})\n",
    "# change color of the bars to light green\n",
    "fig.update_traces(marker_color=\"lightgreen\")\n",
    "# make x go by 0.5\n",
    "fig.update_xaxes(dtick=0.5)\n",
    "# make y go by 1\n",
    "fig.update_yaxes(dtick=1)\n",
    "# add vertical line at mean\n",
    "fig.add_vline(x=mean, line_width=3, line_dash=\"dash\", line_color=\"blue\")\n",
    "# save the plot\n",
    "fig.show()\n",
    "# save as png\n",
    "fig.write_image(\"public/mean.png\")"
   ]
  }
 ],
 "metadata": {
  "language_info": {
   "codemirror_mode": {
    "name": "ipython",
    "version": 3
   },
   "file_extension": ".py",
   "mimetype": "text/x-python",
   "name": "python",
   "nbconvert_exporter": "python",
   "pygments_lexer": "ipython3"
  }
 },
 "nbformat": 4,
 "nbformat_minor": 2
}
