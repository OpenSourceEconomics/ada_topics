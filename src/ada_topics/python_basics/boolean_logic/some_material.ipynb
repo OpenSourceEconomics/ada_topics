{
 "cells": [
  {
   "cell_type": "markdown",
   "metadata": {},
   "source": [
    "#### AND and OR operators\n",
    "To solve this part, you will need to use the `and`, the `or` and the `not` logical operators. \n",
    "- The `not` operator returns True if the expressions was False and False if the expression was True.\n",
    "- The `and` and the `or` combine two logical expressions into a single one. \n",
    "    - `and` returns True if both expressions are True, and False otherwise. \n",
    "    - `or` returns True if at least one of the expressions is True, and False otherwise.\n",
    "\n",
    "The table below shows the possible results of the 'not', 'and' and 'or' operators for all possible combinations of two boolean values, a and b:\n",
    "\n",
    "\n"
   ]
  },
  {
   "cell_type": "markdown",
   "metadata": {},
   "source": [
    "### Extra: more logical operators and if statements"
   ]
  },
  {
   "cell_type": "markdown",
   "metadata": {},
   "source": [
    "In this part of the exercise, you can practice with (and learn a bit about) some concepts that were not covered so far in the course. First, let's define some variables. These variables represent the number of fruits you have in your kitchen."
   ]
  },
  {
   "cell_type": "code",
   "execution_count": null,
   "metadata": {},
   "outputs": [],
   "source": [
    "apples = 10\n",
    "pears = 12\n",
    "oranges = 7"
   ]
  },
  {
   "cell_type": "markdown",
   "metadata": {},
   "source": [
    "Since pears are your favorite fruit in the world, you want to write a small script that tells you whether you have more pears than both apples and oranges, even when the numbers change. Define the variable `more_pears` that is True if you have more pears than apples and oranges, and False otherwise."
   ]
  },
  {
   "cell_type": "code",
   "execution_count": null,
   "metadata": {},
   "outputs": [],
   "source": [
    "more_pears = pears > apples and pears > oranges\n",
    "more_pears"
   ]
  },
  {
   "cell_type": "markdown",
   "metadata": {},
   "source": [
    "Now, imagine that you want to be sure that you have at least more pears than either apples or oranges. Define a variable called `more_pears_than_apples_or_oranges` that is True if you have more pears than apples or oranges, and False otherwise."
   ]
  },
  {
   "cell_type": "code",
   "execution_count": null,
   "metadata": {},
   "outputs": [],
   "source": [
    "more_pears_than_apples_or_oranges = pears > apples or pears > oranges\n",
    "more_pears_than_apples_or_oranges"
   ]
  },
  {
   "cell_type": "markdown",
   "metadata": {},
   "source": [
    "#### IF statements"
   ]
  },
  {
   "cell_type": "markdown",
   "metadata": {},
   "source": [
    "Another useful tool that you can use in Python to solve many different problems is the 'if' statement. The 'if' statement is used to execute a block of code only if a certain condition is True. The syntax of the 'if' statement is as follows:\n",
    "\n",
    "```python\n",
    "if condition:\n",
    "    # do A\n",
    "```\n",
    "\n",
    "where condition is a logical expression that can be either True or False. If the condition is True, the code block that follows the 'if' statement will be executed. If the condition is False, the code block will be skipped.\n",
    "\n",
    "If you want to see some more examples of this, [check this small tutorial on logical operators here](https://pieriantraining.com/python-logical-operators-what-is/)."
   ]
  },
  {
   "cell_type": "code",
   "execution_count": null,
   "metadata": {},
   "outputs": [],
   "source": [
    "# example\n",
    "a = 10\n",
    "b = 20\n",
    "\n",
    "if a < b:\n",
    "    print(\"a is less than b\")"
   ]
  },
  {
   "cell_type": "markdown",
   "metadata": {},
   "source": [
    "Now, what you want to do is to get an even better idea of how many fruits you have in your kitchen at a given time. Try to write a small script (one cell), that, no matter the numbers of oranges, apples, and pears you have, prints the name of the fruit that you have the most of. For simplicity, you can assume that you will never have the same number of two different fruits. \n",
    "\n",
    "*Hint*: test your script with different numbers of fruits, by changing the values of the variables."
   ]
  },
  {
   "cell_type": "code",
   "execution_count": null,
   "metadata": {},
   "outputs": [],
   "source": [
    "apples = 10\n",
    "pears = 2\n",
    "oranges = 7"
   ]
  },
  {
   "cell_type": "code",
   "execution_count": null,
   "metadata": {},
   "outputs": [],
   "source": [
    "if apples > pears and apples > oranges:\n",
    "    print(\"apples are the most\")\n",
    "if pears > apples and pears > oranges:\n",
    "    print(\"pears are the most\")\n",
    "if oranges > apples and oranges > pears:\n",
    "    print(\"oranges are the most\")"
   ]
  }
 ],
 "metadata": {
  "language_info": {
   "name": "python"
  }
 },
 "nbformat": 4,
 "nbformat_minor": 2
}
