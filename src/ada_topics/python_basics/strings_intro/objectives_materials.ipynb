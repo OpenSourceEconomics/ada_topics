{
 "cells": [
  {
   "cell_type": "markdown",
   "metadata": {},
   "source": [
    "# String Type\n",
    "\n",
    "## Learning Objectives\n",
    "\n",
    "After working through this topic, you should be able to:\n",
    "\n",
    "- Define a string variable\n",
    "- Perform simple operations with string variables\n",
    "\n",
    "## Materials\n",
    "\n",
    "Here is the [screencast](https://electure.uni-bonn.de/static/mh_default_org/engage-player/xxx). These are the\n",
    "[slides](chapter_template-subchapter_1.pdf).\n",
    "\n",
    "## Quiz"
   ]
  },
  {
   "cell_type": "code",
   "execution_count": null,
   "metadata": {
    "tags": [
     "remove-input"
    ]
   },
   "outputs": [],
   "source": [
    "from jupyterquiz import display_quiz\n",
    "\n",
    "content = [\n",
    "    {\n",
    "        \"question\": (\n",
    "            \"Which of the following operator is well defined for strings in Python?\"\n",
    "        ),\n",
    "        \"type\": \"multiple_choice\",\n",
    "        \"answers\": [\n",
    "            {\n",
    "                \"answer\": \"+\",\n",
    "                \"correct\": True,\n",
    "                \"feedback\": \"This results in a concatenation.\",\n",
    "            },\n",
    "            {\"answer\": \"-\", \"correct\": False, \"feedback\": \"This results in an error.\"},\n",
    "            {\"answer\": \"*\", \"correct\": False, \"feedback\": \"This results in an error.\"},\n",
    "            {\"answer\": \"**\", \"correct\": False, \"feedback\": \"This results in an error.\"},\n",
    "            {\n",
    "                \"answer\": \"==\",\n",
    "                \"correct\": True,\n",
    "                \"feedback\": \"This results in True if the strings are \\\n",
    "                identical (case sensitive).\",\n",
    "            },\n",
    "            {\n",
    "                \"answer\": \">\",\n",
    "                \"correct\": True,\n",
    "                \"feedback\": \"While this operation is well defined, you \\\n",
    "                will never use this since it perform a lexicographical \\\n",
    "                    comparison of the strings.\",\n",
    "            },\n",
    "        ],\n",
    "    },\n",
    "    {\n",
    "        \"question\": (\"Which of the following are attributes of strings?\"),\n",
    "        \"type\": \"many_choice\",\n",
    "        \"answers\": [\n",
    "            {\n",
    "                \"answer\": \"capitalize()\",\n",
    "                \"correct\": True,\n",
    "                \"feedback\": \"This capitalizes the first character of the string.\",\n",
    "            },\n",
    "            {\n",
    "                \"answer\": \"upper()\",\n",
    "                \"correct\": True,\n",
    "                \"feedback\": \"This capitalizes all the letters in the string.\",\n",
    "            },\n",
    "            {\n",
    "                \"answer\": \"lower()\",\n",
    "                \"correct\": True,\n",
    "                \"feedback\": \"This makes all the letters in the string lowercase.\",\n",
    "            },\n",
    "            {\n",
    "                \"answer\": \"bold()\",\n",
    "                \"correct\": False,\n",
    "                \"feedback\": \"This is not an attribute of strings.\",\n",
    "            },\n",
    "        ],\n",
    "    },\n",
    "]\n",
    "display_quiz(content, colors=\"fdsp\")"
   ]
  }
 ],
 "metadata": {
  "language_info": {
   "codemirror_mode": {
    "name": "ipython",
    "version": 3
   },
   "file_extension": ".py",
   "mimetype": "text/x-python",
   "name": "python",
   "nbconvert_exporter": "python",
   "pygments_lexer": "ipython3"
  }
 },
 "nbformat": 4,
 "nbformat_minor": 2
}
