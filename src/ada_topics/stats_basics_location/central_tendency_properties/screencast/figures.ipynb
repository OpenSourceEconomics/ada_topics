{
 "cells": [
  {
   "cell_type": "code",
   "execution_count": null,
   "metadata": {},
   "outputs": [],
   "source": [
    "import pandas as pd\n",
    "import plotly.graph_objects as go\n",
    "\n",
    "pd.options.plotting.backend = \"plotly\"\n",
    "\n",
    "import plotly.io as pio\n",
    "\n",
    "pio.templates.default = \"plotly_dark+presentation\""
   ]
  },
  {
   "cell_type": "code",
   "execution_count": null,
   "metadata": {},
   "outputs": [],
   "source": [
    "age = pd.Series(data=[18, 22, 19, 31])\n",
    "\n",
    "age_dist = age.value_counts()"
   ]
  },
  {
   "cell_type": "code",
   "execution_count": null,
   "metadata": {},
   "outputs": [],
   "source": [
    "fig_bare = age_dist.plot.bar()\n",
    "fig_bare.update_layout(\n",
    "    xaxis_title=\"Age in years\",\n",
    "    yaxis={\n",
    "        \"title\": \"Count\",\n",
    "        \"tickvals\": [0, 1, 2],\n",
    "        \"range\": [0, 1.2],\n",
    "    },\n",
    "    showlegend=False,\n",
    ")\n",
    "fig_bare.write_image(\"public/age_bare.png\")\n",
    "fig_bare.show()"
   ]
  },
  {
   "cell_type": "code",
   "execution_count": null,
   "metadata": {},
   "outputs": [],
   "source": [
    "age.median()"
   ]
  },
  {
   "cell_type": "code",
   "execution_count": null,
   "metadata": {},
   "outputs": [],
   "source": [
    "fig_median = go.Figure(data=fig_bare.data, layout=fig_bare.layout)\n",
    "fig_median.add_vline(x=age.median(), line_width=3, line_color=\"red\")\n",
    "fig_median.write_image(\"public/age_median.png\")\n",
    "fig_median.show()"
   ]
  },
  {
   "cell_type": "code",
   "execution_count": null,
   "metadata": {},
   "outputs": [],
   "source": [
    "fig_mean = go.Figure(data=fig_bare.data, layout=fig_bare.layout)\n",
    "fig_mean.add_vline(x=age.mean(), line_width=3, line_dash=\"dash\", line_color=\"red\")\n",
    "fig_mean.write_image(\"public/age_mean.png\")\n",
    "fig_mean.show()"
   ]
  },
  {
   "cell_type": "code",
   "execution_count": null,
   "metadata": {},
   "outputs": [],
   "source": [
    "fig_mean_median = go.Figure(data=fig_median.data, layout=fig_median.layout)\n",
    "fig_mean_median.add_vline(\n",
    "    x=age.mean(), line_width=3, line_dash=\"dash\", line_color=\"red\"\n",
    ")\n",
    "fig_mean_median.write_image(\"public/age_median_mean.png\")\n",
    "fig_mean_median.show()"
   ]
  },
  {
   "cell_type": "code",
   "execution_count": null,
   "metadata": {},
   "outputs": [],
   "source": [
    "age.median()"
   ]
  },
  {
   "cell_type": "code",
   "execution_count": null,
   "metadata": {},
   "outputs": [],
   "source": [
    "age.mean()"
   ]
  },
  {
   "cell_type": "code",
   "execution_count": null,
   "metadata": {},
   "outputs": [],
   "source": []
  }
 ],
 "metadata": {
  "language_info": {
   "codemirror_mode": {
    "name": "ipython",
    "version": 3
   },
   "file_extension": ".py",
   "mimetype": "text/x-python",
   "name": "python",
   "nbconvert_exporter": "python",
   "pygments_lexer": "ipython3"
  }
 },
 "nbformat": 4,
 "nbformat_minor": 2
}
