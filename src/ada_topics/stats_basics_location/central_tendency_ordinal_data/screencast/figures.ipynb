{
 "cells": [
  {
   "cell_type": "code",
   "execution_count": null,
   "metadata": {},
   "outputs": [],
   "source": [
    "import pandas as pd\n",
    "import plotly.graph_objects as go\n",
    "\n",
    "pd.options.plotting.backend = \"plotly\"\n",
    "\n",
    "import plotly.io as pio\n",
    "\n",
    "pio.templates.default = \"plotly_dark+presentation\""
   ]
  },
  {
   "cell_type": "code",
   "execution_count": null,
   "metadata": {},
   "outputs": [],
   "source": [
    "income = pd.Series(\n",
    "    data=[\n",
    "        \"[30,000, 60,000)\",\n",
    "        \"[0, 30,000)\",\n",
    "        \"[60,000, ∞)\",\n",
    "        \"[0, 30,000)\",\n",
    "    ],\n",
    "    dtype=pd.CategoricalDtype(\n",
    "        categories=[\n",
    "            \"[0, 30,000)\",\n",
    "            \"[30,000, 60,000)\",\n",
    "            \"[60,000, ∞)\",\n",
    "        ],\n",
    "        ordered=True,\n",
    "    ),\n",
    ")\n",
    "\n",
    "income_dist = income.value_counts()"
   ]
  },
  {
   "cell_type": "code",
   "execution_count": null,
   "metadata": {},
   "outputs": [],
   "source": [
    "income.mode()"
   ]
  },
  {
   "cell_type": "code",
   "execution_count": null,
   "metadata": {},
   "outputs": [],
   "source": [
    "fig_bare = income_dist.plot.bar()\n",
    "fig_bare.update_layout(\n",
    "    xaxis_title=\"Income in bins\",\n",
    "    yaxis={\n",
    "        \"title\": \"Count\",\n",
    "        \"tickvals\": [0, 1, 2],\n",
    "    },\n",
    "    showlegend=False,\n",
    ")\n",
    "fig_bare.write_image(\"public/income_in_bins_bare.png\")\n",
    "fig_bare.show()"
   ]
  },
  {
   "cell_type": "code",
   "execution_count": null,
   "metadata": {},
   "outputs": [],
   "source": [
    "fig_mode = go.Figure(data=fig_bare.data, layout=fig_bare.layout)\n",
    "fig_mode.add_vline(x=income.mode().iloc[0], line_width=3, line_color=\"red\")\n",
    "fig_mode.write_image(\"public/income_in_bins_mode.png\")\n",
    "fig_mode.show()"
   ]
  },
  {
   "cell_type": "code",
   "execution_count": null,
   "metadata": {},
   "outputs": [],
   "source": [
    "income.median()"
   ]
  },
  {
   "cell_type": "code",
   "execution_count": null,
   "metadata": {},
   "outputs": [],
   "source": [
    "fig_median = go.Figure(data=fig_bare.data, layout=fig_bare.layout)\n",
    "fig_median.add_shape(\n",
    "    type=\"line\",\n",
    "    x0=0.5,  # Position between Category A and B\n",
    "    y0=0,  # Start at the bottom of the y-axis\n",
    "    x1=0.5,  # Same x position\n",
    "    y1=2.1,  # End at the maximum y value\n",
    "    line_width=3,\n",
    "    line_color=\"red\",  # Line color and width\n",
    ")\n",
    "fig_median.write_image(\"public/income_in_bins_median.png\")\n",
    "fig_median.show()"
   ]
  }
 ],
 "metadata": {
  "language_info": {
   "codemirror_mode": {
    "name": "ipython",
    "version": 3
   },
   "file_extension": ".py",
   "mimetype": "text/x-python",
   "name": "python",
   "nbconvert_exporter": "python",
   "pygments_lexer": "ipython3"
  }
 },
 "nbformat": 4,
 "nbformat_minor": 2
}
