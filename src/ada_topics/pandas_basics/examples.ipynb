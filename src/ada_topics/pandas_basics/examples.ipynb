{
 "cells": [
  {
   "cell_type": "markdown",
   "metadata": {},
   "source": [
    "# DataFrame examples for screencasts\n",
    "\n",
    "\n",
    "This notebook contains the non-trivial examples used in the slides. In the long run \n",
    "we want to convert all DataFrame examples to tasks. \n",
    "\n",
    "The examples that are not in this notebook can be created trivially by using the \n",
    "`get_gapminder_sample` function with the correct argument and executing code from the \n",
    "slides. "
   ]
  },
  {
   "cell_type": "code",
   "execution_count": null,
   "metadata": {},
   "outputs": [],
   "source": [
    "import pandas as pd\n",
    "\n",
    "pd.options.mode.copy_on_write = True\n",
    "pd.options.future.infer_string = True\n",
    "pd.options.plotting.backend = \"plotly\"\n",
    "\n",
    "import plotly.express as px\n",
    "\n",
    "\n",
    "def get_gapminder_sample(version=\"tiny\"):\n",
    "    df = px.data.gapminder()\n",
    "    if version == \"tiny\":\n",
    "        df = df[[\"country\", \"continent\", \"year\", \"lifeExp\"]]\n",
    "        df = df.query(\"country in ['Cuba', 'Spain']\")\n",
    "        df = df.query(\"year in [2002, 2007]\")\n",
    "    elif version == \"tiny3\":\n",
    "        df = df[[\"country\", \"continent\", \"year\", \"lifeExp\"]]\n",
    "        df = df.query(\"country in ['Cuba', 'Spain']\")\n",
    "        df = df.query(\"year in [1997, 2002, 2007]\")\n",
    "    elif version == \"full\":\n",
    "        pass\n",
    "    elif version == \"all_observations\":\n",
    "        df = df[[\"country\", \"continent\", \"year\", \"lifeExp\"]]\n",
    "    elif version == \"income\":\n",
    "        df = df[[\"country\", \"year\", \"gdpPercap\", \"pop\"]]\n",
    "        df = df.query(\"country in ['Cuba', 'Spain']\")\n",
    "        df = df.query(\"year in [2002, 2007]\")\n",
    "    else:\n",
    "        msg = f\"Unknown version: {version}\"\n",
    "        raise ValueError(msg)\n",
    "\n",
    "    return df.reset_index(drop=True)"
   ]
  },
  {
   "cell_type": "markdown",
   "metadata": {},
   "source": [
    "# (Multi-)Indices"
   ]
  },
  {
   "cell_type": "code",
   "execution_count": null,
   "metadata": {},
   "outputs": [],
   "source": [
    "df = get_gapminder_sample(\"tiny\")\n",
    "print(df.to_markdown(index=True))"
   ]
  },
  {
   "cell_type": "code",
   "execution_count": null,
   "metadata": {},
   "outputs": [],
   "source": [
    "df.index"
   ]
  },
  {
   "cell_type": "code",
   "execution_count": null,
   "metadata": {},
   "outputs": [],
   "source": [
    "df_clean = df.set_index([\"country\", \"year\"])\n",
    "df_clean.index"
   ]
  },
  {
   "cell_type": "code",
   "execution_count": null,
   "metadata": {},
   "outputs": [],
   "source": [
    "df_round_tripped = df_clean.reset_index()\n",
    "df_round_tripped.index"
   ]
  },
  {
   "cell_type": "code",
   "execution_count": null,
   "metadata": {},
   "outputs": [],
   "source": [
    "print(df_clean.loc[\"Cuba\"])"
   ]
  },
  {
   "cell_type": "code",
   "execution_count": null,
   "metadata": {},
   "outputs": [],
   "source": [
    "print(df_clean.loc[\"Cuba\", \"lifeExp\"])"
   ]
  },
  {
   "cell_type": "code",
   "execution_count": null,
   "metadata": {},
   "outputs": [],
   "source": [
    "print(df_clean.loc[(\"Cuba\", 2002), \"lifeExp\"])"
   ]
  },
  {
   "cell_type": "markdown",
   "metadata": {},
   "source": [
    "## Caveat (not on slides)\n",
    "\n",
    "Syntax `.loc[a, b]` works for rows labelled (`a`, `b`), too. Actually takes precedence\n",
    "over a column label `b`. But just show the explicit syntax `.loc[(a, b)]`."
   ]
  },
  {
   "cell_type": "code",
   "execution_count": null,
   "metadata": {},
   "outputs": [],
   "source": [
    "df_x = df_clean.copy()\n",
    "df_x[2002] = 0\n",
    "df_x.loc[\"Cuba\", 2002]"
   ]
  },
  {
   "cell_type": "markdown",
   "metadata": {},
   "source": [
    "# shift, diff"
   ]
  },
  {
   "cell_type": "code",
   "execution_count": null,
   "metadata": {},
   "outputs": [],
   "source": [
    "df = get_gapminder_sample(\"tiny3\").set_index([\"country\", \"year\"])\n",
    "print(df.reset_index().to_markdown(index=False))"
   ]
  },
  {
   "cell_type": "code",
   "execution_count": null,
   "metadata": {},
   "outputs": [],
   "source": [
    "print(df.shift(1).reset_index().to_markdown(index=False))"
   ]
  },
  {
   "cell_type": "code",
   "execution_count": null,
   "metadata": {},
   "outputs": [],
   "source": [
    "df[\"lag_lifeExp\"] = df.shift(1)[\"lifeExp\"]\n",
    "print(df[[\"lifeExp\", \"lag_lifeExp\"]].reset_index().to_markdown(index=False))"
   ]
  },
  {
   "cell_type": "code",
   "execution_count": null,
   "metadata": {},
   "outputs": [],
   "source": [
    "print(\n",
    "    df.groupby(\"country\")\n",
    "    .shift(1)[[\"continent\", \"lifeExp\"]]\n",
    "    .reset_index()\n",
    "    .to_markdown(index=False)\n",
    ")"
   ]
  },
  {
   "cell_type": "code",
   "execution_count": null,
   "metadata": {},
   "outputs": [],
   "source": [
    "# df.groupby(\"country\").diff(1)"
   ]
  },
  {
   "cell_type": "code",
   "execution_count": null,
   "metadata": {},
   "outputs": [],
   "source": [
    "print(df.groupby(\"country\")[[\"lifeExp\"]].diff(1).reset_index().to_markdown(index=False))"
   ]
  },
  {
   "cell_type": "markdown",
   "metadata": {},
   "source": [
    "## Concatenating DataFrames"
   ]
  },
  {
   "cell_type": "code",
   "execution_count": null,
   "metadata": {},
   "outputs": [],
   "source": [
    "# concat without axis argument\n",
    "\n",
    "df = get_gapminder_sample(\"tiny\")[[\"country\", \"year\", \"lifeExp\"]]\n",
    "top = df.query(\"country == 'Cuba'\")\n",
    "bottom = df.query(\"country == 'Spain'\").reset_index(drop=True)\n",
    "\n",
    "print(top.to_markdown(index=False), \"\\n\\n\", sep=\"\")\n",
    "print(bottom.to_markdown(index=False), \"\\n\\n\", sep=\"\")\n",
    "print(pd.concat([top, bottom]).to_markdown(index=False), \"\\n\\n\", sep=\"\")"
   ]
  },
  {
   "cell_type": "code",
   "execution_count": null,
   "metadata": {},
   "outputs": [],
   "source": [
    "# concat without axis argument, but bad index\n",
    "\n",
    "print(top.to_markdown(index=True), \"\\n\\n\", sep=\"\")\n",
    "print(bottom.to_markdown(index=True), \"\\n\\n\", sep=\"\")\n",
    "print(pd.concat([top, bottom]).to_markdown(index=True), \"\\n\\n\", sep=\"\")"
   ]
  },
  {
   "cell_type": "code",
   "execution_count": null,
   "metadata": {},
   "outputs": [],
   "source": [
    "life_exp = get_gapminder_sample(\"tiny\")[[\"country\", \"year\", \"lifeExp\"]].set_index(\n",
    "    [\"country\", \"year\"]\n",
    ")[\"lifeExp\"]\n",
    "gdp_pc = get_gapminder_sample(\"income\")[[\"country\", \"year\", \"gdpPercap\"]].set_index(\n",
    "    [\"country\", \"year\"]\n",
    ")\n",
    "\n",
    "df = pd.merge(left=life_exp, right=gdp_pc, left_index=True, right_index=True)\n",
    "\n",
    "print(life_exp.reset_index().to_markdown(index=False), \"\\n\\n\", sep=\"\")\n",
    "print(gdp_pc.reset_index().to_markdown(index=False), \"\\n\\n\", sep=\"\")\n",
    "print(df.reset_index().to_markdown(index=False), \"\\n\\n\", sep=\"\")"
   ]
  },
  {
   "cell_type": "code",
   "execution_count": null,
   "metadata": {},
   "outputs": [],
   "source": [
    "life_exp = get_gapminder_sample(\"tiny\")[[\"country\", \"year\", \"lifeExp\"]].set_index(\n",
    "    pd.Index([\"A\", \"B\", \"C\", \"D\"])\n",
    ")\n",
    "gdp_pc = get_gapminder_sample(\"income\")[[\"country\", \"year\", \"gdpPercap\"]].set_index(\n",
    "    pd.Index([5, 9, 3, 1])\n",
    ")\n",
    "\n",
    "df = pd.merge(\n",
    "    left=life_exp,\n",
    "    right=gdp_pc,\n",
    "    left_on=[\"country\", \"year\"],\n",
    "    right_on=[\"country\", \"year\"],\n",
    ")\n",
    "\n",
    "df = pd.merge(\n",
    "    left=life_exp,\n",
    "    right=gdp_pc,\n",
    "    on=[\"country\", \"year\"],\n",
    ")\n",
    "\n",
    "print(life_exp.to_markdown(index=True), \"\\n\\n\", sep=\"\")\n",
    "print(gdp_pc.to_markdown(index=True), \"\\n\\n\", sep=\"\")\n",
    "print(df.to_markdown(index=True), \"\\n\\n\", sep=\"\")"
   ]
  },
  {
   "cell_type": "code",
   "execution_count": null,
   "metadata": {},
   "outputs": [],
   "source": [
    "# 1:1 merge (pandas/merging/screencast)\n",
    "\n",
    "life_exp = (\n",
    "    get_gapminder_sample(\"tiny\")[[\"country\", \"year\", \"lifeExp\"]]\n",
    "    .set_index([\"country\", \"year\"])\n",
    "    .iloc[:3]\n",
    ")\n",
    "gdp_pc = (\n",
    "    get_gapminder_sample(\"income\")[[\"country\", \"year\", \"gdpPercap\"]]\n",
    "    .set_index([\"country\", \"year\"])\n",
    "    .iloc[1:]\n",
    ")\n",
    "\n",
    "df = pd.merge(\n",
    "    left=life_exp,\n",
    "    right=gdp_pc,\n",
    "    on=[\"country\", \"year\"],\n",
    "    how=\"outer\",\n",
    ")\n",
    "\n",
    "print(life_exp.reset_index().to_markdown(index=False), \"\\n\\n\", sep=\"\")\n",
    "print(gdp_pc.reset_index().to_markdown(index=False), \"\\n\\n\", sep=\"\")\n",
    "print(df.reset_index().to_markdown(index=False).replace(\"nan\", \"   \"), \"\\n\\n\", sep=\"\")"
   ]
  },
  {
   "cell_type": "code",
   "execution_count": null,
   "metadata": {},
   "outputs": [],
   "source": [
    "# m:1 merge\n",
    "\n",
    "life_exp = get_gapminder_sample(\"tiny\")[[\"country\", \"year\", \"lifeExp\"]].set_index(\n",
    "    [\"country\", \"year\"]\n",
    ")\n",
    "\n",
    "cap = pd.DataFrame.from_dict(\n",
    "    {\"country\": [\"Cuba\", \"Spain\"], \"capital\": [\"Havana\", \"Madrid\"]}\n",
    ").set_index(\"country\")\n",
    "\n",
    "df = pd.merge(\n",
    "    left=life_exp,\n",
    "    right=cap,\n",
    "    left_index=True,\n",
    "    right_index=True,\n",
    ")\n",
    "\n",
    "print(life_exp.reset_index().to_markdown(index=False), \"\\n\\n\", sep=\"\")\n",
    "print(cap.to_markdown(index=True), \"\\n\\n\", sep=\"\")\n",
    "print(df.reset_index().to_markdown(index=False), \"\\n\\n\", sep=\"\")"
   ]
  },
  {
   "cell_type": "markdown",
   "metadata": {},
   "source": [
    "# query"
   ]
  },
  {
   "cell_type": "code",
   "execution_count": null,
   "metadata": {},
   "outputs": [],
   "source": [
    "life_exp = get_gapminder_sample(\"tiny\")[[\"country\", \"year\", \"lifeExp\"]].set_index(\n",
    "    [\"country\", \"year\"]\n",
    ")\n",
    "life_exp"
   ]
  },
  {
   "cell_type": "code",
   "execution_count": null,
   "metadata": {},
   "outputs": [],
   "source": [
    "life_exp.query?"
   ]
  },
  {
   "cell_type": "code",
   "execution_count": null,
   "metadata": {},
   "outputs": [],
   "source": []
  }
 ],
 "metadata": {
  "language_info": {
   "codemirror_mode": {
    "name": "ipython",
    "version": 3
   },
   "file_extension": ".py",
   "mimetype": "text/x-python",
   "name": "python",
   "nbconvert_exporter": "python",
   "pygments_lexer": "ipython3"
  }
 },
 "nbformat": 4,
 "nbformat_minor": 2
}
