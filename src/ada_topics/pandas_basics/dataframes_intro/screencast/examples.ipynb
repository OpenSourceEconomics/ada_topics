{
 "cells": [
  {
   "cell_type": "code",
   "execution_count": null,
   "metadata": {},
   "outputs": [],
   "source": [
    "import pandas as pd\n",
    "import plotly.express as px\n",
    "import plotly.io as pio\n",
    "\n",
    "pio.templates.default = \"plotly_dark+presentation\"\n",
    "\n",
    "pd.options.plotting.backend = \"plotly\""
   ]
  },
  {
   "cell_type": "code",
   "execution_count": null,
   "metadata": {},
   "outputs": [],
   "source": [
    "df = px.data.gapminder()\n",
    "df = df.query(\"continent=='Africa' & country in ['Egypt', 'South Africa', 'Lesotho']\")\n",
    "df = df.query(\"year in [1952, 1977, 2002]\")\n",
    "df = df[[\"country\", \"year\", \"pop\", \"gdpPercap\"]]\n",
    "\n",
    "df[\"pop\"] = df[\"pop\"] / 1_000_000\n",
    "\n",
    "gdppc_wide = df.pivot(index=\"year\", columns=\"country\", values=\"gdpPercap\")\n",
    "pop_wide = df.pivot(index=\"year\", columns=\"country\", values=\"pop\")"
   ]
  },
  {
   "cell_type": "code",
   "execution_count": null,
   "metadata": {},
   "outputs": [],
   "source": [
    "print(\n",
    "    df.query(\"country == 'Egypt'\")[[\"year\", \"pop\", \"gdpPercap\"]]\n",
    "    .round(1)\n",
    "    .to_markdown(index=False)\n",
    ")"
   ]
  },
  {
   "cell_type": "code",
   "execution_count": null,
   "metadata": {},
   "outputs": [],
   "source": [
    "pop = pd.Series([22.2, 38.8, 73.3], index=[1952, 1977, 2002], name=\"pop\")\n",
    "gdp_pc = pd.Series([1418.8, 2785.5, 4754.6], index=[1952, 1977, 2002], name=\"gdpPercap\")"
   ]
  },
  {
   "cell_type": "code",
   "execution_count": null,
   "metadata": {},
   "outputs": [],
   "source": [
    "egypt = pd.DataFrame({\"pop\": pop, \"gdpPercap\": gdp_pc})\n",
    "egypt"
   ]
  },
  {
   "cell_type": "code",
   "execution_count": null,
   "metadata": {},
   "outputs": [],
   "source": [
    "print(\n",
    "    df.set_index([\"country\", \"year\"])[[\"gdpPercap\"]]\n",
    "    .round(0)\n",
    "    .reset_index()\n",
    "    .to_markdown(index=False)\n",
    ")"
   ]
  },
  {
   "cell_type": "code",
   "execution_count": null,
   "metadata": {},
   "outputs": [],
   "source": [
    "print((pop_wide / 1_000_000).round(2).to_markdown())"
   ]
  },
  {
   "cell_type": "code",
   "execution_count": null,
   "metadata": {},
   "outputs": [],
   "source": []
  }
 ],
 "metadata": {
  "language_info": {
   "codemirror_mode": {
    "name": "ipython",
    "version": 3
   },
   "file_extension": ".py",
   "mimetype": "text/x-python",
   "name": "python",
   "nbconvert_exporter": "python",
   "pygments_lexer": "ipython3"
  }
 },
 "nbformat": 4,
 "nbformat_minor": 2
}
