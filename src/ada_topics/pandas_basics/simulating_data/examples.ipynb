{
 "cells": [
  {
   "cell_type": "code",
   "execution_count": null,
   "metadata": {},
   "outputs": [],
   "source": [
    "import numpy as np\n",
    "import pandas as pd\n",
    "import plotly.graph_objects as go\n",
    "import plotly.io as pio\n",
    "\n",
    "pio.templates.default = \"plotly_dark+presentation\"\n",
    "pd.options.plotting.backend = \"plotly\""
   ]
  },
  {
   "cell_type": "code",
   "execution_count": null,
   "metadata": {},
   "outputs": [],
   "source": [
    "rng = np.random.default_rng(seed=4352)\n",
    "\n",
    "samples = pd.Series(rng.normal(loc=10, scale=5, size=10), name=\"x\")\n",
    "\n",
    "print(samples.to_markdown())"
   ]
  },
  {
   "cell_type": "code",
   "execution_count": null,
   "metadata": {},
   "outputs": [],
   "source": [
    "size = 100\n",
    "data = pd.DataFrame(\n",
    "    {\n",
    "        \"x\": rng.normal(loc=10, scale=5, size=size),\n",
    "        \"u\": rng.normal(loc=0, scale=15, size=size),\n",
    "    }\n",
    ")\n",
    "data[\"y\"] = 5 + 2 * data[\"x\"] + data[\"u\"]\n",
    "\n",
    "data"
   ]
  },
  {
   "cell_type": "code",
   "execution_count": null,
   "metadata": {},
   "outputs": [],
   "source": [
    "fig_ols_happy_path = data.plot.scatter(\n",
    "    x=\"x\",\n",
    "    y=\"y\",\n",
    "    trendline=\"ols\",\n",
    ")\n",
    "fig_ols_happy_path.update_layout(\n",
    "    showlegend=False,\n",
    "    xaxis_range=[-9, 29],\n",
    "    yaxis_range=[-30, 84],\n",
    ")\n",
    "fig_ols_happy_path.write_image(\"screencast/public/ols_happy_path.svg\")\n",
    "fig_ols_happy_path.show()"
   ]
  },
  {
   "cell_type": "code",
   "execution_count": null,
   "metadata": {},
   "outputs": [],
   "source": [
    "fig_ols_happy_path.add_trace(\n",
    "    go.Scatter(\n",
    "        x=[0, 20],\n",
    "        y=[5, 45],\n",
    "        mode=\"lines\",\n",
    "    )\n",
    ")\n",
    "fig_ols_happy_path.update_layout(\n",
    "    showlegend=False,\n",
    "    xaxis_range=[-9, 29],\n",
    "    yaxis_range=[-30, 84],\n",
    ")\n",
    "\n",
    "fig_ols_happy_path.write_image(\"screencast/public/ols_happy_path_with_truth.svg\")\n",
    "fig_ols_happy_path.show()"
   ]
  },
  {
   "cell_type": "code",
   "execution_count": null,
   "metadata": {},
   "outputs": [],
   "source": [
    "data_corr = data.copy()\n",
    "data_corr[\"x\"] = data_corr[\"x\"] - data_corr[\"u\"] / 3\n",
    "data_corr[\"y\"] = 5 + 2 * data_corr[\"x\"] + data_corr[\"u\"]\n",
    "\n",
    "data_corr"
   ]
  },
  {
   "cell_type": "code",
   "execution_count": null,
   "metadata": {},
   "outputs": [],
   "source": [
    "fig_ols_confounder = data_corr.plot.scatter(\n",
    "    x=\"x\",\n",
    "    y=\"y\",\n",
    "    trendline=\"ols\",\n",
    ")\n",
    "fig_ols_confounder.update_layout(\n",
    "    showlegend=False,\n",
    "    xaxis_range=[-9, 29],\n",
    "    yaxis_range=[-30, 84],\n",
    ")\n",
    "fig_ols_confounder.write_image(\"screencast/public/ols_confounder.svg\")\n",
    "fig_ols_confounder.show()"
   ]
  },
  {
   "cell_type": "code",
   "execution_count": null,
   "metadata": {},
   "outputs": [],
   "source": [
    "fig_ols_confounder.add_trace(\n",
    "    go.Scatter(\n",
    "        x=[0, 20],\n",
    "        y=[5, 45],\n",
    "        mode=\"lines\",\n",
    "    )\n",
    ")\n",
    "fig_ols_confounder.update_layout(\n",
    "    showlegend=False,\n",
    "    xaxis_range=[-9, 29],\n",
    "    yaxis_range=[-30, 84],\n",
    ")\n",
    "fig_ols_confounder.write_image(\"screencast/public/ols_confounder_with_truth.svg\")\n",
    "fig_ols_confounder.show()"
   ]
  },
  {
   "cell_type": "code",
   "execution_count": null,
   "metadata": {},
   "outputs": [],
   "source": []
  }
 ],
 "metadata": {
  "language_info": {
   "codemirror_mode": {
    "name": "ipython",
    "version": 3
   },
   "file_extension": ".py",
   "mimetype": "text/x-python",
   "name": "python",
   "nbconvert_exporter": "python",
   "pygments_lexer": "ipython3"
  }
 },
 "nbformat": 4,
 "nbformat_minor": 2
}
