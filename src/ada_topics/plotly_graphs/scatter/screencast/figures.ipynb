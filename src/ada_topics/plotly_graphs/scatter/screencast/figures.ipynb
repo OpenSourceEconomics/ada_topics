{
 "cells": [
  {
   "cell_type": "code",
   "execution_count": null,
   "metadata": {},
   "outputs": [],
   "source": [
    "import pandas as pd\n",
    "\n",
    "pd.options.plotting.backend = \"plotly\"\n",
    "\n",
    "import plotly.io as pio\n",
    "\n",
    "pio.templates.default = \"plotly_dark+presentation\"\n",
    "\n",
    "\n",
    "from data_morph.data.loader import DataLoader\n",
    "from data_morph.morpher import DataMorpher\n",
    "from data_morph.shapes.factory import ShapeFactory\n",
    "\n",
    "dataset = DataLoader.load_dataset(\"panda\")\n",
    "shape_factory = ShapeFactory(dataset)"
   ]
  },
  {
   "cell_type": "code",
   "execution_count": null,
   "metadata": {},
   "outputs": [],
   "source": [
    "morpher = DataMorpher(\n",
    "    decimals=1,\n",
    "    in_notebook=True,\n",
    "    output_dir=\"public\",\n",
    ")"
   ]
  },
  {
   "cell_type": "code",
   "execution_count": null,
   "metadata": {},
   "outputs": [],
   "source": [
    "result = morpher.morph(\n",
    "    start_shape=dataset,\n",
    "    target_shape=shape_factory.generate_shape(\"star\"),\n",
    "    freeze_for=50,\n",
    "    ramp_in=True,\n",
    "    ramp_out=True,\n",
    ")"
   ]
  },
  {
   "cell_type": "code",
   "execution_count": null,
   "metadata": {},
   "outputs": [],
   "source": [
    "panda = dataset.df\n",
    "print(pd.concat([panda.head(n=3), panda.tail(n=3)]).to_markdown())"
   ]
  },
  {
   "cell_type": "code",
   "execution_count": null,
   "metadata": {},
   "outputs": [],
   "source": [
    "fig = panda.plot.scatter(x=\"x\", y=\"y\")\n",
    "fig.write_image(\"public/panda.svg\")\n",
    "fig"
   ]
  },
  {
   "cell_type": "code",
   "execution_count": null,
   "metadata": {},
   "outputs": [],
   "source": [
    "import pandas as pd\n",
    "import plotly.express as px\n",
    "import seaborn as sns\n",
    "\n",
    "# Load Anscombe's quartet dataset\n",
    "anscombe = sns.load_dataset(\"anscombe\")\n",
    "\n",
    "# Create scatter plots for each dataset\n",
    "fig = px.scatter(\n",
    "    anscombe,\n",
    "    x=\"x\",\n",
    "    y=\"y\",\n",
    "    color=\"dataset\",\n",
    "    facet_col=\"dataset\",\n",
    "    title=\"Anscombe's Quartet\",\n",
    "    labels={\"x\": \"X-axis\", \"y\": \"Y-axis\"},\n",
    "    width=900,\n",
    "    height=300,\n",
    ")\n",
    "\n",
    "# Show the plot\n",
    "fig.show()"
   ]
  },
  {
   "cell_type": "code",
   "execution_count": null,
   "metadata": {},
   "outputs": [],
   "source": [
    "fig.write_image(\"public/anscombe.svg\")"
   ]
  },
  {
   "cell_type": "code",
   "execution_count": null,
   "metadata": {},
   "outputs": [],
   "source": [
    "out = (\n",
    "    anscombe.groupby(\"dataset\")\n",
    "    .describe()[[(\"x\", \"mean\"), (\"x\", \"std\"), (\"y\", \"mean\"), (\"y\", \"std\")]]\n",
    "    .round(2)\n",
    ")\n",
    "out[(\"x, y\", \"corr\")] = anscombe.groupby(\"dataset\").corr().loc[(\"I\", \"x\"), \"y\"].round(2)\n",
    "print(out.to_markdown())"
   ]
  },
  {
   "cell_type": "code",
   "execution_count": null,
   "metadata": {},
   "outputs": [],
   "source": []
  }
 ],
 "metadata": {
  "language_info": {
   "codemirror_mode": {
    "name": "ipython",
    "version": 3
   },
   "file_extension": ".py",
   "mimetype": "text/x-python",
   "name": "python",
   "nbconvert_exporter": "python",
   "pygments_lexer": "ipython3"
  }
 },
 "nbformat": 4,
 "nbformat_minor": 2
}
