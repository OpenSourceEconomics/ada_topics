{
 "cells": [
  {
   "cell_type": "code",
   "execution_count": null,
   "metadata": {},
   "outputs": [],
   "source": [
    "import pandas as pd\n",
    "\n",
    "pd.options.plotting.backend = \"plotly\"\n",
    "\n",
    "import plotly.io as pio\n",
    "\n",
    "pio.templates.default = \"plotly_dark+presentation\""
   ]
  },
  {
   "cell_type": "code",
   "execution_count": null,
   "metadata": {},
   "outputs": [],
   "source": [
    "monthly_income = pd.Series(\n",
    "    [1.57, 0.09, 1, 2.9, 1.25, 1, 0.35, 2.3, 2.15],\n",
    ")"
   ]
  },
  {
   "cell_type": "code",
   "execution_count": null,
   "metadata": {},
   "outputs": [],
   "source": [
    "fig = monthly_income.plot.hist()\n",
    "fig.write_image(\"public/hist.png\")\n",
    "fig"
   ]
  },
  {
   "cell_type": "code",
   "execution_count": null,
   "metadata": {},
   "outputs": [],
   "source": [
    "fig = monthly_income.plot.hist(nbins=100)\n",
    "fig.write_image(\"public/hist_nbins100.png\")\n",
    "fig"
   ]
  },
  {
   "cell_type": "code",
   "execution_count": null,
   "metadata": {},
   "outputs": [],
   "source": [
    "fig = monthly_income.plot.hist(\n",
    "    nbins=100, title=\"Distribution of monthly income (1,000s of Euros)\"\n",
    ")\n",
    "fig.write_image(\"public/hist_nbins100_title.png\")\n",
    "fig"
   ]
  },
  {
   "cell_type": "code",
   "execution_count": null,
   "metadata": {},
   "outputs": [],
   "source": [
    "fig = monthly_income.plot.hist(\n",
    "    nbins=100, title=\"Distribution of monthly income (1,000s of Euros)\"\n",
    ")\n",
    "fig.update_layout(showlegend=False)\n",
    "fig.write_image(\"public/hist_nbins100_title_nolegend.png\")\n",
    "fig"
   ]
  },
  {
   "cell_type": "code",
   "execution_count": null,
   "metadata": {},
   "outputs": [],
   "source": [
    "fig = monthly_income.plot.hist(\n",
    "    nbins=100, title=\"Distribution of monthly income (1,000s of Euros)\"\n",
    ")\n",
    "fig.update_layout(\n",
    "    showlegend=False,\n",
    "    yaxis_tickvals=[0, 1, 2],\n",
    "    yaxis_title=\"Number of observations\",\n",
    "    xaxis_title=\"Monthly income in 1,000s of Euros\",\n",
    ")\n",
    "fig.write_image(\"public/hist_final.png\")\n",
    "fig"
   ]
  },
  {
   "cell_type": "code",
   "execution_count": null,
   "metadata": {},
   "outputs": [],
   "source": [
    "fig = monthly_income.plot.hist(\n",
    "    nbins=100, title=\"Distribution of monthly income (1,000s of Euros)\"\n",
    ")\n",
    "fig.update_layout(\n",
    "    showlegend=False,\n",
    "    yaxis_tickvals=[0, 1, 2],\n",
    "    yaxis_title=\"Number of observations\",\n",
    "    xaxis_title=\"Monthly income in 1,000s of Euros\",\n",
    ")\n",
    "fig.add_vline(x=monthly_income.mean(), line_width=3, line_color=\"red\")\n",
    "fig.write_image(\"public/hist_final_with_mean.png\")\n",
    "fig"
   ]
  },
  {
   "cell_type": "code",
   "execution_count": null,
   "metadata": {},
   "outputs": [],
   "source": []
  }
 ],
 "metadata": {
  "language_info": {
   "codemirror_mode": {
    "name": "ipython",
    "version": 3
   },
   "file_extension": ".py",
   "mimetype": "text/x-python",
   "name": "python",
   "nbconvert_exporter": "python",
   "pygments_lexer": "ipython3"
  }
 },
 "nbformat": 4,
 "nbformat_minor": 2
}
