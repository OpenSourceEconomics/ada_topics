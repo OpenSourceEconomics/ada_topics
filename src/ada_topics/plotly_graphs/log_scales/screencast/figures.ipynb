{
 "cells": [
  {
   "cell_type": "code",
   "execution_count": null,
   "metadata": {},
   "outputs": [],
   "source": [
    "import numpy as np\n",
    "import pandas as pd\n",
    "import plotly.io as pio\n",
    "from scipy.stats import mielke\n",
    "\n",
    "pio.templates.default = \"plotly_dark+presentation\"\n",
    "\n",
    "pd.options.plotting.backend = \"plotly\"\n",
    "\n",
    "series = pd.Series(\n",
    "    data=np.arange(start=1, stop=1001), index=np.arange(start=1, stop=1001)\n",
    ")\n",
    "print(series.to_markdown())"
   ]
  },
  {
   "cell_type": "code",
   "execution_count": null,
   "metadata": {},
   "outputs": [],
   "source": [
    "fig = series.plot.line()\n",
    "fig.update_layout(\n",
    "    showlegend=False,\n",
    "    xaxis_title=\"x (linear scale)\",\n",
    "    yaxis_title=\"y (linear scale)\",\n",
    ")\n",
    "fig.show()\n",
    "\n",
    "fig.write_image(\"public/lin-lin.svg\")"
   ]
  },
  {
   "cell_type": "code",
   "execution_count": null,
   "metadata": {},
   "outputs": [],
   "source": [
    "fig = series.plot.line()\n",
    "fig.update_layout(\n",
    "    showlegend=False,\n",
    "    xaxis_type=\"log\",\n",
    "    xaxis_title=\"x (logarithmic scale)\",\n",
    "    yaxis_title=\"y (linear scale)\",\n",
    ")\n",
    "fig.show()\n",
    "\n",
    "fig.write_image(\"public/log-lin.svg\")"
   ]
  },
  {
   "cell_type": "code",
   "execution_count": null,
   "metadata": {},
   "outputs": [],
   "source": [
    "fig = series.plot.line()\n",
    "fig.update_layout(\n",
    "    showlegend=False,\n",
    "    xaxis_type=\"linear\",\n",
    "    yaxis_type=\"log\",\n",
    "    xaxis_title=\"x (linear scale)\",\n",
    "    yaxis_title=\"y (logarithmic scale)\",\n",
    ")\n",
    "fig.show()\n",
    "\n",
    "fig.write_image(\"public/lin-log.svg\")"
   ]
  },
  {
   "cell_type": "code",
   "execution_count": null,
   "metadata": {},
   "outputs": [],
   "source": [
    "fig = series.plot.line()\n",
    "fig.update_layout(\n",
    "    showlegend=False,\n",
    "    xaxis_type=\"log\",\n",
    "    yaxis_type=\"log\",\n",
    "    xaxis_title=\"x (logarithmic scale)\",\n",
    "    yaxis_title=\"y (logarithmic scale)\",\n",
    ")\n",
    "fig.show()\n",
    "\n",
    "fig.write_image(\"public/log-log.svg\")"
   ]
  },
  {
   "cell_type": "code",
   "execution_count": null,
   "metadata": {},
   "outputs": [],
   "source": [
    "rng = np.random.default_rng(seed=4352)\n",
    "\n",
    "n = 100_000\n",
    "scale = 20_394\n",
    "s = 3.8206\n",
    "k = s * 0.756\n",
    "income = pd.Series(mielke.rvs(k=k, s=s, scale=scale, size=n, random_state=rng))\n",
    "income = income[income > 1_000]"
   ]
  },
  {
   "cell_type": "code",
   "execution_count": null,
   "metadata": {},
   "outputs": [],
   "source": [
    "fig = income.plot.hist(nbins=100)\n",
    "fig.update_layout(\n",
    "    showlegend=False,\n",
    "    yaxis_title=\"Number of observations\",\n",
    "    xaxis_title=\"Annual income (€)\",\n",
    ")\n",
    "fig.show()\n",
    "fig.write_image(\"public/income.svg\")"
   ]
  },
  {
   "cell_type": "code",
   "execution_count": null,
   "metadata": {},
   "outputs": [],
   "source": [
    "fig = income.plot.hist(nbins=100)\n",
    "fig.update_layout(\n",
    "    showlegend=False,\n",
    "    yaxis_title=\"Number of observations\",\n",
    "    xaxis_title=\"Annual income (log €)\",\n",
    "    xaxis_type=\"log\",\n",
    ")\n",
    "fig.show()\n",
    "fig.write_image(\"public/log-income-wrong-bins.svg\")"
   ]
  },
  {
   "cell_type": "code",
   "execution_count": null,
   "metadata": {},
   "outputs": [],
   "source": [
    "fig = (np.log(income)).plot.hist(nbins=100)\n",
    "fig.update_layout(\n",
    "    showlegend=False,\n",
    "    yaxis_title=\"Number of observations\",\n",
    "    xaxis_title=\"Annual income (log €)\",\n",
    ")\n",
    "fig.show()\n",
    "fig.write_image(\"public/log-income-wrong-labels.svg\")"
   ]
  },
  {
   "cell_type": "code",
   "execution_count": null,
   "metadata": {},
   "outputs": [],
   "source": [
    "xtickvals = pd.Series([1000, 5_000, 10_000, 50_000, 100_000, 300_000])\n",
    "fig = np.log(income).plot.hist(nbins=100)\n",
    "fig.update_layout(\n",
    "    showlegend=False,\n",
    "    yaxis_title=\"Number of observations\",\n",
    "    xaxis_title=\"Annual income (log €)\",\n",
    "    xaxis_tickvals=np.log(xtickvals),\n",
    "    xaxis_ticktext=xtickvals,\n",
    ")\n",
    "fig.show()\n",
    "fig.write_image(\"public/log-income.svg\")"
   ]
  },
  {
   "cell_type": "code",
   "execution_count": null,
   "metadata": {},
   "outputs": [],
   "source": []
  },
  {
   "cell_type": "code",
   "execution_count": null,
   "metadata": {},
   "outputs": [],
   "source": []
  }
 ],
 "metadata": {
  "language_info": {
   "codemirror_mode": {
    "name": "ipython",
    "version": 3
   },
   "file_extension": ".py",
   "mimetype": "text/x-python",
   "name": "python",
   "nbconvert_exporter": "python",
   "pygments_lexer": "ipython3"
  }
 },
 "nbformat": 4,
 "nbformat_minor": 2
}
