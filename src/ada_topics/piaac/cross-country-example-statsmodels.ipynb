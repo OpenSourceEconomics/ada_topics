{
 "cells": [
  {
   "cell_type": "code",
   "execution_count": null,
   "metadata": {},
   "outputs": [],
   "source": [
    "import pandas as pd\n",
    "import statsmodels.formula.api as smf\n",
    "\n",
    "pd.options.mode.copy_on_write = True\n",
    "pd.options.future.infer_string = True\n",
    "pd.options.plotting.backend = \"plotly\""
   ]
  },
  {
   "cell_type": "code",
   "execution_count": null,
   "metadata": {},
   "outputs": [],
   "source": [
    "piaac_education_and_computer_usage_by_country = pd.read_feather(\n",
    "    \"piaac_education_and_computer_usage_by_country.arrow\",\n",
    ")"
   ]
  },
  {
   "cell_type": "code",
   "execution_count": null,
   "metadata": {},
   "outputs": [],
   "source": [
    "piaac_education_and_computer_usage_by_country"
   ]
  },
  {
   "cell_type": "code",
   "execution_count": null,
   "metadata": {},
   "outputs": [],
   "source": [
    "fig = piaac_education_and_computer_usage_by_country.reset_index().plot.scatter(\n",
    "    x=\"fraction_with_tertiary_education\",\n",
    "    y=\"fraction_using_computer_at_work\",\n",
    "    text=\"country\",\n",
    ")\n",
    "fig.update_traces(textposition=\"top center\")\n",
    "fig.show()"
   ]
  },
  {
   "cell_type": "code",
   "execution_count": null,
   "metadata": {},
   "outputs": [],
   "source": [
    "five_countries = piaac_education_and_computer_usage_by_country.loc[\n",
    "    [\"Slovak Republic\", \"Austria\", \"Germany\", \"United Kingdom\", \"Norway\"]\n",
    "]"
   ]
  },
  {
   "cell_type": "code",
   "execution_count": null,
   "metadata": {},
   "outputs": [],
   "source": [
    "fig = five_countries.reset_index().plot.scatter(\n",
    "    x=\"fraction_with_tertiary_education\",\n",
    "    y=\"fraction_using_computer_at_work\",\n",
    "    text=\"country\",\n",
    ")\n",
    "fig.update_traces(textposition=\"top center\")\n",
    "fig.show()"
   ]
  },
  {
   "cell_type": "code",
   "execution_count": null,
   "metadata": {},
   "outputs": [],
   "source": [
    "model = smf.ols(\n",
    "    formula=\"fraction_using_computer_at_work ~ fraction_with_tertiary_education\",\n",
    "    data=five_countries,\n",
    ")\n",
    "results = model.fit()\n",
    "results.summary()"
   ]
  },
  {
   "cell_type": "code",
   "execution_count": null,
   "metadata": {},
   "outputs": [],
   "source": []
  }
 ],
 "metadata": {
  "language_info": {
   "codemirror_mode": {
    "name": "ipython",
    "version": 3
   },
   "file_extension": ".py",
   "mimetype": "text/x-python",
   "name": "python",
   "nbconvert_exporter": "python",
   "pygments_lexer": "ipython3"
  }
 },
 "nbformat": 4,
 "nbformat_minor": 2
}
