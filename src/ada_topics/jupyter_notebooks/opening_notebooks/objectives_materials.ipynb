{
 "cells": [
  {
   "cell_type": "markdown",
   "metadata": {},
   "source": [
    "# Opening Jupyter Notebooks on JupyterHub\n",
    "\n",
    "## Learning Objectives\n",
    "\n",
    "After working through this screencast, you should be able to:\n",
    "\n",
    "- Start a JupyterHub session from eCampus\n",
    "- Open a notebook\n",
    "- Find your way around the JupyterLab interface\n",
    "\n",
    "## Materials\n",
    "\n",
    "Here is the [screencast](https://electure.uni-bonn.de/static/mh_default_org/engage-player/xxx).\n",
    "\n",
    "## Quiz"
   ]
  },
  {
   "cell_type": "code",
   "execution_count": null,
   "metadata": {
    "tags": [
     "remove-input"
    ]
   },
   "outputs": [],
   "source": [
    "content = [\n",
    "    {\n",
    "        \"question\": \"Check all boxes that apply.\",\n",
    "        \"type\": \"many_choice\",\n",
    "        \"answers\": [\n",
    "            {\n",
    "                \"answer\": (\n",
    "                    \"We will get support from the teaching team if \\\n",
    "                        running things on our own computer.\",\n",
    "                ),\n",
    "                \"correct\": False,\n",
    "                \"feedback\": \"\",\n",
    "            },\n",
    "            {\n",
    "                \"answer\": (\n",
    "                    \"JupyterHub is the only way to run the \\\n",
    "                        Python code required in this course.\",\n",
    "                ),\n",
    "                \"correct\": False,\n",
    "                \"feedback\": (\n",
    "                    \"You can freely install Python and run code, that is why it is the \\\n",
    "                    most popular language for data analytics.\"\n",
    "                ),\n",
    "            },\n",
    "            {\n",
    "                \"answer\": (\n",
    "                    \"We will get support from the teaching \\\n",
    "                        team if running things on JupyterHub.\",\n",
    "                ),\n",
    "                \"correct\": True,\n",
    "                \"feedback\": (\n",
    "                    \"Still, please try for a reasonable amount of time yourselves and \"\n",
    "                    \"check with your peers.\"\n",
    "                ),\n",
    "            },\n",
    "            {\n",
    "                \"answer\": (\n",
    "                    \"We will get support from the teaching team if running things on \"\n",
    "                    \"our own computer.\"\n",
    "                ),\n",
    "                \"correct\": False,\n",
    "                \"feedback\": (\n",
    "                    \"Debugging issues on local machines takes too much time. Apologies.\"\n",
    "                ),\n",
    "            },\n",
    "        ],\n",
    "    },\n",
    "]\n",
    "\n",
    "from jupyterquiz import display_quiz\n",
    "\n",
    "display_quiz(content, colors=\"fdsp\")"
   ]
  }
 ],
 "metadata": {
  "language_info": {
   "codemirror_mode": {
    "name": "ipython",
    "version": 3
   },
   "file_extension": ".py",
   "mimetype": "text/x-python",
   "name": "python",
   "nbconvert_exporter": "python",
   "pygments_lexer": "ipython3"
  }
 },
 "nbformat": 4,
 "nbformat_minor": 2
}
