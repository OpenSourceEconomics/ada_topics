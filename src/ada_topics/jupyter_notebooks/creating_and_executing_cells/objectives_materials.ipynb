{
 "cells": [
  {
   "cell_type": "markdown",
   "metadata": {},
   "source": [
    "# Subchapter Title\n",
    "\n",
    "## Learning Objectives\n",
    "\n",
    "After working through this topic, you should be able to:\n",
    "\n",
    "- Create cells in a notebook\n",
    "- Execute notebook cells in various ways and recognize the most efficient in each situation\n",
    "  - Shift (or ctrl) + enter\n",
    "  - Run all\n",
    "\n",
    "## Materials\n",
    "\n",
    "Here is [screencast](https://electure.uni-bonn.de/static/mh_default_org/engage-player/xxx).\n",
    "\n",
    "## Quiz"
   ]
  },
  {
   "cell_type": "code",
   "execution_count": null,
   "metadata": {
    "tags": [
     "remove-input"
    ]
   },
   "outputs": [],
   "source": [
    "content = [\n",
    "    {\n",
    "        \"question\": \"The preferred way to execute a single notebook cell is...\",\n",
    "        \"type\": \"multiple_choice\",\n",
    "        \"answers\": [\n",
    "            {\n",
    "                \"answer\": (\n",
    "                    \"by clicking on the 'play' button in the top row of the notebook \"\n",
    "                    \"tab\"\n",
    "                ),\n",
    "                \"correct\": False,\n",
    "                \"feedback\": \"This takes nearly forever.\",\n",
    "            },\n",
    "            {\n",
    "                \"answer\": (\"Selecting the cell and pressing 'Shift' + 'Enter'.\"),\n",
    "                \"correct\": True,\n",
    "                \"feedback\": (\n",
    "                    \"Indeed, this is by far the quickest way. Practice this and other \"\n",
    "                    \"keyboard shortcuts.\"\n",
    "                ),\n",
    "            },\n",
    "            {\n",
    "                \"answer\": (\n",
    "                    \"by selecting 'Run' from the menu bar and then 'Run Selected Cell' \"\n",
    "                    \"from the drop-down menu.\"\n",
    "                ),\n",
    "                \"correct\": False,\n",
    "                \"feedback\": (\"This takes forever.\"),\n",
    "            },\n",
    "            {\n",
    "                \"answer\": (\n",
    "                    \"by selecting 'Run' from the menu bar and then 'Restart kernel and \"\n",
    "                    \"run all cells' from the drop-down menu.\"\n",
    "                ),\n",
    "                \"correct\": False,\n",
    "                \"feedback\": (\n",
    "                    \"This will run all cells. You will want to do that every now and \"\n",
    "                    \"then. And at the very end for sure. But not to run a single cell.\"\n",
    "                ),\n",
    "            },\n",
    "            {\n",
    "                \"answer\": (\n",
    "                    \"by clicking on the 'fast-forward' button in the top row of the \"\n",
    "                    \"notebook tab\"\n",
    "                ),\n",
    "                \"correct\": False,\n",
    "                \"feedback\": (\n",
    "                    \"This will run all cells. You will want to do that every now and \"\n",
    "                    \"then. And at the very end for sure. But not to run a single cell.\"\n",
    "                ),\n",
    "            },\n",
    "        ],\n",
    "    },\n",
    "]\n",
    "\n",
    "from jupyterquiz import display_quiz\n",
    "\n",
    "display_quiz(content, colors=\"fdsp\")"
   ]
  }
 ],
 "metadata": {
  "language_info": {
   "codemirror_mode": {
    "name": "ipython",
    "version": 3
   },
   "file_extension": ".py",
   "mimetype": "text/x-python",
   "name": "python",
   "nbconvert_exporter": "python",
   "pygments_lexer": "ipython3"
  }
 },
 "nbformat": 4,
 "nbformat_minor": 2
}
