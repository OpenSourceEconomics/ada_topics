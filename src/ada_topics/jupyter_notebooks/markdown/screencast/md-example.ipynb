{
 "cells": [
  {
   "cell_type": "markdown",
   "metadata": {},
   "source": [
    "Learning objectives. It is important that you understand why you are doing things —\n",
    "i.e., the goals of your activities. The activities in this course (attending lectures,\n",
    "watching videos, reading articles and other materials, completing quizzes, and, of\n",
    "course, working on the assignments) are all deduced from the learning objectives. These\n",
    "are things that you should be able to do after performing one or more of these\n",
    "activities. (Of course, full mastery may take more time.) The learning objectives come\n",
    "at two levels: the course level and the weekly level. At the course level, we group them\n",
    "into five categories: Descriptives statistics, programming techniques,  interpretation\n",
    "challenges,  personal skills, social skills. At the weekly level, we only list the\n",
    "learning objectives for descriptive statistics and programming techniques. Listing the\n",
    "objectives for getting a sense of interpretation challenges would mean giving away the\n",
    "solutions to the assignments. The objectives in terms of personal and social skills\n",
    "would simply be too repetitive at the weekly level.\n"
   ]
  },
  {
   "cell_type": "markdown",
   "metadata": {},
   "source": []
  }
 ],
 "metadata": {
  "language_info": {
   "codemirror_mode": {
    "name": "ipython",
    "version": 3
   },
   "file_extension": ".py",
   "mimetype": "text/x-python",
   "name": "python",
   "nbconvert_exporter": "python",
   "pygments_lexer": "ipython3"
  }
 },
 "nbformat": 4,
 "nbformat_minor": 2
}
