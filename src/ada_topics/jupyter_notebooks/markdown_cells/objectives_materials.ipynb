{
 "cells": [
  {
   "cell_type": "markdown",
   "metadata": {},
   "source": [
    "# Markdown cells\n",
    "## Learning Objectives\n",
    "\n",
    "After working through this topic, you should be able to:\n",
    "- Understand the difference between Python and Markdown cells\n",
    "- Describe why adding text between cells is useful\n",
    "- Write texts in Markdown using basic formatting:\n",
    "  - Insert title, subtitle, subsubtitle, ....\n",
    "  - Add text in italics and bold\n",
    "  - Insert unordered list (- .... - .... )\n",
    "  - Insert ordered list (1. 1. 1. ...)\n",
    "  - Write code in md\n",
    "  - Add links and images\n",
    "  - ...\n",
    "\n",
    "## Materials\n",
    "\n",
    "Here is the [screencast](https://electure.uni-bonn.de/static/mh_default_org/engage-player/xxx).\n",
    "These are the [slides](chapter_template-subchapter_1.pdf).\n",
    "\n",
    "## Additional Materials\n",
    "\n",
    "We report below a md cheat-sheet taken from [this website](https://www.markdownguide.org/cheat-sheet/). Additional material can also be found [here](https://github.com/adam-p/markdown-here/wiki/Markdown-Cheatsheet). \n",
    "\n",
    "| Element         | Markdown Syntax                          |\n",
    "|-----------------|------------------------------------------|\n",
    "| Heading         | # H1<br>## H2<br>### H3                  |\n",
    "| Bold            | \\*\\*bold text\\*\\*                            |\n",
    "| Italic          | \\*italicized text\\*                        |\n",
    "| Blockquote      | > blockquote                             |\n",
    "| Ordered List    | 1. First item<br>2. Second item<br>3. Third item |\n",
    "| Unordered List  | - First item<br>- Second item<br>- Third item   |\n",
    "| Code            | \\`code\\`                                   |\n",
    "| Horizontal Rule | ---                                      |\n",
    "| Link            | \\[title](https://www.example.com)         |\n",
    "| Image           | \\!\\[alt text](image.jpg)                   |\n"
   ]
  }
 ],
 "metadata": {
  "language_info": {
   "codemirror_mode": {
    "name": "ipython",
    "version": 3
   },
   "file_extension": ".py",
   "mimetype": "text/x-python",
   "name": "python",
   "nbconvert_exporter": "python",
   "pygments_lexer": "ipython3"
  }
 },
 "nbformat": 4,
 "nbformat_minor": 2
}
