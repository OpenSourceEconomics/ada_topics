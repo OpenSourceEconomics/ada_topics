{
 "cells": [
  {
   "cell_type": "markdown",
   "metadata": {},
   "source": [
    "# Markdown cells\n",
    "## Learning Objectives\n",
    "\n",
    "After working through this topic, you should be able to:\n",
    "- Describe what Markdown cells are\n",
    "- Explain why adding text cells is useful\n",
    "- Create Markdown cells\n",
    "- Employ basic Markdown syntax:\n",
    "  - title, subtitle, subsubtitle, ....\n",
    "  - text in italics and bold\n",
    "  - unordered list (- .... - .... )\n",
    "  - ordered list (1. 1. 1. ...)\n",
    "  - code in md\n",
    "  \n",
    "## Materials\n",
    "\n",
    "Here is the [screencast](https://electure.uni-bonn.de/static/mh_default_org/engage-player/xxx).\n",
    "These are the [slides](jupyter_notebooks-markdown_cells.pdf).\n",
    "\n",
    "## Additional Materials\n",
    "\n",
    "We report below a md cheat-sheet taken from [this website](https://www.markdownguide.org/cheat-sheet/). Additional material can also be found [here](https://github.com/adam-p/markdown-here/wiki/Markdown-Cheatsheet). \n",
    "\n",
    "| Element         | Markdown Syntax                          |\n",
    "|-----------------|------------------------------------------|\n",
    "| Heading         | # H1<br>## H2<br>### H3                  |\n",
    "| Bold            | \\*\\*bold text\\*\\*                            |\n",
    "| Italic          | \\*italicized text\\*                        |\n",
    "| Blockquote      | > blockquote_line1 <br> > blockquote_line2 |\n",
    "| Ordered List    | 1. First item<br>2. Second item<br>3. Third item |\n",
    "| Unordered List  | - First item<br>- Second item<br>- Third item   |\n",
    "| In-line code    | \\`code\\`                                   |\n",
    "| Code block      | \\```python <br> first_line <br>    second_line <br> ``` |\n",
    "| Horizontal Rule | ---                                      |\n",
    "| Link            | \\[title](https://www.example.com)         |\n",
    "| Image           | \\!\\[alt text](image.jpg)                   |\n"
   ]
  }
 ],
 "metadata": {
  "language_info": {
   "codemirror_mode": {
    "name": "ipython",
    "version": 3
   },
   "file_extension": ".py",
   "mimetype": "text/x-python",
   "name": "python",
   "nbconvert_exporter": "python",
   "pygments_lexer": "ipython3"
  }
 },
 "nbformat": 4,
 "nbformat_minor": 2
}
