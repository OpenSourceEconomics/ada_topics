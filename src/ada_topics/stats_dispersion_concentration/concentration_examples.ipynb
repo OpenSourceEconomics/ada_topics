{
 "cells": [
  {
   "attachments": {},
   "cell_type": "markdown",
   "metadata": {},
   "source": [
    "# Concentration measures"
   ]
  },
  {
   "cell_type": "code",
   "execution_count": null,
   "metadata": {},
   "outputs": [],
   "source": [
    "import copy\n",
    "\n",
    "import numpy as np\n",
    "import pandas as pd\n",
    "import plotly.express as px\n",
    "import plotly.graph_objects as go\n",
    "import plotly.io as pio\n",
    "from scipy import stats\n",
    "\n",
    "pio.templates.default = \"plotly_dark+presentation\"\n",
    "\n",
    "pd.options.plotting.backend = \"plotly\"\n",
    "\n",
    "default_colors = px.colors.qualitative.Plotly"
   ]
  },
  {
   "cell_type": "code",
   "execution_count": null,
   "metadata": {},
   "outputs": [],
   "source": [
    "df = (\n",
    "    pd.DataFrame(\n",
    "        {\n",
    "            \"A\": [1, 1, 4],\n",
    "            \"B\": [2 - 3**0.5, 2, 2 + 3**0.5],\n",
    "        }\n",
    "    )\n",
    "    / 6\n",
    ")\n",
    "df.loc[\"mean\"] = df.mean()\n",
    "df.loc[\"var\"] = df.loc[:2].var()\n",
    "print(df.round(2).to_markdown())"
   ]
  },
  {
   "cell_type": "code",
   "execution_count": null,
   "metadata": {},
   "outputs": [],
   "source": [
    "rng = np.random.default_rng(seed=9459974)\n",
    "n = 100_000\n",
    "skew = pd.Series(data=stats.skewnorm.rvs(a=5, size=n, random_state=rng))\n",
    "skew = skew - skew.min()\n",
    "fig = skew.plot.hist(nbins=1000)\n",
    "fig.add_vline(x=skew.quantile(0.25), line_width=5, line_color=\"#FFB3A1\")\n",
    "fig.add_vline(x=skew.quantile(0.9), line_width=5, line_color=\"#D0D6FF\")\n",
    "fig.update_layout(showlegend=False, width=1000, height=600)\n",
    "fig.write_image(\"concentration_quantile/screencast/public/initial.svg\")\n",
    "fig"
   ]
  },
  {
   "cell_type": "code",
   "execution_count": null,
   "metadata": {},
   "outputs": [],
   "source": [
    "fig_sum = copy.deepcopy(fig)\n",
    "fig_sum.add_annotation(\n",
    "    x=0.45,\n",
    "    y=650,\n",
    "    text=(\n",
    "        \"Sum of values <br>at the 25th <br>percentile <br>and below: <br>\"\n",
    "        f\"{int(skew[skew <= skew.quantile(0.25)].sum().round(-3))}\"\n",
    "    ),\n",
    "    align=\"left\",\n",
    "    showarrow=False,\n",
    "    font={\"color\": \"#FFB3A1\", \"size\": 20},\n",
    ")\n",
    "fig_sum.add_annotation(\n",
    "    x=3.5,\n",
    "    y=503,\n",
    "    text=(\n",
    "        \"Sum of values at the<br>90th percentile and above: \"\n",
    "        f\"{int(skew[skew >= skew.quantile(0.9)].sum().round(-3))}\"\n",
    "    ),\n",
    "    align=\"left\",\n",
    "    showarrow=False,\n",
    "    font={\"color\": \"#D0D6FF\", \"size\": 20},\n",
    ")\n",
    "fig_sum.write_image(\"concentration_quantile/screencast/public/sum.svg\")\n",
    "fig_sum.show()"
   ]
  },
  {
   "cell_type": "code",
   "execution_count": null,
   "metadata": {},
   "outputs": [],
   "source": [
    "fig_sum = copy.deepcopy(fig)\n",
    "fig_sum.add_annotation(\n",
    "    x=0.45,\n",
    "    y=650,\n",
    "    text=(\n",
    "        f\"{skew[skew <= skew.quantile(0.25)].sum() / skew.sum():.0%} \"\n",
    "        \"of total<br>concentrated<br>at the 25th<br>percentile<br>and below\"\n",
    "    ),\n",
    "    align=\"left\",\n",
    "    showarrow=False,\n",
    "    font={\"color\": \"#FFB3A1\", \"size\": 20},\n",
    ")\n",
    "fig_sum.add_annotation(\n",
    "    x=3.5,\n",
    "    y=503,\n",
    "    text=(\n",
    "        f\"{skew[skew >= skew.quantile(0.9)].sum() / skew.sum():.0%} \"\n",
    "        \"of total concentrated at the<br>90th percentile and above\"\n",
    "    ),\n",
    "    align=\"left\",\n",
    "    showarrow=False,\n",
    "    font={\"color\": \"#D0D6FF\", \"size\": 20},\n",
    ")\n",
    "fig_sum.write_image(\"concentration_quantile/screencast/public/frac.svg\")\n",
    "fig_sum.show()"
   ]
  },
  {
   "cell_type": "code",
   "execution_count": null,
   "metadata": {},
   "outputs": [],
   "source": [
    "tiny = pd.DataFrame({\"A\": [1, 5, 6], \"B\": [2, 2, 8], \"C\": [4, 4, 4]}, index=[1, 2, 3])\n",
    "print(tiny.to_markdown(index=False))"
   ]
  },
  {
   "cell_type": "code",
   "execution_count": null,
   "metadata": {},
   "outputs": [],
   "source": [
    "tiny_rel = tiny / tiny.sum()\n",
    "print(tiny_rel.round(2).to_markdown(index=False))"
   ]
  },
  {
   "cell_type": "code",
   "execution_count": null,
   "metadata": {},
   "outputs": [],
   "source": [
    "tiny_cum_sum = tiny.cumsum()\n",
    "print(tiny_cum_sum.to_markdown(index=False))"
   ]
  },
  {
   "cell_type": "code",
   "execution_count": null,
   "metadata": {},
   "outputs": [],
   "source": [
    "tiny_dist = (\n",
    "    tiny_cum_sum.reset_index() / tiny_cum_sum.reset_index().iloc[-1]\n",
    ").set_index(\"index\")\n",
    "print(tiny_dist.round(2).to_markdown(index=False))\n",
    "tiny_dist_stacked = (\n",
    "    tiny_dist.stack(future_stack=True)\n",
    "    .reset_index()\n",
    "    .rename(\n",
    "        columns={\n",
    "            \"index\": \"Headcount share\",\n",
    "            \"level_1\": \"Series\",\n",
    "            0: \"Value share\",\n",
    "        }\n",
    "    )\n",
    ")"
   ]
  },
  {
   "cell_type": "code",
   "execution_count": null,
   "metadata": {},
   "outputs": [],
   "source": [
    "def gini(rel):\n",
    "    n = len(rel)\n",
    "    return (2 * sum([(i + 1) * rel.iloc[i] for i in range(n)]) - (n + 1)) / n"
   ]
  },
  {
   "cell_type": "code",
   "execution_count": null,
   "metadata": {},
   "outputs": [],
   "source": [
    "tiny_gini = pd.DataFrame({c: [gini(tiny_rel[c])] for c in tiny_rel.columns})\n",
    "print(tiny_gini.round(2).to_markdown(index=False))"
   ]
  },
  {
   "cell_type": "code",
   "execution_count": null,
   "metadata": {},
   "outputs": [],
   "source": [
    "fig_only_a_only_data = tiny_dist_stacked.plot.scatter(\n",
    "    x=\"Headcount share\", y=\"Value share\", color=\"Series\"\n",
    ")\n",
    "ticktext = [\"0\", \"1/3\", \"2/3\", \"1\"]\n",
    "axis_props = {\n",
    "    \"range\": [-0.1, 1.1],\n",
    "    \"tickvals\": [eval(t) for t in ticktext],\n",
    "    \"ticktext\": ticktext,\n",
    "}\n",
    "fig_only_a_only_data.update_layout(\n",
    "    xaxis=axis_props,\n",
    "    yaxis=axis_props,\n",
    ")\n",
    "fig_only_a_only_data.data[1].visible = \"legendonly\"\n",
    "fig_only_a_only_data.data[2].visible = \"legendonly\"\n",
    "\n",
    "for subchapter in (\"lorenz_curves\",):\n",
    "    fig_only_a_only_data.write_image(\n",
    "        f\"{subchapter}/screencast/public/data_points_only_a-line_none.svg\"\n",
    "    )\n",
    "fig_only_a_only_data"
   ]
  },
  {
   "cell_type": "code",
   "execution_count": null,
   "metadata": {},
   "outputs": [],
   "source": [
    "fig_only_a_with_first_segment = copy.deepcopy(fig_only_a_only_data)\n",
    "fig_only_a_with_first_segment.add_trace(\n",
    "    go.Scatter(\n",
    "        x=[0, 1 / 3],\n",
    "        y=[0, 1 / 12],\n",
    "        mode=\"lines\",\n",
    "        showlegend=False,\n",
    "        line={\"color\": default_colors[0]},\n",
    "    )\n",
    ")\n",
    "for subchapter in (\"lorenz_curves\",):\n",
    "    fig_only_a_with_first_segment.write_image(\n",
    "        f\"{subchapter}/screencast/public/data_points_only_a-line_first_segment.svg\"\n",
    "    )\n",
    "fig_only_a_with_first_segment.show()"
   ]
  },
  {
   "cell_type": "code",
   "execution_count": null,
   "metadata": {},
   "outputs": [],
   "source": [
    "fig_only_a_with_first_two_segments = copy.deepcopy(fig_only_a_with_first_segment)\n",
    "fig_only_a_with_first_two_segments.add_trace(\n",
    "    go.Scatter(\n",
    "        x=[1 / 3, 2 / 3],\n",
    "        y=[1 / 12, 0.5],\n",
    "        mode=\"lines\",\n",
    "        showlegend=False,\n",
    "        line={\"color\": default_colors[0]},\n",
    "    )\n",
    ")\n",
    "for subchapter in (\"lorenz_curves\",):\n",
    "    fig_only_a_with_first_two_segments.write_image(\n",
    "        f\"{subchapter}/screencast/public/data_points_only_a-line_first_two_segments.svg\"\n",
    "    )\n",
    "fig_only_a_with_first_two_segments.show()"
   ]
  },
  {
   "cell_type": "code",
   "execution_count": null,
   "metadata": {},
   "outputs": [],
   "source": [
    "fig_only_a_with_all_segments = copy.deepcopy(fig_only_a_with_first_two_segments)\n",
    "fig_only_a_with_all_segments.add_trace(\n",
    "    go.Scatter(\n",
    "        x=[2 / 3, 1],\n",
    "        y=[0.5, 1],\n",
    "        mode=\"lines\",\n",
    "        showlegend=False,\n",
    "        line={\"color\": default_colors[0]},\n",
    "    )\n",
    ")\n",
    "for subchapter in (\"lorenz_curves\", \"gini\"):\n",
    "    fig_only_a_with_all_segments.write_image(\n",
    "        f\"{subchapter}/screencast/public/data_points_only_a-line_all_segments.svg\"\n",
    "    )\n",
    "fig_only_a_with_all_segments.show()"
   ]
  },
  {
   "cell_type": "code",
   "execution_count": null,
   "metadata": {},
   "outputs": [],
   "source": [
    "fig_only_a_b = copy.deepcopy(fig_only_a_with_all_segments)\n",
    "fig_only_a_b.data[1].visible = True\n",
    "fig_only_a_b.add_traces(\n",
    "    [\n",
    "        go.Scatter(\n",
    "            x=[0, 1 / 3],\n",
    "            y=[0, 1 / 6],\n",
    "            mode=\"lines\",\n",
    "            showlegend=False,\n",
    "            line={\"color\": default_colors[1]},\n",
    "        ),\n",
    "        go.Scatter(\n",
    "            x=[1 / 3, 2 / 3],\n",
    "            y=[1 / 6, 1 / 3],\n",
    "            mode=\"lines\",\n",
    "            showlegend=False,\n",
    "            line={\"color\": default_colors[1]},\n",
    "        ),\n",
    "        go.Scatter(\n",
    "            x=[2 / 3, 1],\n",
    "            y=[1 / 3, 1],\n",
    "            mode=\"lines\",\n",
    "            showlegend=False,\n",
    "            line={\"color\": default_colors[1]},\n",
    "        ),\n",
    "    ]\n",
    ")\n",
    "for subchapter in (\"lorenz_curves\",):\n",
    "    fig_only_a_b.write_image(\n",
    "        f\"{subchapter}/screencast/public/data_points_a_b-lines_a_b.svg\"\n",
    "    )\n",
    "fig_only_a_b.show()"
   ]
  },
  {
   "cell_type": "code",
   "execution_count": null,
   "metadata": {},
   "outputs": [],
   "source": [
    "fig_all = copy.deepcopy(fig_only_a_b)\n",
    "fig_all.data[2].visible = True\n",
    "fig_all.add_trace(\n",
    "    go.Scatter(\n",
    "        x=[0, 1],\n",
    "        y=[0, 1],\n",
    "        mode=\"lines\",\n",
    "        showlegend=False,\n",
    "        line={\"color\": default_colors[2]},\n",
    "    )\n",
    ")\n",
    "for subchapter in (\"lorenz_curves\", \"gini\"):\n",
    "    fig_all.write_image(f\"{subchapter}/screencast/public/data_points_all-lines_all.svg\")\n",
    "fig_all.show()"
   ]
  },
  {
   "cell_type": "code",
   "execution_count": null,
   "metadata": {},
   "outputs": [],
   "source": [
    "fig_shade_a = copy.deepcopy(fig_only_a_with_all_segments)\n",
    "fig_shade_a.add_traces(\n",
    "    [\n",
    "        go.Scatter(\n",
    "            x=[0, 1 / 3, 1 / 3, 0],\n",
    "            y=[0, 1 / 12, 1 / 3, 0],\n",
    "            mode=\"lines\",\n",
    "            showlegend=False,\n",
    "            line={\"color\": \"rgba(99, 110, 250, 0)\"},\n",
    "            fill=\"toself\",\n",
    "            fillcolor=\"rgba(99, 110, 250, 0.5)\",\n",
    "        ),\n",
    "        go.Scatter(\n",
    "            x=[1 / 3, 2 / 3, 2 / 3, 1 / 3],\n",
    "            y=[1 / 12, 0.5, 2 / 3, 1 / 3],\n",
    "            mode=\"lines\",\n",
    "            showlegend=False,\n",
    "            line={\"color\": \"rgba(99, 110, 250, 0)\"},\n",
    "            fill=\"toself\",\n",
    "            fillcolor=\"rgba(99, 110, 250, 0.5)\",\n",
    "        ),\n",
    "        go.Scatter(\n",
    "            x=[2 / 3, 1, 1, 2 / 3],\n",
    "            y=[0.5, 1, 1, 2 / 3],\n",
    "            mode=\"lines\",\n",
    "            showlegend=False,\n",
    "            line={\"color\": \"rgba(99, 110, 250, 0)\"},\n",
    "            fill=\"toself\",\n",
    "            fillcolor=\"rgba(99, 110, 250, 0.5)\",\n",
    "        ),\n",
    "    ]\n",
    ")\n",
    "for subchapter in (\"gini\",):\n",
    "    fig_shade_a.write_image(\n",
    "        f\"{subchapter}/screencast/public/data_points_all-shade_a.svg\"\n",
    "    )\n",
    "fig_shade_a.show()"
   ]
  },
  {
   "cell_type": "code",
   "execution_count": null,
   "metadata": {},
   "outputs": [],
   "source": [
    "default_colors[5]"
   ]
  },
  {
   "cell_type": "code",
   "execution_count": null,
   "metadata": {},
   "outputs": [],
   "source": []
  }
 ],
 "metadata": {
  "language_info": {
   "codemirror_mode": {
    "name": "ipython",
    "version": 3
   },
   "file_extension": ".py",
   "mimetype": "text/x-python",
   "name": "python",
   "nbconvert_exporter": "python",
   "pygments_lexer": "ipython3"
  }
 },
 "nbformat": 4,
 "nbformat_minor": 4
}
