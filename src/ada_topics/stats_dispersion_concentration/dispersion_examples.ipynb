{
 "cells": [
  {
   "attachments": {},
   "cell_type": "markdown",
   "metadata": {},
   "source": [
    "# Example from Finanz- und Sozialpolitik\n",
    "\n"
   ]
  },
  {
   "cell_type": "code",
   "execution_count": null,
   "metadata": {},
   "outputs": [],
   "source": [
    "import copy\n",
    "\n",
    "import numpy as np\n",
    "import pandas as pd\n",
    "import plotly.io as pio\n",
    "from scipy import stats\n",
    "\n",
    "pio.templates.default = \"plotly_dark+presentation\"\n",
    "\n",
    "pd.options.plotting.backend = \"plotly\""
   ]
  },
  {
   "cell_type": "markdown",
   "metadata": {},
   "source": [
    "# Abstract distributions"
   ]
  },
  {
   "cell_type": "code",
   "execution_count": null,
   "metadata": {},
   "outputs": [],
   "source": [
    "rng = np.random.default_rng(seed=9459974)\n",
    "n = 100_000\n",
    "df = pd.DataFrame(\n",
    "    data={\n",
    "        \"Small\": pd.Series(stats.norm.rvs(size=n, scale=1.0, random_state=rng)),\n",
    "        \"Large\": pd.Series(stats.norm.rvs(size=n, scale=1.5, random_state=rng)),\n",
    "    }\n",
    ").melt(var_name=\"Dispersion\", value_name=\"Value\")\n",
    "df_grouped = df.groupby(\"Dispersion\")[\"Value\"]\n",
    "df_grouped_description = df_grouped.describe()"
   ]
  },
  {
   "cell_type": "code",
   "execution_count": null,
   "metadata": {},
   "outputs": [],
   "source": [
    "fig_bare = df.plot.hist(nbins=75, color=\"Dispersion\", barmode=\"group\")\n",
    "fig_bare.update_layout(\n",
    "    title=\"Distributions\",\n",
    "    xaxis_title=\"\",\n",
    "    yaxis_title=\"\",\n",
    ")\n",
    "fig_bare.update_xaxes(\n",
    "    tickvals=[],\n",
    "    range=[df[\"Value\"].min() - 0.05, df[\"Value\"].max() + 0.05],\n",
    ")\n",
    "fig_bare.update_yaxes(\n",
    "    tickvals=[],\n",
    "    range=[0, 9000],\n",
    ")\n",
    "for subchapter in \"absolute\", \"squared\":\n",
    "    fig_bare.write_image(f\"{subchapter}/screencast/public/bare.svg\")\n",
    "fig_bare.show()"
   ]
  },
  {
   "cell_type": "code",
   "execution_count": null,
   "metadata": {},
   "outputs": [],
   "source": [
    "fig_only_small = copy.deepcopy(fig_bare)\n",
    "fig_only_small.data[1].visible = \"legendonly\"\n",
    "fig_only_small.update_layout(\n",
    "    xaxis_range=fig_bare.layout.xaxis.range,\n",
    "    yaxis_range=fig_bare.layout.yaxis.range,\n",
    ")\n",
    "for subchapter in \"absolute\", \"squared\":\n",
    "    fig_only_small.write_image(f\"{subchapter}/screencast/public/only_small.svg\")\n",
    "fig_only_small.show()"
   ]
  },
  {
   "cell_type": "code",
   "execution_count": null,
   "metadata": {},
   "outputs": [],
   "source": [
    "fig_min_max_small_only = copy.deepcopy(fig_only_small)\n",
    "fig_min_max_small_only.update_layout(title=\"Distributions with Minimum and Maximum\")\n",
    "\n",
    "fig_min_max_small_only.add_vline(\n",
    "    x=df_grouped_description.loc[\"Small\", \"min\"], line_width=5, line_color=\"#D0D6FF\"\n",
    ")\n",
    "fig_min_max_small_only.add_vline(\n",
    "    x=df_grouped_description.loc[\"Small\", \"max\"], line_width=5, line_color=\"#D0D6FF\"\n",
    ")\n",
    "\n",
    "fig_min_max_small_only.write_image(\"absolute/screencast/public/min_max_small_only.svg\")\n",
    "fig_min_max_small_only"
   ]
  },
  {
   "cell_type": "code",
   "execution_count": null,
   "metadata": {},
   "outputs": [],
   "source": [
    "fig_min_max = copy.deepcopy(fig_bare)\n",
    "fig_min_max.update_layout(title=\"Distributions with Minimum and Maximum\")\n",
    "\n",
    "fig_min_max.add_vline(\n",
    "    x=df_grouped_description.loc[\"Small\", \"min\"], line_width=5, line_color=\"#D0D6FF\"\n",
    ")\n",
    "fig_min_max.add_vline(\n",
    "    x=df_grouped_description.loc[\"Small\", \"max\"], line_width=5, line_color=\"#D0D6FF\"\n",
    ")\n",
    "\n",
    "fig_min_max.add_vline(\n",
    "    x=df_grouped_description.loc[\"Large\", \"min\"], line_width=5, line_color=\"#FFB3A1\"\n",
    ")\n",
    "fig_min_max.add_vline(\n",
    "    x=df_grouped_description.loc[\"Large\", \"max\"], line_width=5, line_color=\"#FFB3A1\"\n",
    ")\n",
    "fig_min_max.write_image(\"absolute/screencast/public/min_max.svg\")\n",
    "\n",
    "fig_min_max.show()"
   ]
  },
  {
   "cell_type": "code",
   "execution_count": null,
   "metadata": {},
   "outputs": [],
   "source": [
    "fig_quartiles = copy.deepcopy(fig_bare)\n",
    "fig_quartiles.update_layout(title=\"Distributions with 1st and 3rd quartiles\")\n",
    "\n",
    "fig_quartiles.add_vline(\n",
    "    x=df_grouped_description.loc[\"Small\", \"25%\"], line_width=5, line_color=\"#D0D6FF\"\n",
    ")\n",
    "fig_quartiles.add_vline(\n",
    "    x=df_grouped_description.loc[\"Small\", \"75%\"], line_width=5, line_color=\"#D0D6FF\"\n",
    ")\n",
    "\n",
    "fig_quartiles.add_vline(\n",
    "    x=df_grouped_description.loc[\"Large\", \"25%\"], line_width=5, line_color=\"#FFB3A1\"\n",
    ")\n",
    "fig_quartiles.add_vline(\n",
    "    x=df_grouped_description.loc[\"Large\", \"75%\"], line_width=5, line_color=\"#FFB3A1\"\n",
    ")\n",
    "fig_quartiles.write_image(\"absolute/screencast/public/quartiles.svg\")\n",
    "\n",
    "fig_quartiles.show()"
   ]
  },
  {
   "cell_type": "code",
   "execution_count": null,
   "metadata": {},
   "outputs": [],
   "source": [
    "fig_deciles = copy.deepcopy(fig_bare)\n",
    "fig_deciles.update_layout(title=\"Distributions with 10th and 90th Percentiles\")\n",
    "\n",
    "fig_deciles.add_vline(\n",
    "    x=df_grouped.quantile(0.1).loc[\"Small\"], line_width=5, line_color=\"#D0D6FF\"\n",
    ")\n",
    "fig_deciles.add_vline(\n",
    "    x=df_grouped.quantile(0.9).loc[\"Small\"], line_width=5, line_color=\"#D0D6FF\"\n",
    ")\n",
    "\n",
    "fig_deciles.add_vline(\n",
    "    x=df_grouped.quantile(0.1).loc[\"Large\"], line_width=5, line_color=\"#FFB3A1\"\n",
    ")\n",
    "fig_deciles.add_vline(\n",
    "    x=df_grouped.quantile(0.9).loc[\"Large\"], line_width=5, line_color=\"#FFB3A1\"\n",
    ")\n",
    "fig_deciles.write_image(\"absolute/screencast/public/deciles.svg\")\n",
    "\n",
    "fig_deciles.show()"
   ]
  },
  {
   "cell_type": "code",
   "execution_count": null,
   "metadata": {},
   "outputs": [],
   "source": [
    "df_skew = pd.DataFrame(\n",
    "    {\n",
    "        \"Symmetric\": stats.skewnorm.rvs(a=0, size=n, random_state=rng),\n",
    "        \"Right-skewed\": stats.skewnorm.rvs(a=5, size=n, random_state=rng),\n",
    "        \"Left-skewed\": stats.skewnorm.rvs(a=-5, size=n, random_state=rng),\n",
    "    }\n",
    ")\n",
    "for c in df_skew.columns:\n",
    "    df_skew[c] = (df_skew[c] - df_skew[c].mean()) / df_skew[c].std()\n",
    "df_skew = df_skew.melt(var_name=\"Skewness\", value_name=\"Value\")\n",
    "df_skew_grouped = df_skew.groupby(\"Skewness\")[\"Value\"]\n",
    "df_skew_grouped_description = df_skew_grouped.describe()"
   ]
  },
  {
   "cell_type": "code",
   "execution_count": null,
   "metadata": {},
   "outputs": [],
   "source": [
    "df_skew_grouped_description"
   ]
  },
  {
   "cell_type": "code",
   "execution_count": null,
   "metadata": {},
   "outputs": [],
   "source": [
    "df_skew"
   ]
  },
  {
   "cell_type": "code",
   "execution_count": null,
   "metadata": {},
   "outputs": [],
   "source": [
    "fig_bare = df_skew.plot.hist(nbins=75, color=\"Skewness\", barmode=\"group\")\n",
    "fig_bare.update_layout(\n",
    "    title=\"Distributions\",\n",
    "    xaxis_title=\"\",\n",
    "    yaxis_title=\"\",\n",
    ")\n",
    "fig_bare.update_xaxes(\n",
    "    tickvals=[],\n",
    "    range=[\n",
    "        df_skew_grouped.quantile(0.001)[\"Left-skewed\"],\n",
    "        df_skew_grouped.quantile(0.999)[\"Right-skewed\"],\n",
    "    ],\n",
    ")\n",
    "fig_bare.update_yaxes(\n",
    "    tickvals=[],\n",
    "    range=[0, 9000],\n",
    ")\n",
    "fig_bare.write_image(\"skewness/screencast/public/bare.svg\")\n",
    "fig_bare.show()"
   ]
  },
  {
   "cell_type": "code",
   "execution_count": null,
   "metadata": {},
   "outputs": [],
   "source": [
    "fig_only_sym = copy.deepcopy(fig_bare)\n",
    "fig_only_sym.data[1].visible = \"legendonly\"\n",
    "fig_only_sym.data[2].visible = \"legendonly\"\n",
    "fig_only_sym.update_layout(\n",
    "    xaxis_range=fig_bare.layout.xaxis.range,\n",
    "    yaxis_range=fig_bare.layout.yaxis.range,\n",
    ")\n",
    "fig_only_sym.write_image(\"skewness/screencast/public/only_sym.svg\")\n",
    "fig_only_sym.show()"
   ]
  },
  {
   "cell_type": "code",
   "execution_count": null,
   "metadata": {},
   "outputs": [],
   "source": [
    "fig_sym_right = copy.deepcopy(fig_bare)\n",
    "fig_sym_right.data[2].visible = \"legendonly\"\n",
    "fig_sym_right.update_layout(\n",
    "    xaxis_range=fig_bare.layout.xaxis.range,\n",
    "    yaxis_range=fig_bare.layout.yaxis.range,\n",
    ")\n",
    "fig_sym_right.write_image(\"skewness/screencast/public/sym_right.svg\")\n",
    "fig_sym_right.show()"
   ]
  },
  {
   "cell_type": "code",
   "execution_count": null,
   "metadata": {},
   "outputs": [],
   "source": [
    "fig_sym_left = copy.deepcopy(fig_bare)\n",
    "fig_sym_left.data[1].visible = \"legendonly\"\n",
    "fig_sym_left.update_layout(\n",
    "    xaxis_range=fig_bare.layout.xaxis.range,\n",
    "    yaxis_range=fig_bare.layout.yaxis.range,\n",
    ")\n",
    "fig_sym_left.write_image(\"skewness/screencast/public/sym_left.svg\")\n",
    "fig_sym_left.show()"
   ]
  },
  {
   "cell_type": "code",
   "execution_count": null,
   "metadata": {},
   "outputs": [],
   "source": [
    "tiny = pd.DataFrame({\"A\": [2, 4, 6], \"B\": [1, 3, 8]})\n",
    "tiny_mad = (tiny - tiny.median()).abs()\n",
    "tiny_mad = tiny_mad.rename(columns={\"A\": \"|A - 4|\", \"B\": \"|B - 3|\"})\n",
    "tiny_mad = pd.concat([tiny_mad, tiny_mad.mean().to_frame(name=3).T]).round(2)\n",
    "tiny_out = tiny.astype(str).join(tiny_mad, how=\"outer\")\n",
    "tiny_out = tiny_out[[\"A\", \"|A - 4|\", \"B\", \"|B - 3|\"]].fillna(\"MAD\")\n",
    "print(tiny_out.to_markdown(index=False))"
   ]
  },
  {
   "cell_type": "code",
   "execution_count": null,
   "metadata": {},
   "outputs": [],
   "source": [
    "tiny_for_df_correction = pd.concat([tiny.copy(), tiny.mean().to_frame(name=\"Mean\").T])\n",
    "print(tiny_for_df_correction.astype(int).to_markdown())"
   ]
  },
  {
   "cell_type": "code",
   "execution_count": null,
   "metadata": {},
   "outputs": [],
   "source": [
    "tiny_sq = (tiny - tiny.mean()) ** 2\n",
    "tiny_sq = tiny_sq.rename(columns={\"A\": \"(A - 4)²\", \"B\": \"(B - 4)²\"})\n",
    "tiny_sq = pd.concat(\n",
    "    [\n",
    "        tiny_sq,\n",
    "        tiny_sq.sum().to_frame(name=3).T,\n",
    "        (tiny_sq.sum() / (len(tiny_sq) - 1)).to_frame(name=4).T,\n",
    "        ((tiny_sq.sum() / (len(tiny_sq) - 1)) ** 0.5).to_frame(name=5).T,\n",
    "    ]\n",
    ").round(2)\n",
    "tiny_out = tiny.astype(str).join(tiny_sq, how=\"outer\")\n",
    "tiny_out = tiny_out[[\"A\", \"(A - 4)²\", \"B\", \"(B - 4)²\"]].fillna(\"SSD\")\n",
    "tiny_out.loc[4:5, \"A\"] = [\"Variance\", \"Std. Dev.\"]\n",
    "tiny_out.loc[4:5, \"B\"] = [\"Variance\", \"Std. Dev.\"]\n",
    "print(tiny_out.round(1).to_markdown(index=False))"
   ]
  },
  {
   "cell_type": "code",
   "execution_count": null,
   "metadata": {},
   "outputs": [],
   "source": [
    "tiny.std()"
   ]
  },
  {
   "cell_type": "code",
   "execution_count": null,
   "metadata": {},
   "outputs": [],
   "source": [
    "tiny_cub = (tiny - tiny.mean()) ** 3\n",
    "tiny_cub = pd.concat(\n",
    "    [\n",
    "        tiny_cub,\n",
    "        tiny_cub.sum().to_frame(name=3).T,\n",
    "        (3 / 2) * (tiny_cub.sum() / tiny.mean() ** 3).to_frame(name=4).T,\n",
    "    ]\n",
    ").round(2)\n",
    "tiny_cub = tiny_cub.rename(columns={\"A\": \"(A - 4)³\", \"B\": \"(B - 4)³\"})\n",
    "tiny_out = tiny.astype(str).join(tiny_cub, how=\"outer\")\n",
    "tiny_out = tiny_out[[\"A\", \"(A - 4)³\", \"B\", \"(B - 4)³\"]].fillna(\"SCD\")\n",
    "tiny_out.loc[4, (\"A\", \"B\")] = \"Skewness\"\n",
    "print(tiny_out.round(2).to_markdown(index=False))"
   ]
  }
 ],
 "metadata": {
  "language_info": {
   "codemirror_mode": {
    "name": "ipython",
    "version": 3
   },
   "file_extension": ".py",
   "mimetype": "text/x-python",
   "name": "python",
   "nbconvert_exporter": "python",
   "pygments_lexer": "ipython3"
  }
 },
 "nbformat": 4,
 "nbformat_minor": 4
}
