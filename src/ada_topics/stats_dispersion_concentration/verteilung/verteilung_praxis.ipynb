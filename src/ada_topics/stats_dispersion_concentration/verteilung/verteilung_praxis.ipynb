{
 "cells": [
  {
   "cell_type": "code",
   "execution_count": null,
   "metadata": {},
   "outputs": [],
   "source": [
    "import numpy as np\n",
    "import pandas as pd\n",
    "import plotly.figure_factory as ff\n",
    "from scipy.stats import entropy, mielke\n",
    "\n",
    "pd.options.plotting.backend = \"plotly\""
   ]
  },
  {
   "attachments": {},
   "cell_type": "markdown",
   "metadata": {},
   "source": [
    "# Intuition für Verteilungsmaße\n",
    "\n",
    "Um ein Gefühl für die Verteilungsmaße zu bekommen, illustrieren wir Sie auf Basis von geschätzten Verteilungen. Wir nehmen geschätzte Parameter für eine [Dagum-Verteilung](https://ideas.repec.org/p/bsl/wpaper/2007-23.html) (in Scipy implementiert als [Mielke-Verteilung](https://scipy.github.io/devdocs/generated/scipy.stats.mielke.html#scipy.stats.mielke) nach vorheriger Wiederentdeckung der Burr-Typ-III-Verteilung) für Deutschland, Frankreich, Niederlande und Polen im Jahr 2011, um die Daten zu simulieren. \n",
    "\n",
    "Die Quelle der geschätzten Parameter ist: Koen Decancq und Philippe Van Kerm (Hrsg.), [What Drives Inequality?](https://books.google.de/books?id=K6SsDwAAQBAJ), Emerald Publishing Group 2019. \n",
    "\n",
    "NB: \n",
    "- Die Daten sind auf Basis des EU-SILC geschätzt und die parametrische Verteilung deckt den rechten Rand nicht gut ab. \n",
    "- Alle Daten sind für das kaufkraftbereinigte Äquivalenzeinkommen; das genaue Verfahren für die Kaufkraftbereinigung konnten wir nicht nachvollziehen, in jedem Fall schauen Sie nicht zu genau auf die Vergleiche über Länder hinweg. Das heißt, behalten Sie bitte keine Aussagen wie \"Die Niederlande haben eine geringere Einkommensungleichheit als Deutschland\" im Hinterkopf.\n",
    "\n",
    "## Ziehung von je 100.000 Beobachtungen\n",
    "\n",
    "Zunächst setzen wir den Zustand des Zufallszahlengenerators, damit wir auf allen Rechnern die gleichen Werte bekommen. Bei echten Anwendungen sollte die Zahl der Ziehungen immer so groß sein, dass die Ergebnisse nicht von dieser Zahl abhängen!"
   ]
  },
  {
   "cell_type": "code",
   "execution_count": null,
   "metadata": {},
   "outputs": [],
   "source": [
    "np.random.seed(seed=233423)  # noqa: NPY002\n",
    "\n",
    "n = 100_000"
   ]
  },
  {
   "cell_type": "code",
   "execution_count": null,
   "metadata": {},
   "outputs": [],
   "source": [
    "daten = pd.DataFrame(index=pd.RangeIndex(n))"
   ]
  },
  {
   "attachments": {},
   "cell_type": "markdown",
   "metadata": {},
   "source": [
    "Das Sortieren macht unten die Berechnung der Lorenzkurven einfacher."
   ]
  },
  {
   "cell_type": "code",
   "execution_count": null,
   "metadata": {},
   "outputs": [],
   "source": [
    "scale = 20_394\n",
    "s = 3.8206\n",
    "k = s * 0.756\n",
    "daten[\"DE\"] = sorted(mielke.rvs(k=k, s=s, scale=scale, size=n))"
   ]
  },
  {
   "cell_type": "code",
   "execution_count": null,
   "metadata": {},
   "outputs": [],
   "source": [
    "scale = 19_274\n",
    "s = 4.0893\n",
    "k = s * 0.9489\n",
    "daten[\"NL\"] = sorted(mielke.rvs(k=k, s=s, scale=scale, size=n))"
   ]
  },
  {
   "cell_type": "code",
   "execution_count": null,
   "metadata": {},
   "outputs": [],
   "source": [
    "scale = 17_390\n",
    "s = 3.3272\n",
    "k = s * 1.1053\n",
    "daten[\"FR\"] = sorted(mielke.rvs(k=k, s=s, scale=scale, size=n))"
   ]
  },
  {
   "cell_type": "code",
   "execution_count": null,
   "metadata": {},
   "outputs": [],
   "source": [
    "scale = 9_073\n",
    "s = 3.4433\n",
    "k = s * 0.7843\n",
    "daten[\"PL\"] = sorted(mielke.rvs(k=k, s=s, scale=scale, size=n))"
   ]
  },
  {
   "attachments": {},
   "cell_type": "markdown",
   "metadata": {},
   "source": [
    "## Deskriptive Statistiken"
   ]
  },
  {
   "cell_type": "code",
   "execution_count": null,
   "metadata": {},
   "outputs": [],
   "source": [
    "daten.describe().round(-2)"
   ]
  },
  {
   "attachments": {},
   "cell_type": "markdown",
   "metadata": {},
   "source": [
    "## Plots der Verteilungen\n",
    "\n",
    "Um Einkommensverteilungen zu schätzen, nutzt man in der Regel eine nichtparametrische Kerndichteschätzung (kernel density estimation, KDE). \n",
    "\n",
    "Am einfachsten können Sich sich diese als eine stetige Verallgemeinerung eines Histograms vorstellen, wie sie an der nächsten Graphik sehen. Die Zahl der Histogrammintervalle ist absichtlich so gewählt, dass es offensichtlich wird. Wir nutzen hier aufgrund des schweren rechten Rands der Verteilung, den wir zunächst abschneiden, sehr viele Intervalle."
   ]
  },
  {
   "cell_type": "code",
   "execution_count": null,
   "metadata": {},
   "outputs": [],
   "source": [
    "max_income = 75_000\n",
    "\n",
    "fig = ff.create_distplot(\n",
    "    [daten[\"DE\"][daten[\"DE\"] < max_income]],\n",
    "    [\"DE\"],\n",
    "    bin_size=5000,\n",
    "    show_rug=False,\n",
    ")\n",
    "fig.update_layout(\n",
    "    title=\"Geschätzte Verteilung der Einkommen in Deutschland\",\n",
    "    xaxis_title=\"Einkommen in Euro\",\n",
    "    yaxis_title=\"Dichte\",\n",
    ")\n",
    "fig.show()"
   ]
  },
  {
   "cell_type": "code",
   "execution_count": null,
   "metadata": {},
   "outputs": [],
   "source": [
    "max_income = 75_000\n",
    "\n",
    "fig = ff.create_distplot(\n",
    "    [daten[\"DE\"][daten[\"DE\"] < max_income]],\n",
    "    [\"DE\"],\n",
    "    bin_size=5000,\n",
    "    show_rug=False,\n",
    ")\n",
    "fig.update_layout(\n",
    "    title=\"Geschätzte Verteilung der Einkommen in Deutschland\",\n",
    "    xaxis_title=\"Einkommen in Euro\",\n",
    "    yaxis_title=\"Dichte\",\n",
    ")\n",
    "fig.show()"
   ]
  },
  {
   "cell_type": "code",
   "execution_count": null,
   "metadata": {},
   "outputs": [],
   "source": [
    "fig = ff.create_distplot(\n",
    "    [daten[c] for c in daten.columns],\n",
    "    daten.columns,\n",
    "    bin_size=5000,\n",
    "    show_rug=False,\n",
    ")\n",
    "fig.update_layout(\n",
    "    title=\"Geschätzte Verteilung der Einkommen\",\n",
    "    xaxis_title=\"Einkommen in Euro\",\n",
    "    yaxis_title=\"Dichte\",\n",
    ")\n",
    "fig.show()"
   ]
  },
  {
   "cell_type": "code",
   "execution_count": null,
   "metadata": {},
   "outputs": [],
   "source": [
    "max_income = 75_000\n",
    "\n",
    "fig = ff.create_distplot(\n",
    "    [daten[c].loc[daten[c] < max_income] for c in daten.columns],\n",
    "    daten.columns,\n",
    "    bin_size=5000,\n",
    "    show_rug=False,\n",
    ")\n",
    "fig.update_layout(\n",
    "    title=\"Geschätzte Verteilung der Einkommen\",\n",
    "    xaxis_title=\"Einkommen in Euro\",\n",
    "    yaxis_title=\"Dichte\",\n",
    ")\n",
    "fig.show()"
   ]
  },
  {
   "attachments": {},
   "cell_type": "markdown",
   "metadata": {},
   "source": [
    "## Perzentile"
   ]
  },
  {
   "cell_type": "code",
   "execution_count": null,
   "metadata": {},
   "outputs": [],
   "source": [
    "def perzentile(daten):\n",
    "    \"\"\"Berechnet die Perzentile der Daten.\n",
    "\n",
    "    Args:\n",
    "        daten (pd.DataFrame): Daten\n",
    "    Returns:\n",
    "        pd.Series: Perzentile\n",
    "    \"\"\"\n",
    "    p = np.arange(1, 100)\n",
    "    ausgabe = daten.quantile(p / 100)\n",
    "    ausgabe.index = p\n",
    "    return ausgabe"
   ]
  },
  {
   "cell_type": "code",
   "execution_count": null,
   "metadata": {},
   "outputs": [],
   "source": [
    "perz = perzentile(daten)\n",
    "perz.round(-2)"
   ]
  },
  {
   "cell_type": "code",
   "execution_count": null,
   "metadata": {},
   "outputs": [],
   "source": [
    "perz.plot.scatter(x=perz.index, y=perz.columns, title=\"Perzentile der Einkommen\")"
   ]
  },
  {
   "cell_type": "code",
   "execution_count": null,
   "metadata": {},
   "outputs": [],
   "source": [
    "def mittelwert_pro_perzentil(daten):\n",
    "    \"\"\"Berechnet den Mittelwert pro Perzentil.\n",
    "\n",
    "    Args:\n",
    "        daten (pd.DataFrame): Daten\n",
    "    Returns:\n",
    "        pd.DataFrame: Mittelwert pro Perzentil\n",
    "    \"\"\"\n",
    "    ausgabe = pd.DataFrame(index=range(1, 101))\n",
    "    _tmp = daten.copy()\n",
    "    for c in daten.columns:\n",
    "        _tmp[c + \"_perzentil\"] = pd.qcut(_tmp[c], q=100, labels=ausgabe.index)\n",
    "        ausgabe[c] = _tmp.groupby(c + \"_perzentil\")[c].mean()\n",
    "    return ausgabe"
   ]
  },
  {
   "cell_type": "code",
   "execution_count": null,
   "metadata": {},
   "outputs": [],
   "source": [
    "mw_pro_perzentil = mittelwert_pro_perzentil(daten)\n",
    "mw_pro_perzentil.round(-2)"
   ]
  },
  {
   "cell_type": "code",
   "execution_count": null,
   "metadata": {},
   "outputs": [],
   "source": [
    "mw_pro_perzentil.plot.scatter(\n",
    "    x=mw_pro_perzentil.index,\n",
    "    y=mw_pro_perzentil.columns,\n",
    "    title=\"Mittleres Einkommen pro Perzentil\",\n",
    ")"
   ]
  },
  {
   "attachments": {},
   "cell_type": "markdown",
   "metadata": {},
   "source": [
    "## Palma-Ratio"
   ]
  },
  {
   "cell_type": "code",
   "execution_count": null,
   "metadata": {},
   "outputs": [],
   "source": [
    "(mw_pro_perzentil.loc[91:].sum() / mw_pro_perzentil.loc[:40].sum()).to_frame().rename(\n",
    "    columns={0: \"Palma-Ratio\"},\n",
    ").round(2)"
   ]
  },
  {
   "attachments": {},
   "cell_type": "markdown",
   "metadata": {},
   "source": [
    "## Armutsrisikoquote"
   ]
  },
  {
   "cell_type": "code",
   "execution_count": null,
   "metadata": {},
   "outputs": [],
   "source": [
    "def armutsrisikoquote(einkommen):\n",
    "    \"\"\"Berechnet die Armutsrisikoquote.\n",
    "\n",
    "    Args:\n",
    "        einkommen (pd.Series): Einkommen\n",
    "    Returns:\n",
    "        float: Armutsrisikoquote\n",
    "    \"\"\"\n",
    "    n = einkommen.size\n",
    "    schwelle = einkommen.quantile(0.5) * 0.6\n",
    "    n_unter_schwelle = einkommen[einkommen < schwelle].size\n",
    "    return n_unter_schwelle / n"
   ]
  },
  {
   "cell_type": "code",
   "execution_count": null,
   "metadata": {},
   "outputs": [],
   "source": [
    "daten.apply(armutsrisikoquote).to_frame().rename(\n",
    "    columns={0: \"Armutsrisikoquote\"},\n",
    ").round(3)"
   ]
  },
  {
   "attachments": {},
   "cell_type": "markdown",
   "metadata": {},
   "source": [
    "## Theil-Index\n",
    "\n",
    "Der Theil-Index ist allgemeines Entropiemaß mit $\\alpha = 1$."
   ]
  },
  {
   "cell_type": "code",
   "execution_count": null,
   "metadata": {},
   "outputs": [],
   "source": [
    "daten.apply(entropy).to_frame().rename(columns={0: \"Theil\"}).round(3).sort_values(\n",
    "    \"Theil\",\n",
    ")"
   ]
  },
  {
   "attachments": {},
   "cell_type": "markdown",
   "metadata": {},
   "source": [
    "## Lorenzkurve"
   ]
  },
  {
   "cell_type": "code",
   "execution_count": null,
   "metadata": {},
   "outputs": [],
   "source": [
    "def lorenzkurve(daten):\n",
    "    \"\"\"Berechnet die Lorenzkurve.\n",
    "\n",
    "    Args:\n",
    "        daten (pd.DataFrame): Daten\n",
    "    Returns:\n",
    "        pd.DataFrame: Lorenzkurve\n",
    "    \"\"\"\n",
    "    lorenz = daten.copy()\n",
    "    for c in lorenz.columns:\n",
    "        lorenz[c] = lorenz[c].cumsum() / lorenz[c].sum()\n",
    "    lorenz[\"Gleichverteilung\"] = lorenz.index / lorenz.index.max()\n",
    "    lorenz.index /= lorenz.index.max()\n",
    "    return lorenz"
   ]
  },
  {
   "cell_type": "code",
   "execution_count": null,
   "metadata": {},
   "outputs": [],
   "source": [
    "lorenz = lorenzkurve(daten)\n",
    "lorenz"
   ]
  },
  {
   "cell_type": "code",
   "execution_count": null,
   "metadata": {},
   "outputs": [],
   "source": [
    "lorenz.plot.line(x=lorenz.index, y=lorenz.columns, title=\"Lorenzkurve\")"
   ]
  },
  {
   "attachments": {},
   "cell_type": "markdown",
   "metadata": {},
   "source": [
    "## Gini Koeffizient\n"
   ]
  },
  {
   "cell_type": "code",
   "execution_count": null,
   "metadata": {},
   "outputs": [],
   "source": [
    "def gini(einkommen_sortiert):\n",
    "    \"\"\"Berechnet den Gini-Koeffizienten.\n",
    "\n",
    "    Args:\n",
    "        einkommen_sortiert (pd.Series): Einkommen sortiert\n",
    "    Returns:\n",
    "        float: Gini-Koeffizient\n",
    "    \"\"\"\n",
    "    n = einkommen_sortiert.size\n",
    "    coef = 2 / n\n",
    "    const = (n + 1) / n\n",
    "    weighted_sum = sum([(i + 1) * yi for i, yi in enumerate(einkommen_sortiert)])\n",
    "    return coef * weighted_sum / (einkommen_sortiert.sum()) - const"
   ]
  },
  {
   "cell_type": "code",
   "execution_count": null,
   "metadata": {},
   "outputs": [],
   "source": [
    "daten.apply(gini).to_frame().rename(columns={0: \"Gini\"}).round(3)"
   ]
  },
  {
   "attachments": {},
   "cell_type": "markdown",
   "metadata": {},
   "source": [
    "## Aufgabe: Stellen wir uns vor, die Londoner City migriert komplett nach Amsterdam...\n",
    "\n",
    "Nun geht es darum, zu sehen, inwieweit die Maße auf Änderungen am rechten Rand der Verteilung reagieren. Wir setzen daher in den Niederlanden das oberste Perzentil der Einkommen auf 250_000 €."
   ]
  },
  {
   "cell_type": "code",
   "execution_count": null,
   "metadata": {},
   "outputs": [],
   "source": [
    "daten_verändert = daten[[\"DE\", \"NL\"]].copy()\n",
    "daten_verändert[\"NL + Banker\"] = daten[\"NL\"]\n",
    "_idx = daten_verändert.iloc[-1_000:].index\n",
    "daten_verändert.loc[_idx, \"NL + Banker\"] = 250_000"
   ]
  },
  {
   "cell_type": "code",
   "execution_count": null,
   "metadata": {},
   "outputs": [],
   "source": [
    "daten_verändert.describe().round(-2)"
   ]
  },
  {
   "attachments": {},
   "cell_type": "markdown",
   "metadata": {},
   "source": [
    "### Plot der Dichtefunktionen"
   ]
  },
  {
   "cell_type": "code",
   "execution_count": null,
   "metadata": {},
   "outputs": [],
   "source": [
    "fig = ff.create_distplot(\n",
    "    [daten_verändert[c] for c in daten_verändert.columns],\n",
    "    daten_verändert.columns,\n",
    "    bin_size=1000,\n",
    "    show_rug=False,\n",
    ")\n",
    "fig.update_layout(\n",
    "    title=\"Geschätzte Verteilung der Einkommen\",\n",
    "    xaxis_title=\"Einkommen in Euro\",\n",
    "    yaxis_title=\"Dichte\",\n",
    ")\n",
    "fig.show()"
   ]
  },
  {
   "attachments": {},
   "cell_type": "markdown",
   "metadata": {},
   "source": [
    "### Plot der Perzentile"
   ]
  },
  {
   "cell_type": "code",
   "execution_count": null,
   "metadata": {},
   "outputs": [],
   "source": [
    "## solution\n",
    "\n",
    "perz_verändert = perzentile(daten_verändert)\n",
    "perz_verändert.round(-2)\n",
    "perz_verändert.plot.scatter(\n",
    "    x=perz_verändert.index,\n",
    "    y=perz_verändert.columns,\n",
    "    title=\"Perzentile der Einkommen\",\n",
    ")"
   ]
  },
  {
   "attachments": {},
   "cell_type": "markdown",
   "metadata": {},
   "source": [
    "### Plot der Mittelwerte pro Perzentil"
   ]
  },
  {
   "cell_type": "code",
   "execution_count": null,
   "metadata": {},
   "outputs": [],
   "source": [
    "## solution\n",
    "\n",
    "mw_pro_perzentil_verändert = mittelwert_pro_perzentil(daten_verändert)\n",
    "mw_pro_perzentil_verändert.round(-2)\n",
    "mw_pro_perzentil_verändert.plot.scatter(\n",
    "    x=mw_pro_perzentil_verändert.index,\n",
    "    y=mw_pro_perzentil_verändert.columns,\n",
    "    title=\"Mittleres Einkommen pro Perzentil\",\n",
    ")"
   ]
  },
  {
   "attachments": {},
   "cell_type": "markdown",
   "metadata": {},
   "source": [
    "### Lorenzkurven mit Beispiel, dass diese sich schneiden können"
   ]
  },
  {
   "cell_type": "code",
   "execution_count": null,
   "metadata": {},
   "outputs": [],
   "source": [
    "lorenz_verändert = lorenzkurve(daten_verändert)\n",
    "lorenz_verändert\n",
    "\n",
    "lorenz_verändert.plot.line(\n",
    "    x=lorenz_verändert.index,\n",
    "    y=lorenz_verändert.columns,\n",
    "    title=\"Lorenzkurve\",\n",
    ")"
   ]
  },
  {
   "cell_type": "code",
   "execution_count": null,
   "metadata": {},
   "outputs": [],
   "source": [
    "fig = lorenz_verändert.plot.line(\n",
    "    x=lorenz_verändert.index,\n",
    "    y=lorenz_verändert.columns,\n",
    "    title=\"Lorenzkurve\",\n",
    ")\n",
    "\n",
    "fig.update_xaxes(range=[0.2, 0.7])\n",
    "fig.update_yaxes(range=[0.05, 0.55])\n",
    "fig.show()"
   ]
  },
  {
   "attachments": {},
   "cell_type": "markdown",
   "metadata": {},
   "source": [
    "### Gini-Koeffizient"
   ]
  },
  {
   "cell_type": "code",
   "execution_count": null,
   "metadata": {},
   "outputs": [],
   "source": [
    "## solution\n",
    "\n",
    "daten_verändert.apply(gini).to_frame().rename(columns={0: \"Gini\"}).round(3)"
   ]
  },
  {
   "attachments": {},
   "cell_type": "markdown",
   "metadata": {},
   "source": [
    "### Palma-Ratio"
   ]
  },
  {
   "cell_type": "code",
   "execution_count": null,
   "metadata": {},
   "outputs": [],
   "source": [
    "## solution\n",
    "\n",
    "mw_pro_perzentil = mittelwert_pro_perzentil(daten_verändert)\n",
    "(mw_pro_perzentil.loc[91:].sum() / mw_pro_perzentil.loc[:40].sum()).to_frame().rename(\n",
    "    columns={0: \"Palma-Ratio\"},\n",
    ").round(2)"
   ]
  },
  {
   "attachments": {},
   "cell_type": "markdown",
   "metadata": {},
   "source": [
    "### Armutsrisikoquote"
   ]
  },
  {
   "cell_type": "code",
   "execution_count": null,
   "metadata": {},
   "outputs": [],
   "source": [
    "## solution\n",
    "\n",
    "daten_verändert.apply(armutsrisikoquote).to_frame().rename(\n",
    "    columns={0: \"Armutsrisikoquote\"},\n",
    ").round(3)"
   ]
  },
  {
   "attachments": {},
   "cell_type": "markdown",
   "metadata": {},
   "source": [
    "### Wie ranken Sie die Einkommensverteilungen in `daten_verändert` hinsichtlich der Ungleichheit? Begründen Sie Ihre Antwort!"
   ]
  },
  {
   "attachments": {},
   "cell_type": "markdown",
   "metadata": {},
   "source": [
    "*Hier Platz für Ihre Antwort, bitte laden Sie diese auch in eCampus hoch*"
   ]
  },
  {
   "attachments": {},
   "cell_type": "markdown",
   "metadata": {},
   "source": []
  }
 ],
 "metadata": {
  "language_info": {
   "codemirror_mode": {
    "name": "ipython",
    "version": 3
   },
   "file_extension": ".py",
   "mimetype": "text/x-python",
   "name": "python",
   "nbconvert_exporter": "python",
   "pygments_lexer": "ipython3"
  }
 },
 "nbformat": 4,
 "nbformat_minor": 4
}
