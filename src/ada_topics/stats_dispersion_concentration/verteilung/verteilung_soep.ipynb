{
 "cells": [
  {
   "cell_type": "code",
   "execution_count": null,
   "metadata": {},
   "outputs": [],
   "source": [
    "from pathlib import Path\n",
    "\n",
    "import numpy as np\n",
    "import pandas as pd\n",
    "\n",
    "pd.options.plotting.backend = \"plotly\"\n",
    "\n",
    "from gettsim import (\n",
    "    compute_taxes_and_transfers,\n",
    "    set_up_policy_environment,\n",
    ")\n",
    "\n",
    "DATA = Path(\"/tmp/Daten_FSP/\")  # noqa: S108"
   ]
  },
  {
   "cell_type": "code",
   "execution_count": null,
   "metadata": {},
   "outputs": [],
   "source": [
    "## solution\n",
    "\n",
    "from finanz_und_sozialpolitik.config import SRC\n",
    "\n",
    "DATA = Path(SRC / \"daten\")  # pfad überschreiben"
   ]
  },
  {
   "attachments": {},
   "cell_type": "markdown",
   "metadata": {},
   "source": [
    "# Präsenzphase: Verteilungsmaße anhand des SOEP\n",
    "\n",
    "Nachdem wir letzte Woche GETTSIM auf das Sozio-oekonomische Panel (SOEP) angewendet haben, wollen wir diese Woche Ungleichheitsmaße im SOEP berechnen.\n",
    "\n",
    "## Datensäuberung (5 Minuten)\n",
    "\n",
    "Die Säuberung ist identisch zu letzter Woche, Sie müssen sie nicht erneut im Detail nachvollziehen. "
   ]
  },
  {
   "cell_type": "code",
   "execution_count": null,
   "metadata": {},
   "outputs": [],
   "source": [
    "data_cleaned = pd.read_pickle(DATA / \"gettsim_data_soep_2019.pkl\")\n",
    "data_cleaned[\"hh_id\"] = data_cleaned[\"hh_id\"].astype(int)\n",
    "data_cleaned[\"tu_id\"] = data_cleaned[\"tu_id\"].astype(int)\n",
    "data_cleaned = data_cleaned.set_index([\"hh_id\", \"tu_id\", \"p_id\"]).sort_index()"
   ]
  },
  {
   "attachments": {},
   "cell_type": "markdown",
   "metadata": {},
   "source": [
    "Einige Spalten werden recodiert, einige Spalten erhalten einen neuen Typ."
   ]
  },
  {
   "cell_type": "code",
   "execution_count": null,
   "metadata": {},
   "outputs": [],
   "source": [
    "data_cleaned = data_cleaned.reset_index()\n",
    "data_cleaned = data_cleaned.drop([\"anz_kinder_hh\"], axis=1)\n",
    "\n",
    "# GETTSIM unterstützt nur eine tax units pro Haushalt.\n",
    "data_cleaned[\"hh_id\"] = data_cleaned[\"tu_id\"]\n",
    "\n",
    "# Fehlende Werte auf 0 setzen.\n",
    "for c in [\n",
    "    \"kindergeld_hh\",\n",
    "    \"kinderzuschlag_hh\",\n",
    "    \"grundr_zeiten\",\n",
    "    \"grundr_bew_zeiten\",\n",
    "    \"bruttolohn_vorj_m\",\n",
    "]:\n",
    "    data_cleaned[c] = data_cleaned[c].fillna(0)\n",
    "\n",
    "# Jahresangaben runden\n",
    "for c in [\n",
    "    \"jahr_renteneintr\",\n",
    "    \"immobilie_baujahr_hh\",\n",
    "    \"grundr_zeiten\",\n",
    "    \"grundr_bew_zeiten\",\n",
    "]:\n",
    "    data_cleaned[c] = data_cleaned[c].round(0)\n",
    "\n",
    "# Boolean Datentyp\n",
    "for c in [\n",
    "    \"weiblich\",\n",
    "    \"wohnort_ost\",\n",
    "    \"anwartschaftszeit\",\n",
    "]:\n",
    "    data_cleaned[c] = data_cleaned[c].astype(bool)\n",
    "\n",
    "# Integer Datentyp\n",
    "for c in [\n",
    "    \"alter\",\n",
    "    \"geburtsmonat\",\n",
    "    \"geburtsjahr\",\n",
    "    \"jahr_renteneintr\",\n",
    "    \"m_elterngeld\",\n",
    "    \"behinderungsgrad\",\n",
    "    \"immobilie_baujahr_hh\",\n",
    "    \"grundr_zeiten\",\n",
    "    \"grundr_bew_zeiten\",\n",
    "]:\n",
    "    data_cleaned[c] = data_cleaned[c].astype(int)\n",
    "\n",
    "# Float Datentyp\n",
    "for c in [\"sozialv_pflicht_5j\"]:\n",
    "    data_cleaned[c] = data_cleaned[c].astype(float)\n",
    "\n",
    "# Unbekannte Werte zu 0\n",
    "for c in [\n",
    "    \"m_pflichtbeitrag\",\n",
    "    \"m_freiw_beitrag\",\n",
    "    \"m_mutterschutz\",\n",
    "    \"m_arbeitsunfähig\",\n",
    "    \"m_krank_ab_16_bis_24\",\n",
    "    \"m_arbeitslos\",\n",
    "    \"m_ausbild_suche\",\n",
    "    \"m_schul_ausbild\",\n",
    "    \"m_geringf_beschäft\",\n",
    "    \"m_alg1_übergang\",\n",
    "    \"m_ersatzzeit\",\n",
    "    \"m_kind_berücks_zeit\",\n",
    "    \"m_pfleg_berücks_zeit\",\n",
    "    \"y_pflichtbeitr_ab_40\",\n",
    "    \"kind_unterh_anspr_m\",\n",
    "]:\n",
    "    data_cleaned[c] = 0.0\n",
    "\n",
    "data_cleaned[\"bruttolohn_vorj_m\"] = data_cleaned[\"bruttolohn_vorj_m\"].replace(np.inf, 0)\n",
    "\n",
    "data_cleaned = data_cleaned.set_index([\"hh_id\", \"tu_id\", \"p_id\"]).sort_index()"
   ]
  },
  {
   "attachments": {},
   "cell_type": "markdown",
   "metadata": {},
   "source": [
    "## Äquivalenzeinkommen OECD (15 Minuten)\n",
    "\n",
    "Von letzter Woche übernehmen wir auch die Berechnung des Äquivalenzeinkommens der OECD."
   ]
  },
  {
   "attachments": {},
   "cell_type": "markdown",
   "metadata": {},
   "source": [
    "### Verfügbares Einkommen mit GETTSIM berechnen"
   ]
  },
  {
   "cell_type": "code",
   "execution_count": null,
   "metadata": {},
   "outputs": [],
   "source": [
    "params_dict, policy_func_dict = set_up_policy_environment(2019)\n",
    "\n",
    "ergebnisse_personen = compute_taxes_and_transfers(\n",
    "    data=data_cleaned.reset_index(),\n",
    "    functions=policy_func_dict,\n",
    "    params=params_dict,\n",
    "    targets=[\n",
    "        \"kindergeld_m_hh\",\n",
    "        \"sozialv_beitr_m\",\n",
    "        \"arbeitsl_geld_m\",\n",
    "        \"arbeitsl_geld_2_m_hh\",\n",
    "        \"kindergeld_m_tu\",\n",
    "        \"wohngeld_m_hh\",\n",
    "        \"kinderzuschl_m_hh\",\n",
    "        \"eink_st_tu\",\n",
    "        \"soli_st_tu\",\n",
    "    ],\n",
    ")"
   ]
  },
  {
   "cell_type": "code",
   "execution_count": null,
   "metadata": {},
   "outputs": [],
   "source": [
    "ergebnisse_personen = ergebnisse_personen.join(\n",
    "    data_cleaned.reset_index()[[\"bruttolohn_m\", \"hh_id\"]],\n",
    ")\n",
    "\n",
    "ergebnisse = (\n",
    "    ergebnisse_personen.reset_index()\n",
    "    .groupby(\"hh_id\")\n",
    "    .agg(\n",
    "        {\n",
    "            \"bruttolohn_m\": lambda x: x.sum(),\n",
    "            \"kindergeld_m_hh\": lambda x: x.max(),\n",
    "            \"eink_st_tu\": lambda x: x.max() / 12,\n",
    "            \"soli_st_tu\": lambda x: x.max() / 12,\n",
    "            \"sozialv_beitr_m\": lambda x: x.sum(),\n",
    "            \"arbeitsl_geld_2_m_hh\": lambda x: x.max(),\n",
    "            \"arbeitsl_geld_m\": lambda x: x.sum(),\n",
    "            \"wohngeld_m_hh\": lambda x: x.max(),\n",
    "            \"kinderzuschl_m_hh\": lambda x: x.max(),\n",
    "        },\n",
    "    )\n",
    ")\n",
    "\n",
    "# Variablen korrekt benennen\n",
    "ergebnisse = ergebnisse.rename(\n",
    "    columns={\n",
    "        \"eink_st_tu\": \"einkommensteuer_m_tu\",\n",
    "        \"soli_st_tu\": \"soli_m_tu\",\n",
    "        \"bruttolohn_m\": \"bruttolohn_m_hh\",\n",
    "        \"sozialv_beitr_m\": \"sozialv_beitr_m_hh\",\n",
    "        \"arbeitsl_geld_m\": \"arbeitsl_geld_m_hh\",\n",
    "    },\n",
    ")\n",
    "\n",
    "ergebnisse[\"verfügbares_einkommen_m_hh\"] = (\n",
    "    ergebnisse[\"bruttolohn_m_hh\"]\n",
    "    + ergebnisse[\"kindergeld_m_hh\"]\n",
    "    + ergebnisse[\"arbeitsl_geld_m_hh\"]\n",
    "    + ergebnisse[\"arbeitsl_geld_2_m_hh\"]\n",
    "    + ergebnisse[\"kinderzuschl_m_hh\"]\n",
    "    + ergebnisse[\"wohngeld_m_hh\"]\n",
    "    - ergebnisse[\"einkommensteuer_m_tu\"]\n",
    "    - ergebnisse[\"soli_m_tu\"]\n",
    "    - ergebnisse[\"sozialv_beitr_m_hh\"]\n",
    ")\n",
    "\n",
    "ergebnisse"
   ]
  },
  {
   "cell_type": "code",
   "execution_count": null,
   "metadata": {},
   "outputs": [],
   "source": [
    "data_cleaned = data_cleaned.reset_index().set_index(\"hh_id\")\n",
    "\n",
    "hh_data = data_cleaned.groupby(\"hh_id\")[\n",
    "    [\"sonstig_eink_m\", \"eink_selbst_m\", \"eink_vermietung_m\"]\n",
    "].sum()\n",
    "\n",
    "hh_data = hh_data.join(data_cleaned[\"kapital_eink_m_hh\"])\n",
    "hh_data = hh_data.join(ergebnisse[\"verfügbares_einkommen_m_hh\"])\n",
    "hh_data = hh_data.rename(\n",
    "    columns={\n",
    "        \"sonstig_eink_m\": \"sonstig_eink_m_hh\",\n",
    "        \"eink_selbst_m\": \"eink_selbst_m_hh\",\n",
    "        \"eink_vermietung_m\": \"eink_vermietung_m_hh\",\n",
    "    },\n",
    ")\n",
    "hh_data"
   ]
  },
  {
   "attachments": {},
   "cell_type": "markdown",
   "metadata": {},
   "source": [
    "#### Nettohaushaltseinkommen berechnen"
   ]
  },
  {
   "cell_type": "code",
   "execution_count": null,
   "metadata": {},
   "outputs": [],
   "source": [
    "hh_data[\"einkommen_m_hh\"] = hh_data[\n",
    "    [\n",
    "        \"verfügbares_einkommen_m_hh\",\n",
    "        \"sonstig_eink_m_hh\",\n",
    "        \"kapital_eink_m_hh\",\n",
    "        \"eink_selbst_m_hh\",\n",
    "        \"eink_vermietung_m_hh\",\n",
    "    ]\n",
    "].sum(axis=1)"
   ]
  },
  {
   "attachments": {},
   "cell_type": "markdown",
   "metadata": {},
   "source": [
    "#### Bestimmen der Gewichte\n",
    "\n",
    "Wir berechnen für Sie die Anzahl der Erwachsenen, Jugendliche ab 14 Jahren und Kinder im Haushalt."
   ]
  },
  {
   "cell_type": "code",
   "execution_count": null,
   "metadata": {},
   "outputs": [],
   "source": [
    "anz_kinder_bis_13 = (\n",
    "    data_cleaned.query(\"alter < 14 & kind == True\").groupby(\"hh_id\").size()\n",
    ").to_frame(\"anz_kinder_bis_13\")\n",
    "\n",
    "anz_kinder_ab_14 = (\n",
    "    data_cleaned.query(\"alter >= 14 & kind == True\").groupby(\"hh_id\").size()\n",
    ").to_frame(\"anz_kinder_ab_14\")\n",
    "\n",
    "anz_erwachsene = (data_cleaned.query(\"kind == False\").groupby(\"hh_id\").size()).to_frame(\n",
    "    \"anz_erwachsene\",\n",
    ")\n",
    "\n",
    "hh_data = hh_data.join(\n",
    "    [\n",
    "        anz_kinder_bis_13,\n",
    "        anz_kinder_ab_14,\n",
    "        anz_erwachsene,\n",
    "    ],\n",
    ")\n",
    "\n",
    "hh_data[\"anz_kinder_bis_13\"] = hh_data[\"anz_kinder_bis_13\"].fillna(0).astype(int)\n",
    "hh_data[\"anz_kinder_ab_14\"] = hh_data[\"anz_kinder_ab_14\"].fillna(0).astype(int)\n",
    "\n",
    "hh_data"
   ]
  },
  {
   "attachments": {},
   "cell_type": "markdown",
   "metadata": {},
   "source": [
    "Wir haben die Funktion von letzter Woche übernommen."
   ]
  },
  {
   "cell_type": "code",
   "execution_count": null,
   "metadata": {},
   "outputs": [],
   "source": [
    "def oecd_skala(data):\n",
    "    \"\"\"Berechne Gewichtungsfaktor für OECD-Äquivalenzskala.\n",
    "\n",
    "    Args:\n",
    "        data (pd.DataFrame): Datensatz mit Spalten für Anzahl Erwachsene und Kinder.\n",
    "\n",
    "    Returns:\n",
    "        pd.Series: Gewichtungsfaktor für OECD-Äquivalenzskala.\n",
    "    \"\"\"\n",
    "    return (\n",
    "        1\n",
    "        + 0.5 * (data[\"anz_erwachsene\"] + data[\"anz_kinder_ab_14\"] - 1)\n",
    "        + 0.3 * data[\"anz_kinder_bis_13\"]\n",
    "    )"
   ]
  },
  {
   "attachments": {},
   "cell_type": "markdown",
   "metadata": {},
   "source": [
    "In der folgenden Zelle wird der Gewichtungsfaktor laut OECD berechnet."
   ]
  },
  {
   "cell_type": "code",
   "execution_count": null,
   "metadata": {},
   "outputs": [],
   "source": [
    "hh_data[\"Gewichtungsfaktor OECD\"] = oecd_skala(hh_data)"
   ]
  },
  {
   "attachments": {},
   "cell_type": "markdown",
   "metadata": {},
   "source": [
    "### Bestimmen des Äquivalenzeinkommens"
   ]
  },
  {
   "cell_type": "code",
   "execution_count": null,
   "metadata": {},
   "outputs": [],
   "source": [
    "hh_data[\"Nettoäquivalenzeinkommen OECD\"] = (\n",
    "    hh_data[\"einkommen_m_hh\"] / hh_data[\"Gewichtungsfaktor OECD\"]\n",
    ")\n",
    "hh_data"
   ]
  },
  {
   "attachments": {},
   "cell_type": "markdown",
   "metadata": {},
   "source": [
    "## Aufgabe 1: Armutsrisikoquote (45 Minuten)\n",
    "\n",
    "Wir generieren zunächst eine Indikatorvariable, die angibt, ob ein Haushalt dem Armutsrisiko unterliegt."
   ]
  },
  {
   "attachments": {},
   "cell_type": "markdown",
   "metadata": {},
   "source": [
    "### Armutsgefährdungsindikator"
   ]
  },
  {
   "cell_type": "code",
   "execution_count": null,
   "metadata": {},
   "outputs": [],
   "source": [
    "hh_data[\"armutsgefährdet\"] = hh_data[\"Nettoäquivalenzeinkommen OECD\"] < 0.6 * hh_data[\n",
    "    \"Nettoäquivalenzeinkommen OECD\"\n",
    "].quantile(0.5)\n",
    "hh_data.loc[hh_data[\"Nettoäquivalenzeinkommen OECD\"].isna(), \"armutsgefährdet\"] = np.nan"
   ]
  },
  {
   "attachments": {},
   "cell_type": "markdown",
   "metadata": {},
   "source": [
    "Berechnen Sie dann zunächst die deutschlandweite Armutsrisikoquote."
   ]
  },
  {
   "attachments": {},
   "cell_type": "markdown",
   "metadata": {},
   "source": [
    "### Armutsrisikoquote deutschlandweit"
   ]
  },
  {
   "cell_type": "code",
   "execution_count": null,
   "metadata": {},
   "outputs": [],
   "source": [
    "## solution\n",
    "np.round(hh_data[\"armutsgefährdet\"].mean() * 100, 2)"
   ]
  },
  {
   "attachments": {},
   "cell_type": "markdown",
   "metadata": {},
   "source": [
    "Wir schätzen die Armutsrisikoquote in Deutschland auf ca. 19%. Das ist höher als wenn man das volle Sample mit den vollständigen Einkommensdaten verwendet. Zum Vergleich: https://www.armuts-und-reichtumsbericht.de/DE/Indikatoren/Armut/Armutsrisikoquote/A01-Indikator-Armutsrisikoquote.html"
   ]
  },
  {
   "attachments": {},
   "cell_type": "markdown",
   "metadata": {},
   "source": [
    "### Sozioökonomischen Faktoren der Bezugsperson\n",
    "\n",
    "Schauen Sie sich dann die Risikoquote getrennt nach unterschiedlichen sozioökonomischen Faktoren der Bezugsperson (Head of Household) an:\n",
    "\n",
    "- Alter der Bezugsperson\n",
    "\n",
    "- Anzahl der Kinder unter 13 Jahren\n",
    "\n",
    "- Bildungsstand der Bezugsperson\n",
    "\n",
    "- Alleinerziehend\n",
    "\n",
    "- Ost-West"
   ]
  },
  {
   "cell_type": "code",
   "execution_count": null,
   "metadata": {},
   "outputs": [],
   "source": [
    "bezugsperson_data = (\n",
    "    data_cleaned.query(\"hh_position == 'Household head'\")\n",
    "    .join(hh_data, rsuffix=\"_data_hh\")\n",
    "    .reset_index()\n",
    "    .set_index([\"hh_id\", \"p_id\"])\n",
    ")\n",
    "bezugsperson_data"
   ]
  },
  {
   "attachments": {},
   "cell_type": "markdown",
   "metadata": {},
   "source": [
    "#### Alter der Bezugsperson"
   ]
  },
  {
   "cell_type": "code",
   "execution_count": null,
   "metadata": {},
   "outputs": [],
   "source": [
    "bezugsperson_data[\"alter\"].describe()"
   ]
  },
  {
   "attachments": {},
   "cell_type": "markdown",
   "metadata": {},
   "source": [
    "Um einen Bargraphen erstellen zu können, teilen wir das Alter in Gruppen auf."
   ]
  },
  {
   "cell_type": "code",
   "execution_count": null,
   "metadata": {},
   "outputs": [],
   "source": [
    "bezugsperson_data[\"alter_kat\"] = np.where(\n",
    "    bezugsperson_data[\"alter\"].isin(range(18, 26)),\n",
    "    \"18-25\",\n",
    "    np.where(\n",
    "        bezugsperson_data[\"alter\"].isin(range(26, 66)),\n",
    "        \"26-65\",\n",
    "        np.where(bezugsperson_data[\"alter\"].isin(range(66, 101)), \"66-100\", np.nan),\n",
    "    ),\n",
    ")"
   ]
  },
  {
   "cell_type": "code",
   "execution_count": null,
   "metadata": {},
   "outputs": [],
   "source": [
    "bezugsperson_data[\"alter_kat\"].value_counts()"
   ]
  },
  {
   "cell_type": "code",
   "execution_count": null,
   "metadata": {},
   "outputs": [],
   "source": [
    "plot_data = (\n",
    "    bezugsperson_data.groupby(\"alter_kat\")[\"armutsgefährdet\"]\n",
    "    .mean()\n",
    "    .to_frame()\n",
    "    .reset_index()\n",
    ")\n",
    "plot_data.plot.bar(x=\"armutsgefährdet\", y=\"alter_kat\", orientation=\"h\")"
   ]
  },
  {
   "attachments": {},
   "cell_type": "markdown",
   "metadata": {},
   "source": [
    "#### Anzahl Kinder unter 13 Jahren\n",
    "\n",
    "Ignorieren Sie die Werte für Familien mit sehr vielen Kindern. Normalerweise würden wir hier eine Kategorie \"4+ Kinder\" bilden, aber das ist nicht Lernziel der Aufgabe."
   ]
  },
  {
   "cell_type": "code",
   "execution_count": null,
   "metadata": {},
   "outputs": [],
   "source": [
    "## solution\n",
    "plot_data = (\n",
    "    bezugsperson_data.groupby(\"anz_kinder_bis_13\")[\"armutsgefährdet\"]\n",
    "    .mean()\n",
    "    .to_frame()\n",
    "    .reset_index()\n",
    ")\n",
    "\n",
    "plot_data.plot.bar(y=\"anz_kinder_bis_13\", x=\"armutsgefährdet\", orientation=\"h\")"
   ]
  },
  {
   "attachments": {},
   "cell_type": "markdown",
   "metadata": {},
   "source": [
    "#### Bildungsstand der Bezugsperson"
   ]
  },
  {
   "cell_type": "code",
   "execution_count": null,
   "metadata": {},
   "outputs": [],
   "source": [
    "## solution\n",
    "plot_data = (\n",
    "    bezugsperson_data.groupby(\"bildungsstand\")[\"armutsgefährdet\"]\n",
    "    .mean()\n",
    "    .to_frame()\n",
    "    .reset_index()\n",
    ")\n",
    "plot_data.plot.bar(x=\"armutsgefährdet\", y=\"bildungsstand\", orientation=\"h\")"
   ]
  },
  {
   "attachments": {},
   "cell_type": "markdown",
   "metadata": {},
   "source": [
    "#### Alleinerziehend"
   ]
  },
  {
   "cell_type": "code",
   "execution_count": null,
   "metadata": {},
   "outputs": [],
   "source": [
    "## solution\n",
    "plot_data = (\n",
    "    bezugsperson_data.groupby(\"alleinerz\")[\"armutsgefährdet\"]\n",
    "    .mean()\n",
    "    .to_frame()\n",
    "    .reset_index()\n",
    ")\n",
    "plot_data.plot.bar(x=\"armutsgefährdet\", y=\"alleinerz\", orientation=\"h\")"
   ]
  },
  {
   "attachments": {},
   "cell_type": "markdown",
   "metadata": {},
   "source": [
    "#### Wohnort Ost/West"
   ]
  },
  {
   "cell_type": "code",
   "execution_count": null,
   "metadata": {},
   "outputs": [],
   "source": [
    "## solution\n",
    "plot_data = (\n",
    "    bezugsperson_data.groupby(\"wohnort_ost\")[\"armutsgefährdet\"]\n",
    "    .mean()\n",
    "    .to_frame()\n",
    "    .reset_index()\n",
    ")\n",
    "plot_data.plot.bar(x=\"armutsgefährdet\", y=\"wohnort_ost\", orientation=\"h\")"
   ]
  },
  {
   "attachments": {},
   "cell_type": "markdown",
   "metadata": {},
   "source": [
    "Interpretieren Sie die Ergebnisse. Welche der Charakteristika stehen in der stärksten Beziehung zum Armutsrisiko in Deutschland?\n",
    "\n",
    "Glauben Sie, dass dieser Beziehung ein kausaler Mechansimus unterliegt? Warum? Warum nicht?"
   ]
  },
  {
   "attachments": {},
   "cell_type": "markdown",
   "metadata": {},
   "source": [
    "!! solution\n",
    "\n",
    "Alle Faktoren scheinen in einem statistisch signifikanten Zusammenhang mit der Armutsrisikoquote zu stehen. Für die Anzahl der Kinder ist es etwas \"noisy\". Junges Alter, alleinerziehend und universitäre Bildung stehen in einem besonders starken Zusammenhang. Während Menschen mit universitärer Bildung im Schnitt halb so oft armutsgefährdet sind als andere verdoppeln junges Alter und alleinerziehend zu sein die Armutsrisikoquote.\n",
    "\n",
    "Können keine wissenschaftliche Aussage dazutreffen, weil wir nur Mittelwerte vergleichen. Es können sehr viele andere unterliegende Variablen die Effekte treiben. Nichtsdestotrotz können wir versuchen, mit unserem Wissen pro oder contra zu argumentieren.\n",
    "\n",
    "- **Bildung**\n",
    "\n",
    "  Ob Bildung das Einkommen erhöht (und damit die Armutsrisikoquote senkt) ist eines der meisterforschten Themen der Disziplin. Ein Hauptargument, warum eine reine Korrelation nicht gleich Kausalität ist, ist der sogenannte 'ability bias'. Vereinfacht gesagt, bedeutet es, dass Menschen mit höheren Bildungsabschluss auch ohne Bildung intelligenter wären als der Rest und deswegen auch ohne Bildungsabschluss viel oder mehr verdienen würden. **Radosts Meinung** Auch wenn die Effektgröße evtl etwas aufgeblasen ist, durch sowas wie den ability bias, gibt es in Deutschland einen kausalen Zusammenhang zwischen Armutsrisiko und Uni-Bildung. Warum? U.a. Weil man rein instutionell in Deutschland manche Jobs gar nicht ohne Uni-Abschluss machen kann/darf. Ein schlauer Unstudierter darf nicht einfach so als Arzt praktizieren. Und natürlich weil die Uni einen doch noch ein bisschen schlauer macht ;)\n",
    "\n",
    "- **Alleinerziehend**\n",
    "\n",
    "   Dem statistischen Zusammenhang unterliegt ein kausaler Mechanismus: allein aus Zeitrestriktion ist es schwieriger für Alleinerziehende, dasselbe auf dem Arbeitsmarkt zu leisten wie andere. Sie haben auch weniger Zeit, die sie in Ausbildung investieren könnten und werden dadurch nachhaltig auf dem Arbeitsmarkt benachteiligt. Diese wird nicht vollständig vom Staat ausgeglichen.\n",
    "\n",
    "  Natürlich ist die Effektgröße des kausalen Effektes wahrscheinlich etwas anders. Z.b. hängt der alleinerziehenden Status von meiner (ex-)partnerwahl und meiner eigenen Persönlichkeit zusammen. Inwiefern diese aber den Effekt treiben könnten ist mir unklar."
   ]
  },
  {
   "attachments": {},
   "cell_type": "markdown",
   "metadata": {},
   "source": [
    "## Aufgabe 2: Weitere Ungleichheitsmaße (30 Minuten)\n",
    "\n",
    "Wählen Sie ihre zwei Lieblingsmaße zur Messung von Ungleichheit aus der Selbstlernphase. Berechnen und visualisieren Sie diese anhand der SOEP-Daten.\n",
    "\n",
    "Über- oder unterschätzen wir die Ungleichheit systematisch in Deutschland, wenn wir sie anhand des SOEP berechnen? Begründen Sie Ihre Antwort.\n",
    "\n",
    "*Nehmen Sie hierbei an, dass die Maße, die Sie verwendet haben, die \"korrekten\" Maße zur Quantifizierung von Ungleichheit sind. Die Frage zielt nicht auf Unterschiede in den Maßen ab.*"
   ]
  },
  {
   "cell_type": "code",
   "execution_count": null,
   "metadata": {},
   "outputs": [],
   "source": [
    "## solution\n",
    "\n",
    "\n",
    "def gini(einkommen_sortiert):\n",
    "    \"\"\"Berechnet den Gini-Koeffizienten.\n",
    "\n",
    "    Args:\n",
    "        einkommen_sortiert (pd.Series): Einkommen sortiert\n",
    "    Returns:\n",
    "        float: Gini-Koeffizient\n",
    "    \"\"\"\n",
    "    n = einkommen_sortiert.size\n",
    "    coef = 2 / n\n",
    "    const = (n + 1) / n\n",
    "    weighted_sum = sum([(i + 1) * yi for i, yi in enumerate(einkommen_sortiert)])\n",
    "    return coef * weighted_sum / (einkommen_sortiert.sum()) - const"
   ]
  },
  {
   "cell_type": "code",
   "execution_count": null,
   "metadata": {},
   "outputs": [],
   "source": [
    "## solution\n",
    "gini_koef = gini(hh_data[\"Nettoäquivalenzeinkommen OECD\"].dropna().sort_values())\n",
    "np.round(gini_koef, 3)"
   ]
  },
  {
   "cell_type": "code",
   "execution_count": null,
   "metadata": {},
   "outputs": [],
   "source": [
    "## solution\n",
    "\n",
    "\n",
    "def lorenzkurve(daten):\n",
    "    \"\"\"Berechnet die Lorenzkurve.\n",
    "\n",
    "    Args:\n",
    "        daten (pd.DataFrame): Daten, die nur sortiertes Einkommen enthalten\n",
    "            und einen Index von 0-N.\n",
    "\n",
    "    Returns:\n",
    "        pd.DataFrame: Lorenzkurve\n",
    "    \"\"\"\n",
    "    lorenz = daten.copy()\n",
    "    for c in lorenz.columns:\n",
    "        lorenz[c] = lorenz[c].cumsum() / lorenz[c].sum()\n",
    "    lorenz[\"Gleichverteilung\"] = lorenz.index / lorenz.index.max()\n",
    "    lorenz.index /= lorenz.index.max()\n",
    "    return lorenz"
   ]
  },
  {
   "cell_type": "code",
   "execution_count": null,
   "metadata": {},
   "outputs": [],
   "source": [
    "## solution\n",
    "lorenz = lorenzkurve(\n",
    "    hh_data[[\"Nettoäquivalenzeinkommen OECD\"]]\n",
    "    .sort_values(\"Nettoäquivalenzeinkommen OECD\")\n",
    "    .reset_index(),\n",
    ")\n",
    "lorenz"
   ]
  },
  {
   "cell_type": "code",
   "execution_count": null,
   "metadata": {},
   "outputs": [],
   "source": [
    "## solution\n",
    "lorenz.plot.line(\n",
    "    x=lorenz.index,\n",
    "    y=[\"Gleichverteilung\", \"Nettoäquivalenzeinkommen OECD\"],\n",
    "    title=\"Lorenzkurve\",\n",
    ")"
   ]
  },
  {
   "attachments": {},
   "cell_type": "markdown",
   "metadata": {},
   "source": [
    "!! solution\n",
    "\n",
    "*ALTE LÖSUNG*\n",
    "\n",
    "Wie wir letzte Woche schon festgestellt haben, unterliegt eine Einkommenserhebung besondere Schwierigkeiten, deswegen ist natürlich davon auszugehen, dass es Verzerrungen gibt.\n",
    "Die in Aufgabe 1 angeführte Argumentation würde bedeuten, dass Messfehler im besonderen Maße am oberen und unteren Ende der Verteilung auftreten.\n",
    "\n",
    "- Falls am unteren Ende die Messfehler systematisch gegen Null tendieren (z.B. wegen Nichtangabe von erhaltenen Sozialleistungen), würde man die Ungleichheit überschätzen\n",
    "- Falls am oberen Ende systematisch zu geringe oder gar keine Werte angegeben werden, würde man die Ungleichheit unterschätzen.\n",
    "- Die Zensierung bei 18.000 € sollte zu einer Unterschätzung führen\n",
    "- Allgemein erhöht unsystematischer Messfehler die Varianz und somit viele Ungleichheitsmaße\n",
    "\n",
    "Tatsächlich kommen wir auf einen etwas höheren Gini-koeffizienten als in anderen Statistiken (ARB, auf Basis des SOEP für 2011: 0.29)."
   ]
  },
  {
   "cell_type": "markdown",
   "metadata": {},
   "source": [
    "### Aufgabe 3: Pentabilities (10min)\n",
    "\n",
    "Bitte bewerten Sie die Beiträge zur Gruppenarbeit in der Pentabilities-App. Bitte\n",
    "vergeben Sie über alle 5 Dimensionen hinweg Punkte für die Verhaltensweisen, welche Sie\n",
    "heute beobachten konnten. Denken Sie bitte daran, sowohl die Beiträge der\n",
    "Kommiliton:innen Ihrer Gruppe als auch Ihre eigenen zu bewerten."
   ]
  }
 ],
 "metadata": {
  "language_info": {
   "codemirror_mode": {
    "name": "ipython",
    "version": 3
   },
   "file_extension": ".py",
   "mimetype": "text/x-python",
   "name": "python",
   "nbconvert_exporter": "python",
   "pygments_lexer": "ipython3"
  }
 },
 "nbformat": 4,
 "nbformat_minor": 4
}
