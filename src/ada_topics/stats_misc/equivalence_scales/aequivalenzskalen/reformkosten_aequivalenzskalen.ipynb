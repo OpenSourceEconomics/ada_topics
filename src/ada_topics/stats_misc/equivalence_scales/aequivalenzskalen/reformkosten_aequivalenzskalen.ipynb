{
 "cells": [
  {
   "cell_type": "code",
   "execution_count": null,
   "metadata": {},
   "outputs": [],
   "source": [
    "from copy import deepcopy\n",
    "from pathlib import Path\n",
    "\n",
    "import numpy as np\n",
    "import pandas as pd\n",
    "from gettsim import (\n",
    "    compute_taxes_and_transfers,\n",
    "    set_up_policy_environment,\n",
    ")\n",
    "\n",
    "DATA = Path(\"/tmp/Daten_FSP/\")  # noqa: S108"
   ]
  },
  {
   "cell_type": "code",
   "execution_count": null,
   "metadata": {},
   "outputs": [],
   "source": [
    "## solution\n",
    "\n",
    "from finanz_und_sozialpolitik.config import SRC\n",
    "\n",
    "DATA = Path(SRC / \"daten\")  # pfad überschreiben"
   ]
  },
  {
   "attachments": {},
   "cell_type": "markdown",
   "metadata": {},
   "source": [
    "# Abschätzen der Kosten und Nutzen von Reformen\n",
    "\n",
    "Heute setzen wir unsere Arbeit an den SOEP Daten fort. Unser Ziel ist es die zu erwartenden Kosten einer Reform, der Kindergrundsicherung, mittels realer Daten abzuschätzen. Dabei beschäftigen wir uns auch mit den Problemen einer solchen Schätzung. Zuletzt betrachten wir die Veränderung des äquivalisierten Nettohaushaltseinkommens durch die Reform näher und schätzen so den Nutzen der untersuchten Reform ab.\n",
    "\n",
    "Achtung: Um realitätsnahe Vorhersagen zu Kosten und Nutzen der Kindergrundsicherung zu erhalten, bedarf es einer wesentlich komplexeren Datenaufbereitung als das hier der Fall ist. Sie sollten daher Ihre eigene Haltung zur Kindergrundsicherung nicht auf unseren quantitativen Ergebnissen beruhen lassen.\n",
    "\n",
    "## Datenerstellung und Aufbereitung\n",
    "\n",
    "Zunächst laden wir den gesäuberten SOEP Datensatz und vollziehen einige letzte Schritte zur Datensäuberung. Die folgenden Zellen unterscheiden sich nicht von denen der letzten Präsenzphase.\n",
    "\n",
    "Wir laden die Daten und setzen einen korrekten Index:"
   ]
  },
  {
   "cell_type": "code",
   "execution_count": null,
   "metadata": {},
   "outputs": [],
   "source": [
    "data_cleaned = pd.read_pickle(DATA / \"gettsim_data_soep_2019.pkl\")\n",
    "data_cleaned[\"hh_id\"] = data_cleaned[\"hh_id\"].astype(int)\n",
    "data_cleaned[\"tu_id\"] = data_cleaned[\"tu_id\"].astype(int)\n",
    "data_cleaned = data_cleaned.set_index([\"hh_id\", \"tu_id\", \"p_id\"]).sort_index()\n",
    "\n",
    "data_cleaned"
   ]
  },
  {
   "attachments": {},
   "cell_type": "markdown",
   "metadata": {},
   "source": [
    "Wir verwenden das Steuer- und Transfersystem von 2019, da die Daten aus dem Jahr 2019 stammen."
   ]
  },
  {
   "cell_type": "code",
   "execution_count": null,
   "metadata": {},
   "outputs": [],
   "source": [
    "params_dict, policy_func_dict = set_up_policy_environment(2019)"
   ]
  },
  {
   "attachments": {},
   "cell_type": "markdown",
   "metadata": {},
   "source": [
    "Einige Spalten werden recodiert, einige Spalten erhalten einen neuen Typ."
   ]
  },
  {
   "cell_type": "code",
   "execution_count": null,
   "metadata": {},
   "outputs": [],
   "source": [
    "data_cleaned = data_cleaned.reset_index()\n",
    "data_cleaned = data_cleaned.drop([\"anz_kinder_hh\"], axis=1)\n",
    "\n",
    "# GETTSIM unterstützt nur eine tax units pro Haushalt.\n",
    "data_cleaned[\"hh_id\"] = data_cleaned[\"tu_id\"]\n",
    "\n",
    "# Fehlende Werte auf 0 setzen.\n",
    "for c in [\n",
    "    \"kindergeld_hh\",\n",
    "    \"kinderzuschlag_hh\",\n",
    "    \"grundr_zeiten\",\n",
    "    \"grundr_bew_zeiten\",\n",
    "    \"bruttolohn_vorj_m\",\n",
    "]:\n",
    "    data_cleaned[c] = data_cleaned[c].fillna(0)\n",
    "\n",
    "# Jahresangaben runden\n",
    "for c in [\n",
    "    \"jahr_renteneintr\",\n",
    "    \"immobilie_baujahr_hh\",\n",
    "    \"grundr_zeiten\",\n",
    "    \"grundr_bew_zeiten\",\n",
    "]:\n",
    "    data_cleaned[c] = data_cleaned[c].round(0)\n",
    "\n",
    "# Boolean Datentyp\n",
    "for c in [\n",
    "    \"weiblich\",\n",
    "    \"wohnort_ost\",\n",
    "    \"anwartschaftszeit\",\n",
    "]:\n",
    "    data_cleaned[c] = data_cleaned[c].astype(bool)\n",
    "\n",
    "# Integer Datentyp\n",
    "for c in [\n",
    "    \"alter\",\n",
    "    \"geburtsmonat\",\n",
    "    \"geburtsjahr\",\n",
    "    \"jahr_renteneintr\",\n",
    "    \"m_elterngeld\",\n",
    "    \"behinderungsgrad\",\n",
    "    \"immobilie_baujahr_hh\",\n",
    "    \"grundr_zeiten\",\n",
    "    \"grundr_bew_zeiten\",\n",
    "]:\n",
    "    data_cleaned[c] = data_cleaned[c].astype(int)\n",
    "\n",
    "# Float Datentyp\n",
    "for c in [\"sozialv_pflicht_5j\"]:\n",
    "    data_cleaned[c] = data_cleaned[c].astype(float)\n",
    "\n",
    "# Unbekannte Werte zu 0\n",
    "for c in [\n",
    "    \"m_pflichtbeitrag\",\n",
    "    \"m_freiw_beitrag\",\n",
    "    \"m_mutterschutz\",\n",
    "    \"m_arbeitsunfähig\",\n",
    "    \"m_krank_ab_16_bis_24\",\n",
    "    \"m_arbeitslos\",\n",
    "    \"m_ausbild_suche\",\n",
    "    \"m_schul_ausbild\",\n",
    "    \"m_geringf_beschäft\",\n",
    "    \"m_alg1_übergang\",\n",
    "    \"m_ersatzzeit\",\n",
    "    \"m_kind_berücks_zeit\",\n",
    "    \"m_pfleg_berücks_zeit\",\n",
    "    \"y_pflichtbeitr_ab_40\",\n",
    "    \"kind_unterh_anspr_m\",\n",
    "]:\n",
    "    data_cleaned[c] = 0.0\n",
    "\n",
    "data_cleaned[\"bruttolohn_vorj_m\"] = data_cleaned[\"bruttolohn_vorj_m\"].replace(np.inf, 0)\n",
    "\n",
    "data_cleaned = data_cleaned.set_index([\"hh_id\", \"tu_id\", \"p_id\"]).sort_index()"
   ]
  },
  {
   "attachments": {},
   "cell_type": "markdown",
   "metadata": {},
   "source": [
    "Wir berechnen Steuern und Transfers im Status Quo."
   ]
  },
  {
   "cell_type": "code",
   "execution_count": null,
   "metadata": {},
   "outputs": [],
   "source": [
    "ergebnisse_personen = compute_taxes_and_transfers(\n",
    "    data=data_cleaned.reset_index(),\n",
    "    functions=policy_func_dict,\n",
    "    params=params_dict,\n",
    "    targets=[\n",
    "        \"kindergeld_m_hh\",\n",
    "        \"sozialv_beitr_m\",\n",
    "        \"arbeitsl_geld_m\",\n",
    "        \"arbeitsl_geld_2_m_hh\",\n",
    "        \"kindergeld_m_tu\",\n",
    "        \"wohngeld_m_hh\",\n",
    "        \"kinderzuschl_m_hh\",\n",
    "        \"eink_st_tu\",\n",
    "        \"soli_st_tu\",\n",
    "    ],\n",
    ")\n",
    "\n",
    "ergebnisse_personen = ergebnisse_personen.join(\n",
    "    data_cleaned.reset_index()[[\"bruttolohn_m\", \"hh_id\"]],\n",
    ")\n",
    "\n",
    "ergebnisse_personen"
   ]
  },
  {
   "attachments": {},
   "cell_type": "markdown",
   "metadata": {},
   "source": [
    "Zuletzt berechnen wir die Einkommensteuer auf monatlicher Basis und aggregieren einige Variablen."
   ]
  },
  {
   "cell_type": "code",
   "execution_count": null,
   "metadata": {},
   "outputs": [],
   "source": [
    "ergebnisse_status_quo = (\n",
    "    ergebnisse_personen.reset_index()\n",
    "    .groupby(\"hh_id\")\n",
    "    .agg(\n",
    "        {\n",
    "            \"bruttolohn_m\": lambda x: x.sum(),\n",
    "            \"kindergeld_m_hh\": lambda x: x.max(),\n",
    "            \"eink_st_tu\": lambda x: x.max() / 12,\n",
    "            \"soli_st_tu\": lambda x: x.max() / 12,\n",
    "            \"sozialv_beitr_m\": lambda x: x.sum(),\n",
    "            \"arbeitsl_geld_2_m_hh\": lambda x: x.max(),\n",
    "            \"arbeitsl_geld_m\": lambda x: x.sum(),\n",
    "            \"wohngeld_m_hh\": lambda x: x.max(),\n",
    "            \"kinderzuschl_m_hh\": lambda x: x.max(),\n",
    "        },\n",
    "    )\n",
    ")\n",
    "\n",
    "# Variablen korrekt benennen\n",
    "ergebnisse_status_quo = ergebnisse_status_quo.rename(\n",
    "    columns={\n",
    "        \"eink_st_tu\": \"einkommensteuer_m_tu\",\n",
    "        \"soli_st_tu\": \"soli_m_tu\",\n",
    "        \"bruttolohn_m\": \"bruttolohn_m_hh\",\n",
    "        \"sozialv_beitr_m\": \"sozialv_beitr_m_hh\",\n",
    "        \"arbeitsl_geld_m\": \"arbeitsl_geld_m_hh\",\n",
    "    },\n",
    ")\n",
    "\n",
    "ergebnisse_status_quo"
   ]
  },
  {
   "attachments": {},
   "cell_type": "markdown",
   "metadata": {},
   "source": [
    "### Aufgabe 1: Verfügbares Einkommen laut GETTSIM (15 Minuten)\n",
    "\n",
    "Berechnen Sie das verfügbare Einkommen eines jeden Haushalts und bennennen Sie die Spalte `Verfügbares Einkommen`."
   ]
  },
  {
   "cell_type": "code",
   "execution_count": null,
   "metadata": {},
   "outputs": [],
   "source": [
    "## solution\n",
    "\n",
    "ergebnisse_status_quo[\"Verfügbares Einkommen\"] = (\n",
    "    ergebnisse_status_quo[\"bruttolohn_m_hh\"]\n",
    "    + ergebnisse_status_quo[\"kindergeld_m_hh\"]\n",
    "    + ergebnisse_status_quo[\"arbeitsl_geld_m_hh\"]\n",
    "    + ergebnisse_status_quo[\"arbeitsl_geld_2_m_hh\"]\n",
    "    + ergebnisse_status_quo[\"kinderzuschl_m_hh\"]\n",
    "    + ergebnisse_status_quo[\"wohngeld_m_hh\"]\n",
    "    - ergebnisse_status_quo[\"einkommensteuer_m_tu\"]\n",
    "    - ergebnisse_status_quo[\"soli_m_tu\"]\n",
    "    - ergebnisse_status_quo[\"sozialv_beitr_m_hh\"]\n",
    ")\n",
    "\n",
    "ergebnisse_status_quo"
   ]
  },
  {
   "attachments": {},
   "cell_type": "markdown",
   "metadata": {},
   "source": [
    "## Implementierung Kindergrundsicherung\n",
    "\n",
    "Wir implementieren dieselbe Version einer Kindergrundsicherung von vor 3 Wochen."
   ]
  },
  {
   "cell_type": "code",
   "execution_count": null,
   "metadata": {},
   "outputs": [],
   "source": [
    "def kindergrundsicherung_m_hh(\n",
    "    kindergeld_anspruch_hh,\n",
    "    kindergrundsicherung_params,\n",
    "):\n",
    "    \"\"\"Give Kindergrundsicherung to all children eligible to Kindergeld.\n",
    "\n",
    "    Parameters\n",
    "    ----------\n",
    "    kindergeld_anspruch_hh\n",
    "    kindergeld_params\n",
    "\n",
    "    Returns:\n",
    "    -------\n",
    "    Kindergrundsicherung\n",
    "\n",
    "    \"\"\"\n",
    "    # Kindergrundsicherung is for all children eligible for kindergeld.\n",
    "    return float(kindergeld_anspruch_hh) * kindergrundsicherung_params\n",
    "\n",
    "\n",
    "policy_func_dict_mit_kindergrundsicherung = deepcopy(policy_func_dict)\n",
    "policy_func_dict_mit_kindergrundsicherung[\"kindergrundsicherung_m_hh\"] = (\n",
    "    kindergrundsicherung_m_hh\n",
    ")\n",
    "\n",
    "params_dict_mit_kindergrundsicherung = deepcopy(params_dict)\n",
    "params_dict_mit_kindergrundsicherung[\"kindergrundsicherung\"] = 746\n",
    "params_dict_mit_kindergrundsicherung[\"eink_st_abzuege\"][\"kinderfreib\"][\n",
    "    \"beitr_erz_ausb\"\n",
    "] = 0\n",
    "params_dict_mit_kindergrundsicherung[\"eink_st_abzuege\"][\"kinderfreib\"][\n",
    "    \"sächl_existenzmin\"\n",
    "] = 0\n",
    "for stufe in (3, 4, 5, 6):\n",
    "    params_dict_mit_kindergrundsicherung[\"arbeitsl_geld_2\"][\"regelsatz\"][stufe] = 0\n",
    "for kind in params_dict_mit_kindergrundsicherung[\"kindergeld\"][\"kindergeld\"]:\n",
    "    params_dict_mit_kindergrundsicherung[\"kindergeld\"][\"kindergeld\"][kind] = 0"
   ]
  },
  {
   "attachments": {},
   "cell_type": "markdown",
   "metadata": {},
   "source": [
    "Hier berechnen wir Steuern und Transfers im Reformszenario."
   ]
  },
  {
   "cell_type": "code",
   "execution_count": null,
   "metadata": {},
   "outputs": [],
   "source": [
    "ergebnisse_personen_kindergrundsicherung = compute_taxes_and_transfers(\n",
    "    data=data_cleaned.reset_index(),\n",
    "    functions=policy_func_dict_mit_kindergrundsicherung,\n",
    "    params=params_dict_mit_kindergrundsicherung,\n",
    "    targets=[\n",
    "        \"kindergrundsicherung_m_hh\",\n",
    "        \"sozialv_beitr_m\",\n",
    "        \"arbeitsl_geld_m\",\n",
    "        \"arbeitsl_geld_2_m_hh\",\n",
    "        \"kindergeld_m_tu\",\n",
    "        \"wohngeld_m_hh\",\n",
    "        \"kinderzuschl_m_hh\",\n",
    "        \"eink_st_tu\",\n",
    "        \"soli_st_tu\",\n",
    "    ],\n",
    "    rounding=False,\n",
    ")\n",
    "\n",
    "ergebnisse_personen_kindergrundsicherung = (\n",
    "    ergebnisse_personen_kindergrundsicherung.join(\n",
    "        data_cleaned.reset_index()[[\"bruttolohn_m\", \"hh_id\"]],\n",
    "    )\n",
    ")\n",
    "\n",
    "ergebnisse_kindergrundsicherung = (\n",
    "    ergebnisse_personen_kindergrundsicherung.reset_index()\n",
    "    .groupby(\"hh_id\")\n",
    "    .agg(\n",
    "        {\n",
    "            \"bruttolohn_m\": lambda x: x.sum(),\n",
    "            \"eink_st_tu\": lambda x: x.max() / 12,\n",
    "            \"soli_st_tu\": lambda x: x.max() / 12,\n",
    "            \"sozialv_beitr_m\": lambda x: x.sum(),\n",
    "            \"arbeitsl_geld_2_m_hh\": lambda x: x.max(),\n",
    "            \"arbeitsl_geld_m\": lambda x: x.sum(),\n",
    "            \"wohngeld_m_hh\": lambda x: x.max(),\n",
    "            \"kinderzuschl_m_hh\": lambda x: x.max(),\n",
    "            \"kindergrundsicherung_m_hh\": lambda x: x.max(),\n",
    "        },\n",
    "    )\n",
    ")\n",
    "\n",
    "# Variablen korrekt benennen\n",
    "ergebnisse_kindergrundsicherung = ergebnisse_kindergrundsicherung.rename(\n",
    "    columns={\n",
    "        \"eink_st_tu\": \"einkommensteuer_m_tu\",\n",
    "        \"soli_st_tu\": \"soli_m_tu\",\n",
    "        \"bruttolohn_m\": \"bruttolohn_m_hh\",\n",
    "        \"sozialv_beitr_m\": \"sozialv_beitr_m_hh\",\n",
    "        \"arbeitsl_geld_m\": \"arbeitsl_geld_m_hh\",\n",
    "    },\n",
    ")\n",
    "\n",
    "ergebnisse_kindergrundsicherung"
   ]
  },
  {
   "attachments": {},
   "cell_type": "markdown",
   "metadata": {},
   "source": [
    "### Aufgabe 2: Verfügbares Einkommen nach Reform (10 Minuten)\n",
    "\n",
    "Berechnen Sie das verfügbare Einkommen eines jeden Haushalts nach der Reform und bennennen Sie die Spalte `Verfügbares Einkommen`."
   ]
  },
  {
   "cell_type": "code",
   "execution_count": null,
   "metadata": {},
   "outputs": [],
   "source": [
    "## solution\n",
    "\n",
    "ergebnisse_kindergrundsicherung[\"Verfügbares Einkommen\"] = (\n",
    "    ergebnisse_kindergrundsicherung[\"bruttolohn_m_hh\"]\n",
    "    + ergebnisse_kindergrundsicherung[\"kindergrundsicherung_m_hh\"]\n",
    "    + ergebnisse_kindergrundsicherung[\"arbeitsl_geld_m_hh\"]\n",
    "    + ergebnisse_kindergrundsicherung[\"arbeitsl_geld_2_m_hh\"]\n",
    "    + ergebnisse_kindergrundsicherung[\"wohngeld_m_hh\"]\n",
    "    - ergebnisse_kindergrundsicherung[\"einkommensteuer_m_tu\"]\n",
    "    - ergebnisse_kindergrundsicherung[\"soli_m_tu\"]\n",
    "    - ergebnisse_kindergrundsicherung[\"sozialv_beitr_m_hh\"]\n",
    ")\n",
    "\n",
    "ergebnisse_kindergrundsicherung"
   ]
  },
  {
   "attachments": {},
   "cell_type": "markdown",
   "metadata": {},
   "source": [
    "## Vergleich vor und nach Reform\n",
    "\n",
    "Um den Effekt der Reform zu ermitteln fügen wir die beiden DataFrames mit den Ergebnissen zusammen."
   ]
  },
  {
   "cell_type": "code",
   "execution_count": null,
   "metadata": {},
   "outputs": [],
   "source": [
    "ergebnisse = pd.concat(\n",
    "    [ergebnisse_status_quo, ergebnisse_kindergrundsicherung],\n",
    "    keys=[\"vor Reform\", \"nach Reform\"],\n",
    "    names=[\"Szenario\", \"hh_id\"],\n",
    ")\n",
    "\n",
    "ergebnisse"
   ]
  },
  {
   "attachments": {},
   "cell_type": "markdown",
   "metadata": {},
   "source": [
    "### Aufgabe 3: Differenz des verfügbaren Einkommens (10 Minuten)\n",
    "\n",
    "Berechnen Sie die Differenz des verfügbaren Einkommens für jeden Haushalt."
   ]
  },
  {
   "cell_type": "code",
   "execution_count": null,
   "metadata": {},
   "outputs": [],
   "source": [
    "## solution\n",
    "\n",
    "differenz = (\n",
    "    ergebnisse.loc[\"nach Reform\", \"Verfügbares Einkommen\"]\n",
    "    - ergebnisse.loc[\"vor Reform\", \"Verfügbares Einkommen\"]\n",
    ").to_frame(\"Differenz Verfügbares Einkommen\")\n",
    "\n",
    "differenz"
   ]
  },
  {
   "attachments": {},
   "cell_type": "markdown",
   "metadata": {},
   "source": [
    "### Aufgabe 4: Kosten der Reform (20 Minuten)\n",
    "\n",
    "Wie teuer wäre die Reform ungefähr pro Haushalt?"
   ]
  },
  {
   "cell_type": "code",
   "execution_count": null,
   "metadata": {},
   "outputs": [],
   "source": [
    "## solution\n",
    "\n",
    "kosten_kgs = differenz[\"Differenz Verfügbares Einkommen\"].mean().round(0)\n",
    "print(\"Pro Haushalt:\", kosten_kgs)"
   ]
  },
  {
   "attachments": {},
   "cell_type": "markdown",
   "metadata": {},
   "source": [
    "Warum würden die Kosten in der Realität vermutlich anders ausfallen? Warum sind die Kosten vermutlich geringer?"
   ]
  },
  {
   "attachments": {},
   "cell_type": "markdown",
   "metadata": {},
   "source": [
    "!! solution\n",
    "\n",
    "Allgemein:\n",
    "- Berechnung geht von 100% TakeUp aller Sozialleistungen aus, die wegfallen würden\n",
    "- 100% TakeUp der KGS unwahrscheinlich\n",
    "- Daten sind nicht gewichtet\n",
    "- Keinerlei Verhaltensreaktionen modelliert\n",
    "\n",
    "Warum geringer?\n",
    "- Das Status Quo geht von dem 2019 policy Umfeld aus, seitdem wurde aber bspw. das\n",
    "  Kindergeld erhöht\n",
    "- Da wir die 2023 Zahlen für die KGS Reform verwendet haben sind dadurch die Kosten hier\n",
    "  zu hoch"
   ]
  },
  {
   "attachments": {},
   "cell_type": "markdown",
   "metadata": {},
   "source": [
    "### Aufgabe 5: Unterschiede im äquivalisierten Nettoeinkommen (insgesamt 55 Minuten)\n",
    "\n",
    "Nun bestimmen wir die Wirkung der Reform auf das Nettoäquivalenzeinkommen der Haushalte.\n",
    "\n",
    "#### Aufgabe 5.1: Bestimmen der Gewichte (10 Minuten)\n",
    "\n",
    "Zunächst berechnen wir für Sie die Anzahl der Erwachsenen, Jugendliche ab 14 Jahren und Kinder im Haushalt."
   ]
  },
  {
   "cell_type": "code",
   "execution_count": null,
   "metadata": {},
   "outputs": [],
   "source": [
    "ergebnisse = ergebnisse.reset_index().set_index(\"hh_id\")\n",
    "\n",
    "anz_kinder_bis_13 = (\n",
    "    data_cleaned.query(\"alter < 14 & kind == True\").groupby(\"hh_id\").size()\n",
    ").to_frame(\"anz_kinder_bis_13\")\n",
    "\n",
    "anz_kinder_ab_14 = (\n",
    "    data_cleaned.query(\"alter >= 14 & kind == True\").groupby(\"hh_id\").size()\n",
    ").to_frame(\"anz_kinder_ab_14\")\n",
    "\n",
    "anz_erwachsene = (data_cleaned.query(\"kind == False\").groupby(\"hh_id\").size()).to_frame(\n",
    "    \"anz_erwachsene\",\n",
    ")\n",
    "\n",
    "ergebnisse = ergebnisse.join(\n",
    "    [\n",
    "        anz_kinder_bis_13,\n",
    "        anz_kinder_ab_14,\n",
    "        anz_erwachsene,\n",
    "    ],\n",
    ")\n",
    "\n",
    "ergebnisse[\"anz_kinder_bis_13\"] = ergebnisse[\"anz_kinder_bis_13\"].fillna(0).astype(int)\n",
    "ergebnisse[\"anz_kinder_ab_14\"] = ergebnisse[\"anz_kinder_ab_14\"].fillna(0).astype(int)\n",
    "\n",
    "ergebnisse = ergebnisse.reset_index().set_index([\"Szenario\", \"hh_id\"]).sort_index()\n",
    "\n",
    "ergebnisse"
   ]
  },
  {
   "attachments": {},
   "cell_type": "markdown",
   "metadata": {},
   "source": [
    "Wir werden zwei Äquivalenzskalen verwenden. Die Wurzelfunktionsskala haben wir für Sie in der folgenden Code Zeile definiert. Definieren Sie nach diesem Beispiel eine Funktion, die die OECD Äquivalenzskala implementiert."
   ]
  },
  {
   "cell_type": "code",
   "execution_count": null,
   "metadata": {},
   "outputs": [],
   "source": [
    "def wurzel_skala(data):\n",
    "    \"\"\"Berechne Gewichtungsfaktor nach Wurzelfunktion.\n",
    "\n",
    "    Args:\n",
    "        data (pd.DataFrame): Datensatz mit Spalten für Anzahl Erwachsene und Kinder.\n",
    "\n",
    "    Returns:\n",
    "        pd.Series: Gewichtungsfaktor für OECD-Äquivalenzskala.\n",
    "    \"\"\"\n",
    "    return (\n",
    "        data[\"anz_erwachsene\"] + data[\"anz_kinder_ab_14\"] + data[\"anz_kinder_bis_13\"]\n",
    "    ) ** (1 / 2)\n",
    "\n",
    "\n",
    "ergebnisse[\"Gewichtungsfaktor Wurzel\"] = wurzel_skala(ergebnisse)\n",
    "ergebnisse"
   ]
  },
  {
   "cell_type": "code",
   "execution_count": null,
   "metadata": {},
   "outputs": [],
   "source": [
    "## solution\n",
    "\n",
    "\n",
    "def oecd_skala(data):\n",
    "    \"\"\"Berechne Gewichtungsfaktor für OECD-Äquivalenzskala.\n",
    "\n",
    "    Args:\n",
    "        data (pd.DataFrame): Datensatz mit Spalten für Anzahl Erwachsene und Kinder.\n",
    "\n",
    "    Returns:\n",
    "        pd.Series: Gewichtungsfaktor für OECD-Äquivalenzskala.\n",
    "    \"\"\"\n",
    "    return (\n",
    "        1\n",
    "        + 0.5 * (data[\"anz_erwachsene\"] + data[\"anz_kinder_ab_14\"] - 1)\n",
    "        + 0.3 * data[\"anz_kinder_bis_13\"]\n",
    "    )"
   ]
  },
  {
   "attachments": {},
   "cell_type": "markdown",
   "metadata": {},
   "source": [
    "In der folgenden Zelle wird der Gewichtungsfaktor laut OECD berechnet."
   ]
  },
  {
   "cell_type": "code",
   "execution_count": null,
   "metadata": {},
   "outputs": [],
   "source": [
    "ergebnisse[\"Gewichtungsfaktor OECD\"] = oecd_skala(ergebnisse)\n",
    "ergebnisse"
   ]
  },
  {
   "attachments": {},
   "cell_type": "markdown",
   "metadata": {},
   "source": [
    "#### Aufgabe 5.2: Bestimmen des Äquivalenzeinkommens (5 Minuten)\n",
    "\n",
    "Bestimmen Sie das verfügbare Äquivalenzeinkommen für beide Gewichtungsarten. Nennen Sie die Spalte des verfügbaren Äquivalenzeinkommens nach Wurzelfunktion `Verfügbares Äquivalenzeinkommen Wurzel`. Nennen Sie die entsprechende OECD Spalte `Verfügbares Äquivalenzeinkommen OECD`."
   ]
  },
  {
   "cell_type": "code",
   "execution_count": null,
   "metadata": {},
   "outputs": [],
   "source": [
    "## solution\n",
    "\n",
    "ergebnisse[\"Verfügbares Äquivalenzeinkommen Wurzel\"] = (\n",
    "    ergebnisse[\"Verfügbares Einkommen\"] / ergebnisse[\"Gewichtungsfaktor Wurzel\"]\n",
    ")\n",
    "\n",
    "ergebnisse[\"Verfügbares Äquivalenzeinkommen OECD\"] = (\n",
    "    ergebnisse[\"Verfügbares Einkommen\"] / ergebnisse[\"Gewichtungsfaktor OECD\"]\n",
    ")"
   ]
  },
  {
   "attachments": {},
   "cell_type": "markdown",
   "metadata": {},
   "source": [
    "#### Aufgabe 5.3: Differenz des Äquivalenzeinkommens (10 Minuten)\n",
    "\n",
    "Im Folgenden bestimmen wir die Differenz des Äquivalenzeinkommens laut Wurzelfunktion. Bestimmen Sie die Differenz des Äquivalenzeinkommens laut OECD Skala und joinen Sie ihr Ergebnis an den `differenz_äquivalenzeinkommen` DataFrame.\n",
    "\n",
    "**Tipp:** Bevor Sie joinen, können Sie der neuen Spalte einen besseren Namen geben. Hier haben wir das beispielhaft für eine pandas Series namens `differenz_oecd` getan.\n",
    "\n",
    "```python\n",
    "differenz_oecd.name = \"Differenz Verfügbares Äquivalenzeinkommen OECD\"\n",
    "``````"
   ]
  },
  {
   "cell_type": "code",
   "execution_count": null,
   "metadata": {},
   "outputs": [],
   "source": [
    "differenz_äquivalenzeinkommen = (\n",
    "    ergebnisse.loc[\"nach Reform\", \"Verfügbares Äquivalenzeinkommen Wurzel\"]\n",
    "    - ergebnisse.loc[\"vor Reform\", \"Verfügbares Äquivalenzeinkommen Wurzel\"]\n",
    ").to_frame(\"Differenz Verfügbares Äquivalenzeinkommen Wurzel\")\n",
    "\n",
    "differenz_äquivalenzeinkommen"
   ]
  },
  {
   "cell_type": "code",
   "execution_count": null,
   "metadata": {},
   "outputs": [],
   "source": [
    "## solution\n",
    "\n",
    "differenz_oecd = (\n",
    "    ergebnisse.loc[\"nach Reform\", \"Verfügbares Äquivalenzeinkommen OECD\"]\n",
    "    - ergebnisse.loc[\"vor Reform\", \"Verfügbares Äquivalenzeinkommen OECD\"]\n",
    ")\n",
    "\n",
    "differenz_oecd.name = \"Differenz Verfügbares Äquivalenzeinkommen OECD\"\n",
    "\n",
    "differenz_äquivalenzeinkommen = differenz_äquivalenzeinkommen.join(differenz_oecd)\n",
    "differenz_äquivalenzeinkommen"
   ]
  },
  {
   "cell_type": "code",
   "execution_count": null,
   "metadata": {},
   "outputs": [],
   "source": [
    "differenz_äquivalenzeinkommen = differenz_äquivalenzeinkommen.join(\n",
    "    ergebnisse[[\"anz_erwachsene\", \"anz_kinder_ab_14\", \"anz_kinder_bis_13\"]],\n",
    ")\n",
    "\n",
    "differenz_äquivalenzeinkommen"
   ]
  },
  {
   "attachments": {},
   "cell_type": "markdown",
   "metadata": {},
   "source": [
    "#### Aufgabe 5.4: Vergleich der Differenzen (15 Minuten)\n",
    "\n",
    "Erstellen Sie eine Spalte `anz_kinder` im DataFrame `differenz_äquivalenzeinkommen`, welche die Anzahl der Kinder in den beiden Altersstufen aufsummiert.\n",
    "\n",
    "Gruppieren Sie danach Haushalte nach `anz_erwachsene` und `anz_kinder`. Lassen Sie sich den Mittelwert der Differenz des verfügbaren Äquivalenzeinkommens für jede Gruppe und für beide Skalen anzeigen."
   ]
  },
  {
   "cell_type": "code",
   "execution_count": null,
   "metadata": {},
   "outputs": [],
   "source": [
    "## solution\n",
    "\n",
    "differenz_äquivalenzeinkommen[\"anz_kinder\"] = differenz_äquivalenzeinkommen[\n",
    "    [\"anz_kinder_ab_14\", \"anz_kinder_bis_13\"]\n",
    "].sum(axis=1)\n",
    "\n",
    "differenz_äquivalenzeinkommen.groupby([\"anz_erwachsene\", \"anz_kinder\"])[\n",
    "    [\n",
    "        \"Differenz Verfügbares Äquivalenzeinkommen Wurzel\",\n",
    "        \"Differenz Verfügbares Äquivalenzeinkommen OECD\",\n",
    "    ]\n",
    "].mean()"
   ]
  },
  {
   "attachments": {},
   "cell_type": "markdown",
   "metadata": {},
   "source": [
    "#### Aufgabe 5.5: Interpretation (15 Minuten)"
   ]
  },
  {
   "attachments": {},
   "cell_type": "markdown",
   "metadata": {},
   "source": [
    "Diskutieren Sie folgende Fragen:\n",
    "\n",
    "1. Für welche Haushalte verändert sich das Äquivalenzeinkommen durch die Reform am stärksten? \n",
    "2. Warum verändert es sich auch für Single-Haushalte ohne Kinder? \n",
    "3. Weshalb profitieren einige Haushalte stäker als andere?"
   ]
  },
  {
   "attachments": {},
   "cell_type": "markdown",
   "metadata": {},
   "source": [
    "!! solution\n",
    "\n",
    "Differenzen am größten für Haushalte mit 2+ Kindern\n",
    "\n",
    "1. Vieles spielt eine Rolle, insbesondere Grundsicherung vs. Kindergeld vs. Kinderfreibetrag\n",
    "1. Diskrepanzen bei Mehrpersonenhaushalten \"ohne\" Kinder werden getrieben von erwachsenen Kindern im Haushalt\n",
    "1. Diskrepanz bei Einpersonenhaushalten wird getrieben von allein lebenden 15-18jährigen"
   ]
  },
  {
   "attachments": {},
   "cell_type": "markdown",
   "metadata": {},
   "source": [
    "### Aufgabe 6: Pentabilities (10min)\n",
    "\n",
    "Bitte bewerten Sie die Beiträge zur Gruppenarbeit in der Pentabilities-App. Bitte\n",
    "vergeben Sie über alle 5 Dimensionen hinweg Punkte für die Verhaltensweisen, welche Sie\n",
    "heute beobachten konnten. Denken Sie bitte daran, sowohl die Beiträge der\n",
    "Kommiliton:innen Ihrer Gruppe als auch Ihre eigenen zu bewerten."
   ]
  }
 ],
 "metadata": {
  "language_info": {
   "codemirror_mode": {
    "name": "ipython",
    "version": 3
   },
   "file_extension": ".py",
   "mimetype": "text/x-python",
   "name": "python",
   "nbconvert_exporter": "python",
   "pygments_lexer": "ipython3"
  }
 },
 "nbformat": 4,
 "nbformat_minor": 2
}
